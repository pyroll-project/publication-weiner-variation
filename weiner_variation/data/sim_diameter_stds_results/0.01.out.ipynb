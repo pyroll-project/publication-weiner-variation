{
 "cells": [
  {
   "cell_type": "markdown",
   "id": "87eca59d9255a11f",
   "metadata": {
    "collapsed": false,
    "jupyter": {
     "outputs_hidden": false
    },
    "papermill": {
     "duration": 0.006531,
     "end_time": "2024-07-17T13:08:17.358319",
     "exception": false,
     "start_time": "2024-07-17T13:08:17.351788",
     "status": "completed"
    },
    "tags": []
   },
   "source": [
    "# Simulation of the Process with Input Variations"
   ]
  },
  {
   "cell_type": "markdown",
   "id": "d32b7558d586b87c",
   "metadata": {
    "collapsed": false,
    "jupyter": {
     "outputs_hidden": false
    },
    "papermill": {
     "duration": 0.006249,
     "end_time": "2024-07-17T13:08:17.371953",
     "exception": false,
     "start_time": "2024-07-17T13:08:17.365704",
     "status": "completed"
    },
    "tags": []
   },
   "source": [
    "Import PyRolL modules."
   ]
  },
  {
   "cell_type": "code",
   "execution_count": 1,
   "id": "dd58074fbc858aa5",
   "metadata": {
    "editable": true,
    "execution": {
     "iopub.execute_input": "2024-07-17T13:08:17.386411Z",
     "iopub.status.busy": "2024-07-17T13:08:17.385997Z",
     "iopub.status.idle": "2024-07-17T13:08:18.260289Z",
     "shell.execute_reply": "2024-07-17T13:08:18.259624Z"
    },
    "papermill": {
     "duration": 0.884557,
     "end_time": "2024-07-17T13:08:18.262762",
     "exception": false,
     "start_time": "2024-07-17T13:08:17.378205",
     "status": "completed"
    },
    "slideshow": {
     "slide_type": ""
    },
    "tags": []
   },
   "outputs": [],
   "source": [
    "import pyroll.basic as pr\n",
    "import pyroll.export as pre"
   ]
  },
  {
   "cell_type": "markdown",
   "id": "90e80818cdd8e1fd",
   "metadata": {
    "editable": true,
    "papermill": {
     "duration": 0.006545,
     "end_time": "2024-07-17T13:08:18.276008",
     "exception": false,
     "start_time": "2024-07-17T13:08:18.269463",
     "status": "completed"
    },
    "slideshow": {
     "slide_type": ""
    },
    "tags": []
   },
   "source": [
    "Import the process data."
   ]
  },
  {
   "cell_type": "code",
   "execution_count": 2,
   "id": "521e00d66a44dd25",
   "metadata": {
    "editable": true,
    "execution": {
     "iopub.execute_input": "2024-07-17T13:08:18.290771Z",
     "iopub.status.busy": "2024-07-17T13:08:18.290198Z",
     "iopub.status.idle": "2024-07-17T13:08:18.493299Z",
     "shell.execute_reply": "2024-07-17T13:08:18.492553Z"
    },
    "papermill": {
     "duration": 0.213238,
     "end_time": "2024-07-17T13:08:18.495665",
     "exception": false,
     "start_time": "2024-07-17T13:08:18.282427",
     "status": "completed"
    },
    "slideshow": {
     "slide_type": ""
    },
    "tags": []
   },
   "outputs": [],
   "source": [
    "from weiner_variation.sim.process import PASS_SEQUENCE, IN_PROFILE, TEMPERATURE, DIAMETER, TEMPERATURE_STD, DIAMETER_STD, create_in_profile\n",
    "from weiner_variation.sim.config import SAMPLE_COUNT, SEED\n",
    "from weiner_variation.sim.data import DrawInput\n",
    "from weiner_variation.config import DATA_DIR"
   ]
  },
  {
   "cell_type": "markdown",
   "id": "a10b5e1fd26dbacc",
   "metadata": {
    "editable": true,
    "papermill": {
     "duration": 0.006331,
     "end_time": "2024-07-17T13:08:18.508796",
     "exception": false,
     "start_time": "2024-07-17T13:08:18.502465",
     "status": "completed"
    },
    "slideshow": {
     "slide_type": ""
    },
    "tags": []
   },
   "source": [
    "Import further libraries."
   ]
  },
  {
   "cell_type": "code",
   "execution_count": 3,
   "id": "ea3837b5c12ed530",
   "metadata": {
    "editable": true,
    "execution": {
     "iopub.execute_input": "2024-07-17T13:08:18.522975Z",
     "iopub.status.busy": "2024-07-17T13:08:18.522798Z",
     "iopub.status.idle": "2024-07-17T13:08:18.660476Z",
     "shell.execute_reply": "2024-07-17T13:08:18.659815Z"
    },
    "papermill": {
     "duration": 0.147415,
     "end_time": "2024-07-17T13:08:18.662738",
     "exception": false,
     "start_time": "2024-07-17T13:08:18.515323",
     "status": "completed"
    },
    "slideshow": {
     "slide_type": ""
    },
    "tags": []
   },
   "outputs": [],
   "source": [
    "import pandas as pd\n",
    "from copy import deepcopy\n",
    "from scipy.stats import norm\n",
    "import numpy as np\n",
    "import tqdm\n",
    "from multiprocessing import Pool"
   ]
  },
  {
   "cell_type": "markdown",
   "id": "95ca8ac63a6e4e9a",
   "metadata": {
    "editable": true,
    "papermill": {
     "duration": 0.006374,
     "end_time": "2024-07-17T13:08:18.675907",
     "exception": false,
     "start_time": "2024-07-17T13:08:18.669533",
     "status": "completed"
    },
    "slideshow": {
     "slide_type": ""
    },
    "tags": []
   },
   "source": [
    "Parameters for notebook using papermill."
   ]
  },
  {
   "cell_type": "code",
   "execution_count": 4,
   "id": "f7a871812e201394",
   "metadata": {
    "editable": true,
    "execution": {
     "iopub.execute_input": "2024-07-17T13:08:18.690932Z",
     "iopub.status.busy": "2024-07-17T13:08:18.690381Z",
     "iopub.status.idle": "2024-07-17T13:08:18.693684Z",
     "shell.execute_reply": "2024-07-17T13:08:18.693047Z"
    },
    "papermill": {
     "duration": 0.013337,
     "end_time": "2024-07-17T13:08:18.695760",
     "exception": false,
     "start_time": "2024-07-17T13:08:18.682423",
     "status": "completed"
    },
    "slideshow": {
     "slide_type": ""
    },
    "tags": [
     "parameters"
    ]
   },
   "outputs": [],
   "source": [
    "DIAMETER_STD = DIAMETER_STD\n",
    "TEMPERATURE_STD = TEMPERATURE_STD\n",
    "OUTPUT_FILENAME = DATA_DIR / \"sim_input_results.csv\""
   ]
  },
  {
   "cell_type": "code",
   "execution_count": 5,
   "id": "b4d5b6d6",
   "metadata": {
    "execution": {
     "iopub.execute_input": "2024-07-17T13:08:18.710449Z",
     "iopub.status.busy": "2024-07-17T13:08:18.710080Z",
     "iopub.status.idle": "2024-07-17T13:08:18.713686Z",
     "shell.execute_reply": "2024-07-17T13:08:18.713127Z"
    },
    "papermill": {
     "duration": 0.013439,
     "end_time": "2024-07-17T13:08:18.715849",
     "exception": false,
     "start_time": "2024-07-17T13:08:18.702410",
     "status": "completed"
    },
    "tags": [
     "injected-parameters"
    ]
   },
   "outputs": [],
   "source": [
    "# Parameters\n",
    "OUTPUT_FILENAME = \"/home/maxwe/Git/pyroll/publication-weiner-variation/weiner_variation/data/sim_diameter_stds_results/0.01.csv\"\n",
    "DIAMETER_STD = 0.0005\n"
   ]
  },
  {
   "cell_type": "markdown",
   "id": "db84db3a0ac19dae",
   "metadata": {
    "editable": true,
    "papermill": {
     "duration": 0.004312,
     "end_time": "2024-07-17T13:08:18.726893",
     "exception": false,
     "start_time": "2024-07-17T13:08:18.722581",
     "status": "completed"
    },
    "slideshow": {
     "slide_type": ""
    },
    "tags": []
   },
   "source": [
    "Create distribution functions for input values."
   ]
  },
  {
   "cell_type": "code",
   "execution_count": 6,
   "id": "7cbfb72a23c99c34",
   "metadata": {
    "editable": true,
    "execution": {
     "iopub.execute_input": "2024-07-17T13:08:18.733863Z",
     "iopub.status.busy": "2024-07-17T13:08:18.732982Z",
     "iopub.status.idle": "2024-07-17T13:08:18.740082Z",
     "shell.execute_reply": "2024-07-17T13:08:18.739252Z"
    },
    "papermill": {
     "duration": 0.012384,
     "end_time": "2024-07-17T13:08:18.741769",
     "exception": false,
     "start_time": "2024-07-17T13:08:18.729385",
     "status": "completed"
    },
    "slideshow": {
     "slide_type": ""
    },
    "tags": []
   },
   "outputs": [],
   "source": [
    "diameter_dist = norm(loc=DIAMETER, scale=DIAMETER_STD)\n",
    "temperature_dist = norm(loc=TEMPERATURE, scale=TEMPERATURE_STD)"
   ]
  },
  {
   "cell_type": "markdown",
   "id": "aa3f488cb233a201",
   "metadata": {
    "editable": true,
    "papermill": {
     "duration": 0.002396,
     "end_time": "2024-07-17T13:08:18.746827",
     "exception": false,
     "start_time": "2024-07-17T13:08:18.744431",
     "status": "completed"
    },
    "slideshow": {
     "slide_type": ""
    },
    "tags": []
   },
   "source": [
    "Draw random inputs from distributions."
   ]
  },
  {
   "cell_type": "code",
   "execution_count": 7,
   "id": "3b127d24085f8d48",
   "metadata": {
    "editable": true,
    "execution": {
     "iopub.execute_input": "2024-07-17T13:08:18.753588Z",
     "iopub.status.busy": "2024-07-17T13:08:18.752844Z",
     "iopub.status.idle": "2024-07-17T13:08:18.759551Z",
     "shell.execute_reply": "2024-07-17T13:08:18.758542Z"
    },
    "papermill": {
     "duration": 0.012062,
     "end_time": "2024-07-17T13:08:18.761311",
     "exception": false,
     "start_time": "2024-07-17T13:08:18.749249",
     "status": "completed"
    },
    "slideshow": {
     "slide_type": ""
    },
    "tags": []
   },
   "outputs": [],
   "source": [
    "RNG = np.random.default_rng(SEED)\n",
    "diameters = diameter_dist.rvs(random_state=RNG, size=SAMPLE_COUNT)\n",
    "temperatures = temperature_dist.rvs(random_state=RNG, size=SAMPLE_COUNT)\n",
    "\n",
    "draws = [\n",
    "    DrawInput(d, t)\n",
    "    for d, t in zip(diameters, temperatures)\n",
    "]"
   ]
  },
  {
   "cell_type": "markdown",
   "id": "ae457863a6f14204",
   "metadata": {
    "editable": true,
    "papermill": {
     "duration": 0.002389,
     "end_time": "2024-07-17T13:08:18.766278",
     "exception": false,
     "start_time": "2024-07-17T13:08:18.763889",
     "status": "completed"
    },
    "slideshow": {
     "slide_type": ""
    },
    "tags": []
   },
   "source": [
    "Define a worker function creating the in profile, running the solution procedure and extracting results."
   ]
  },
  {
   "cell_type": "code",
   "execution_count": 8,
   "id": "bf37b0999a06930",
   "metadata": {
    "editable": true,
    "execution": {
     "iopub.execute_input": "2024-07-17T13:08:18.772691Z",
     "iopub.status.busy": "2024-07-17T13:08:18.772301Z",
     "iopub.status.idle": "2024-07-17T13:08:18.777632Z",
     "shell.execute_reply": "2024-07-17T13:08:18.776774Z"
    },
    "papermill": {
     "duration": 0.010622,
     "end_time": "2024-07-17T13:08:18.779336",
     "exception": false,
     "start_time": "2024-07-17T13:08:18.768714",
     "status": "completed"
    },
    "slideshow": {
     "slide_type": ""
    },
    "tags": []
   },
   "outputs": [],
   "source": [
    "def worker(draw: DrawInput):    \n",
    "    ip = create_in_profile(draw.diameter)\n",
    "    ip.temperature = draw.temperature\n",
    "\n",
    "    sequence = deepcopy(PASS_SEQUENCE)\n",
    "    sequence.solve(ip)       \n",
    "\n",
    "    return pre.to_pandas(sequence)"
   ]
  },
  {
   "cell_type": "markdown",
   "id": "9f83e35a998a132d",
   "metadata": {
    "editable": true,
    "papermill": {
     "duration": 0.002451,
     "end_time": "2024-07-17T13:08:18.784551",
     "exception": false,
     "start_time": "2024-07-17T13:08:18.782100",
     "status": "completed"
    },
    "slideshow": {
     "slide_type": ""
    },
    "tags": []
   },
   "source": [
    "Run the simulations using a process pool."
   ]
  },
  {
   "cell_type": "code",
   "execution_count": 9,
   "id": "4dd249dcf8221bf2",
   "metadata": {
    "ExecuteTime": {
     "end_time": "2024-07-17T10:22:42.312360Z",
     "start_time": "2024-07-17T10:22:39.946703Z"
    },
    "editable": true,
    "execution": {
     "iopub.execute_input": "2024-07-17T13:08:18.790976Z",
     "iopub.status.busy": "2024-07-17T13:08:18.790583Z",
     "iopub.status.idle": "2024-07-17T13:08:20.143361Z",
     "shell.execute_reply": "2024-07-17T13:08:20.142871Z"
    },
    "papermill": {
     "duration": 1.35739,
     "end_time": "2024-07-17T13:08:20.144420",
     "exception": false,
     "start_time": "2024-07-17T13:08:18.787030",
     "status": "completed"
    },
    "slideshow": {
     "slide_type": ""
    },
    "tags": []
   },
   "outputs": [
    {
     "name": "stderr",
     "output_type": "stream",
     "text": [
      "\r",
      "  0%|          | 0/10 [00:00<?, ?it/s]"
     ]
    },
    {
     "name": "stderr",
     "output_type": "stream",
     "text": [
      "\r",
      " 10%|█         | 1/10 [00:00<00:05,  1.57it/s]"
     ]
    },
    {
     "name": "stderr",
     "output_type": "stream",
     "text": [
      "\r",
      " 70%|███████   | 7/10 [00:01<00:00,  6.59it/s]"
     ]
    },
    {
     "name": "stderr",
     "output_type": "stream",
     "text": [
      "\r",
      "100%|██████████| 10/10 [00:01<00:00,  8.00it/s]"
     ]
    },
    {
     "name": "stderr",
     "output_type": "stream",
     "text": [
      "\n"
     ]
    }
   ],
   "source": [
    "results = list(tqdm.tqdm(Pool().imap(worker, draws), total=SAMPLE_COUNT))"
   ]
  },
  {
   "cell_type": "markdown",
   "id": "72d0d1f0975284d7",
   "metadata": {
    "editable": true,
    "papermill": {
     "duration": 0.002749,
     "end_time": "2024-07-17T13:08:20.150020",
     "exception": false,
     "start_time": "2024-07-17T13:08:20.147271",
     "status": "completed"
    },
    "slideshow": {
     "slide_type": ""
    },
    "tags": []
   },
   "source": [
    "Create a dataframe from results."
   ]
  },
  {
   "cell_type": "code",
   "execution_count": 10,
   "id": "29450ec772706a41",
   "metadata": {
    "ExecuteTime": {
     "end_time": "2024-07-17T10:22:47.912243Z",
     "start_time": "2024-07-17T10:22:47.706044Z"
    },
    "editable": true,
    "execution": {
     "iopub.execute_input": "2024-07-17T13:08:20.156483Z",
     "iopub.status.busy": "2024-07-17T13:08:20.156295Z",
     "iopub.status.idle": "2024-07-17T13:08:20.269593Z",
     "shell.execute_reply": "2024-07-17T13:08:20.268781Z"
    },
    "papermill": {
     "duration": 0.118784,
     "end_time": "2024-07-17T13:08:20.271519",
     "exception": false,
     "start_time": "2024-07-17T13:08:20.152735",
     "status": "completed"
    },
    "slideshow": {
     "slide_type": ""
    },
    "tags": []
   },
   "outputs": [
    {
     "data": {
      "text/html": [
       "<div>\n",
       "<style scoped>\n",
       "    .dataframe tbody tr th:only-of-type {\n",
       "        vertical-align: middle;\n",
       "    }\n",
       "\n",
       "    .dataframe tbody tr th {\n",
       "        vertical-align: top;\n",
       "    }\n",
       "\n",
       "    .dataframe thead tr th {\n",
       "        text-align: left;\n",
       "    }\n",
       "</style>\n",
       "<table border=\"1\" class=\"dataframe\">\n",
       "  <thead>\n",
       "    <tr>\n",
       "      <th></th>\n",
       "      <th colspan=\"10\" halign=\"left\">abs_draught</th>\n",
       "      <th>...</th>\n",
       "      <th colspan=\"10\" halign=\"left\">zouhar_contact_in_width</th>\n",
       "    </tr>\n",
       "    <tr>\n",
       "      <th></th>\n",
       "      <th>0</th>\n",
       "      <th>2</th>\n",
       "      <th>4</th>\n",
       "      <th>6</th>\n",
       "      <th>8</th>\n",
       "      <th>10</th>\n",
       "      <th>12</th>\n",
       "      <th>14</th>\n",
       "      <th>16</th>\n",
       "      <th>18</th>\n",
       "      <th>...</th>\n",
       "      <th>8</th>\n",
       "      <th>10</th>\n",
       "      <th>12</th>\n",
       "      <th>14</th>\n",
       "      <th>16</th>\n",
       "      <th>18</th>\n",
       "      <th>20</th>\n",
       "      <th>22</th>\n",
       "      <th>24</th>\n",
       "      <th>26</th>\n",
       "    </tr>\n",
       "  </thead>\n",
       "  <tbody>\n",
       "    <tr>\n",
       "      <th>0</th>\n",
       "      <td>-0.015199</td>\n",
       "      <td>-0.020108</td>\n",
       "      <td>-0.014416</td>\n",
       "      <td>-0.019864</td>\n",
       "      <td>-0.009265</td>\n",
       "      <td>-0.011217</td>\n",
       "      <td>-0.007984</td>\n",
       "      <td>-0.010435</td>\n",
       "      <td>-0.004337</td>\n",
       "      <td>-0.005911</td>\n",
       "      <td>...</td>\n",
       "      <td>0.026</td>\n",
       "      <td>0.005702</td>\n",
       "      <td>0.0198</td>\n",
       "      <td>0.003251</td>\n",
       "      <td>0.0148</td>\n",
       "      <td>0.004102</td>\n",
       "      <td>0.012</td>\n",
       "      <td>0.003359</td>\n",
       "      <td>0.01</td>\n",
       "      <td>0.002245</td>\n",
       "    </tr>\n",
       "    <tr>\n",
       "      <th>1</th>\n",
       "      <td>-0.015341</td>\n",
       "      <td>-0.020255</td>\n",
       "      <td>-0.014425</td>\n",
       "      <td>-0.019869</td>\n",
       "      <td>-0.009266</td>\n",
       "      <td>-0.011217</td>\n",
       "      <td>-0.007984</td>\n",
       "      <td>-0.010435</td>\n",
       "      <td>-0.004337</td>\n",
       "      <td>-0.005911</td>\n",
       "      <td>...</td>\n",
       "      <td>0.026</td>\n",
       "      <td>0.005702</td>\n",
       "      <td>0.0198</td>\n",
       "      <td>0.003251</td>\n",
       "      <td>0.0148</td>\n",
       "      <td>0.004102</td>\n",
       "      <td>0.012</td>\n",
       "      <td>0.003359</td>\n",
       "      <td>0.01</td>\n",
       "      <td>0.002245</td>\n",
       "    </tr>\n",
       "    <tr>\n",
       "      <th>2</th>\n",
       "      <td>-0.015547</td>\n",
       "      <td>-0.020466</td>\n",
       "      <td>-0.014439</td>\n",
       "      <td>-0.019875</td>\n",
       "      <td>-0.009267</td>\n",
       "      <td>-0.011218</td>\n",
       "      <td>-0.007985</td>\n",
       "      <td>-0.010435</td>\n",
       "      <td>-0.004337</td>\n",
       "      <td>-0.005911</td>\n",
       "      <td>...</td>\n",
       "      <td>0.026</td>\n",
       "      <td>0.005701</td>\n",
       "      <td>0.0198</td>\n",
       "      <td>0.003251</td>\n",
       "      <td>0.0148</td>\n",
       "      <td>0.004102</td>\n",
       "      <td>0.012</td>\n",
       "      <td>0.003359</td>\n",
       "      <td>0.01</td>\n",
       "      <td>0.002245</td>\n",
       "    </tr>\n",
       "    <tr>\n",
       "      <th>3</th>\n",
       "      <td>-0.015052</td>\n",
       "      <td>-0.019954</td>\n",
       "      <td>-0.014406</td>\n",
       "      <td>-0.019859</td>\n",
       "      <td>-0.009264</td>\n",
       "      <td>-0.011216</td>\n",
       "      <td>-0.007984</td>\n",
       "      <td>-0.010435</td>\n",
       "      <td>-0.004337</td>\n",
       "      <td>-0.005911</td>\n",
       "      <td>...</td>\n",
       "      <td>0.026</td>\n",
       "      <td>0.005702</td>\n",
       "      <td>0.0198</td>\n",
       "      <td>0.003252</td>\n",
       "      <td>0.0148</td>\n",
       "      <td>0.004102</td>\n",
       "      <td>0.012</td>\n",
       "      <td>0.003359</td>\n",
       "      <td>0.01</td>\n",
       "      <td>0.002245</td>\n",
       "    </tr>\n",
       "    <tr>\n",
       "      <th>4</th>\n",
       "      <td>-0.015346</td>\n",
       "      <td>-0.020261</td>\n",
       "      <td>-0.014426</td>\n",
       "      <td>-0.019869</td>\n",
       "      <td>-0.009266</td>\n",
       "      <td>-0.011217</td>\n",
       "      <td>-0.007984</td>\n",
       "      <td>-0.010435</td>\n",
       "      <td>-0.004337</td>\n",
       "      <td>-0.005911</td>\n",
       "      <td>...</td>\n",
       "      <td>0.026</td>\n",
       "      <td>0.005702</td>\n",
       "      <td>0.0198</td>\n",
       "      <td>0.003251</td>\n",
       "      <td>0.0148</td>\n",
       "      <td>0.004102</td>\n",
       "      <td>0.012</td>\n",
       "      <td>0.003359</td>\n",
       "      <td>0.01</td>\n",
       "      <td>0.002245</td>\n",
       "    </tr>\n",
       "    <tr>\n",
       "      <th>5</th>\n",
       "      <td>-0.015511</td>\n",
       "      <td>-0.020429</td>\n",
       "      <td>-0.014436</td>\n",
       "      <td>-0.019874</td>\n",
       "      <td>-0.009267</td>\n",
       "      <td>-0.011218</td>\n",
       "      <td>-0.007985</td>\n",
       "      <td>-0.010435</td>\n",
       "      <td>-0.004337</td>\n",
       "      <td>-0.005911</td>\n",
       "      <td>...</td>\n",
       "      <td>0.026</td>\n",
       "      <td>0.005701</td>\n",
       "      <td>0.0198</td>\n",
       "      <td>0.003251</td>\n",
       "      <td>0.0148</td>\n",
       "      <td>0.004102</td>\n",
       "      <td>0.012</td>\n",
       "      <td>0.003359</td>\n",
       "      <td>0.01</td>\n",
       "      <td>0.002245</td>\n",
       "    </tr>\n",
       "    <tr>\n",
       "      <th>6</th>\n",
       "      <td>-0.015128</td>\n",
       "      <td>-0.020034</td>\n",
       "      <td>-0.014411</td>\n",
       "      <td>-0.019861</td>\n",
       "      <td>-0.009264</td>\n",
       "      <td>-0.011216</td>\n",
       "      <td>-0.007984</td>\n",
       "      <td>-0.010435</td>\n",
       "      <td>-0.004337</td>\n",
       "      <td>-0.005911</td>\n",
       "      <td>...</td>\n",
       "      <td>0.026</td>\n",
       "      <td>0.005702</td>\n",
       "      <td>0.0198</td>\n",
       "      <td>0.003252</td>\n",
       "      <td>0.0148</td>\n",
       "      <td>0.004102</td>\n",
       "      <td>0.012</td>\n",
       "      <td>0.003359</td>\n",
       "      <td>0.01</td>\n",
       "      <td>0.002245</td>\n",
       "    </tr>\n",
       "    <tr>\n",
       "      <th>7</th>\n",
       "      <td>-0.015110</td>\n",
       "      <td>-0.020015</td>\n",
       "      <td>-0.014410</td>\n",
       "      <td>-0.019861</td>\n",
       "      <td>-0.009264</td>\n",
       "      <td>-0.011216</td>\n",
       "      <td>-0.007984</td>\n",
       "      <td>-0.010435</td>\n",
       "      <td>-0.004337</td>\n",
       "      <td>-0.005911</td>\n",
       "      <td>...</td>\n",
       "      <td>0.026</td>\n",
       "      <td>0.005702</td>\n",
       "      <td>0.0198</td>\n",
       "      <td>0.003252</td>\n",
       "      <td>0.0148</td>\n",
       "      <td>0.004102</td>\n",
       "      <td>0.012</td>\n",
       "      <td>0.003359</td>\n",
       "      <td>0.01</td>\n",
       "      <td>0.002245</td>\n",
       "    </tr>\n",
       "    <tr>\n",
       "      <th>8</th>\n",
       "      <td>-0.014372</td>\n",
       "      <td>-0.019194</td>\n",
       "      <td>-0.014353</td>\n",
       "      <td>-0.019832</td>\n",
       "      <td>-0.009259</td>\n",
       "      <td>-0.011214</td>\n",
       "      <td>-0.007984</td>\n",
       "      <td>-0.010435</td>\n",
       "      <td>-0.004337</td>\n",
       "      <td>-0.005911</td>\n",
       "      <td>...</td>\n",
       "      <td>0.026</td>\n",
       "      <td>0.005703</td>\n",
       "      <td>0.0198</td>\n",
       "      <td>0.003252</td>\n",
       "      <td>0.0148</td>\n",
       "      <td>0.004102</td>\n",
       "      <td>0.012</td>\n",
       "      <td>0.003359</td>\n",
       "      <td>0.01</td>\n",
       "      <td>0.002245</td>\n",
       "    </tr>\n",
       "    <tr>\n",
       "      <th>9</th>\n",
       "      <td>-0.014976</td>\n",
       "      <td>-0.019874</td>\n",
       "      <td>-0.014401</td>\n",
       "      <td>-0.019856</td>\n",
       "      <td>-0.009263</td>\n",
       "      <td>-0.011216</td>\n",
       "      <td>-0.007984</td>\n",
       "      <td>-0.010435</td>\n",
       "      <td>-0.004337</td>\n",
       "      <td>-0.005911</td>\n",
       "      <td>...</td>\n",
       "      <td>0.026</td>\n",
       "      <td>0.005702</td>\n",
       "      <td>0.0198</td>\n",
       "      <td>0.003252</td>\n",
       "      <td>0.0148</td>\n",
       "      <td>0.004102</td>\n",
       "      <td>0.012</td>\n",
       "      <td>0.003359</td>\n",
       "      <td>0.01</td>\n",
       "      <td>0.002245</td>\n",
       "    </tr>\n",
       "  </tbody>\n",
       "</table>\n",
       "<p>10 rows × 3891 columns</p>\n",
       "</div>"
      ],
      "text/plain": [
       "  abs_draught                                                              \\\n",
       "           0         2         4         6         8         10        12   \n",
       "0   -0.015199 -0.020108 -0.014416 -0.019864 -0.009265 -0.011217 -0.007984   \n",
       "1   -0.015341 -0.020255 -0.014425 -0.019869 -0.009266 -0.011217 -0.007984   \n",
       "2   -0.015547 -0.020466 -0.014439 -0.019875 -0.009267 -0.011218 -0.007985   \n",
       "3   -0.015052 -0.019954 -0.014406 -0.019859 -0.009264 -0.011216 -0.007984   \n",
       "4   -0.015346 -0.020261 -0.014426 -0.019869 -0.009266 -0.011217 -0.007984   \n",
       "5   -0.015511 -0.020429 -0.014436 -0.019874 -0.009267 -0.011218 -0.007985   \n",
       "6   -0.015128 -0.020034 -0.014411 -0.019861 -0.009264 -0.011216 -0.007984   \n",
       "7   -0.015110 -0.020015 -0.014410 -0.019861 -0.009264 -0.011216 -0.007984   \n",
       "8   -0.014372 -0.019194 -0.014353 -0.019832 -0.009259 -0.011214 -0.007984   \n",
       "9   -0.014976 -0.019874 -0.014401 -0.019856 -0.009263 -0.011216 -0.007984   \n",
       "\n",
       "                                 ... zouhar_contact_in_width            \\\n",
       "         14        16        18  ...                      8         10   \n",
       "0 -0.010435 -0.004337 -0.005911  ...                   0.026  0.005702   \n",
       "1 -0.010435 -0.004337 -0.005911  ...                   0.026  0.005702   \n",
       "2 -0.010435 -0.004337 -0.005911  ...                   0.026  0.005701   \n",
       "3 -0.010435 -0.004337 -0.005911  ...                   0.026  0.005702   \n",
       "4 -0.010435 -0.004337 -0.005911  ...                   0.026  0.005702   \n",
       "5 -0.010435 -0.004337 -0.005911  ...                   0.026  0.005701   \n",
       "6 -0.010435 -0.004337 -0.005911  ...                   0.026  0.005702   \n",
       "7 -0.010435 -0.004337 -0.005911  ...                   0.026  0.005702   \n",
       "8 -0.010435 -0.004337 -0.005911  ...                   0.026  0.005703   \n",
       "9 -0.010435 -0.004337 -0.005911  ...                   0.026  0.005702   \n",
       "\n",
       "                                                                        \n",
       "       12        14      16        18     20        22    24        26  \n",
       "0  0.0198  0.003251  0.0148  0.004102  0.012  0.003359  0.01  0.002245  \n",
       "1  0.0198  0.003251  0.0148  0.004102  0.012  0.003359  0.01  0.002245  \n",
       "2  0.0198  0.003251  0.0148  0.004102  0.012  0.003359  0.01  0.002245  \n",
       "3  0.0198  0.003252  0.0148  0.004102  0.012  0.003359  0.01  0.002245  \n",
       "4  0.0198  0.003251  0.0148  0.004102  0.012  0.003359  0.01  0.002245  \n",
       "5  0.0198  0.003251  0.0148  0.004102  0.012  0.003359  0.01  0.002245  \n",
       "6  0.0198  0.003252  0.0148  0.004102  0.012  0.003359  0.01  0.002245  \n",
       "7  0.0198  0.003252  0.0148  0.004102  0.012  0.003359  0.01  0.002245  \n",
       "8  0.0198  0.003252  0.0148  0.004102  0.012  0.003359  0.01  0.002245  \n",
       "9  0.0198  0.003252  0.0148  0.004102  0.012  0.003359  0.01  0.002245  \n",
       "\n",
       "[10 rows x 3891 columns]"
      ]
     },
     "execution_count": 10,
     "metadata": {},
     "output_type": "execute_result"
    }
   ],
   "source": [
    "df = pd.DataFrame([r.stack().swaplevel().sort_index() for r in results])\n",
    "df"
   ]
  },
  {
   "cell_type": "markdown",
   "id": "892b9e66e3913562",
   "metadata": {
    "editable": true,
    "papermill": {
     "duration": 0.004911,
     "end_time": "2024-07-17T13:08:20.284666",
     "exception": false,
     "start_time": "2024-07-17T13:08:20.279755",
     "status": "completed"
    },
    "slideshow": {
     "slide_type": ""
    },
    "tags": []
   },
   "source": [
    "Save dataframe to CSV file."
   ]
  },
  {
   "cell_type": "code",
   "execution_count": 11,
   "id": "dbb964f17b02f3d5",
   "metadata": {
    "ExecuteTime": {
     "end_time": "2024-07-17T10:22:59.183303Z",
     "start_time": "2024-07-17T10:22:58.000604Z"
    },
    "execution": {
     "iopub.execute_input": "2024-07-17T13:08:20.292131Z",
     "iopub.status.busy": "2024-07-17T13:08:20.291813Z",
     "iopub.status.idle": "2024-07-17T13:08:21.455637Z",
     "shell.execute_reply": "2024-07-17T13:08:21.454770Z"
    },
    "papermill": {
     "duration": 1.170254,
     "end_time": "2024-07-17T13:08:21.457981",
     "exception": false,
     "start_time": "2024-07-17T13:08:20.287727",
     "status": "completed"
    },
    "tags": []
   },
   "outputs": [],
   "source": [
    "df.to_csv(OUTPUT_FILENAME)"
   ]
  },
  {
   "cell_type": "code",
   "execution_count": null,
   "id": "5ae76746-6123-4629-a64a-4e14faac638e",
   "metadata": {
    "editable": true,
    "papermill": {
     "duration": 0.008031,
     "end_time": "2024-07-17T13:08:21.474314",
     "exception": false,
     "start_time": "2024-07-17T13:08:21.466283",
     "status": "completed"
    },
    "slideshow": {
     "slide_type": ""
    },
    "tags": []
   },
   "outputs": [],
   "source": []
  }
 ],
 "metadata": {
  "kernelspec": {
   "display_name": "Python 3 (ipykernel)",
   "language": "python",
   "name": "python3"
  },
  "language_info": {
   "codemirror_mode": {
    "name": "ipython",
    "version": 3
   },
   "file_extension": ".py",
   "mimetype": "text/x-python",
   "name": "python",
   "nbconvert_exporter": "python",
   "pygments_lexer": "ipython3",
   "version": "3.12.4"
  },
  "papermill": {
   "default_parameters": {},
   "duration": 5.449669,
   "end_time": "2024-07-17T13:08:22.002404",
   "environment_variables": {},
   "exception": null,
   "input_path": "/home/maxwe/Git/pyroll/publication-weiner-variation/weiner_variation/sim/sim_input.ipynb",
   "output_path": "/home/maxwe/Git/pyroll/publication-weiner-variation/weiner_variation/data/sim_diameter_stds_results/0.01.out.ipynb",
   "parameters": {
    "DIAMETER_STD": 0.0005,
    "OUTPUT_FILENAME": "/home/maxwe/Git/pyroll/publication-weiner-variation/weiner_variation/data/sim_diameter_stds_results/0.01.csv"
   },
   "start_time": "2024-07-17T13:08:16.552735",
   "version": "2.6.0"
  }
 },
 "nbformat": 4,
 "nbformat_minor": 5
}
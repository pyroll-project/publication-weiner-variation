{
 "cells": [
  {
   "cell_type": "markdown",
   "id": "87eca59d9255a11f",
   "metadata": {
    "collapsed": false,
    "jupyter": {
     "outputs_hidden": false
    },
    "papermill": {
     "duration": 0.006679,
     "end_time": "2024-07-17T13:08:34.048444",
     "exception": false,
     "start_time": "2024-07-17T13:08:34.041765",
     "status": "completed"
    },
    "tags": []
   },
   "source": [
    "# Simulation of the Process with Input Variations"
   ]
  },
  {
   "cell_type": "markdown",
   "id": "d32b7558d586b87c",
   "metadata": {
    "collapsed": false,
    "jupyter": {
     "outputs_hidden": false
    },
    "papermill": {
     "duration": 0.006195,
     "end_time": "2024-07-17T13:08:34.061666",
     "exception": false,
     "start_time": "2024-07-17T13:08:34.055471",
     "status": "completed"
    },
    "tags": []
   },
   "source": [
    "Import PyRolL modules."
   ]
  },
  {
   "cell_type": "code",
   "execution_count": 1,
   "id": "dd58074fbc858aa5",
   "metadata": {
    "editable": true,
    "execution": {
     "iopub.execute_input": "2024-07-17T13:08:34.075749Z",
     "iopub.status.busy": "2024-07-17T13:08:34.075559Z",
     "iopub.status.idle": "2024-07-17T13:08:34.949997Z",
     "shell.execute_reply": "2024-07-17T13:08:34.949168Z"
    },
    "papermill": {
     "duration": 0.884384,
     "end_time": "2024-07-17T13:08:34.952292",
     "exception": false,
     "start_time": "2024-07-17T13:08:34.067908",
     "status": "completed"
    },
    "slideshow": {
     "slide_type": ""
    },
    "tags": []
   },
   "outputs": [],
   "source": [
    "import pyroll.basic as pr\n",
    "import pyroll.export as pre"
   ]
  },
  {
   "cell_type": "markdown",
   "id": "90e80818cdd8e1fd",
   "metadata": {
    "editable": true,
    "papermill": {
     "duration": 0.006526,
     "end_time": "2024-07-17T13:08:34.965562",
     "exception": false,
     "start_time": "2024-07-17T13:08:34.959036",
     "status": "completed"
    },
    "slideshow": {
     "slide_type": ""
    },
    "tags": []
   },
   "source": [
    "Import the process data."
   ]
  },
  {
   "cell_type": "code",
   "execution_count": 2,
   "id": "521e00d66a44dd25",
   "metadata": {
    "editable": true,
    "execution": {
     "iopub.execute_input": "2024-07-17T13:08:34.979642Z",
     "iopub.status.busy": "2024-07-17T13:08:34.979378Z",
     "iopub.status.idle": "2024-07-17T13:08:35.179827Z",
     "shell.execute_reply": "2024-07-17T13:08:35.179280Z"
    },
    "papermill": {
     "duration": 0.210183,
     "end_time": "2024-07-17T13:08:35.182075",
     "exception": false,
     "start_time": "2024-07-17T13:08:34.971892",
     "status": "completed"
    },
    "slideshow": {
     "slide_type": ""
    },
    "tags": []
   },
   "outputs": [],
   "source": [
    "from weiner_variation.sim.process import PASS_SEQUENCE, IN_PROFILE, TEMPERATURE, DIAMETER, TEMPERATURE_STD, DIAMETER_STD, create_in_profile\n",
    "from weiner_variation.sim.config import SAMPLE_COUNT, SEED\n",
    "from weiner_variation.sim.data import DrawInput\n",
    "from weiner_variation.config import DATA_DIR"
   ]
  },
  {
   "cell_type": "markdown",
   "id": "a10b5e1fd26dbacc",
   "metadata": {
    "editable": true,
    "papermill": {
     "duration": 0.006375,
     "end_time": "2024-07-17T13:08:35.195199",
     "exception": false,
     "start_time": "2024-07-17T13:08:35.188824",
     "status": "completed"
    },
    "slideshow": {
     "slide_type": ""
    },
    "tags": []
   },
   "source": [
    "Import further libraries."
   ]
  },
  {
   "cell_type": "code",
   "execution_count": 3,
   "id": "ea3837b5c12ed530",
   "metadata": {
    "editable": true,
    "execution": {
     "iopub.execute_input": "2024-07-17T13:08:35.209808Z",
     "iopub.status.busy": "2024-07-17T13:08:35.209631Z",
     "iopub.status.idle": "2024-07-17T13:08:35.348227Z",
     "shell.execute_reply": "2024-07-17T13:08:35.347576Z"
    },
    "papermill": {
     "duration": 0.148855,
     "end_time": "2024-07-17T13:08:35.350611",
     "exception": false,
     "start_time": "2024-07-17T13:08:35.201756",
     "status": "completed"
    },
    "slideshow": {
     "slide_type": ""
    },
    "tags": []
   },
   "outputs": [],
   "source": [
    "import pandas as pd\n",
    "from copy import deepcopy\n",
    "from scipy.stats import norm\n",
    "import numpy as np\n",
    "import tqdm\n",
    "from multiprocessing import Pool"
   ]
  },
  {
   "cell_type": "markdown",
   "id": "95ca8ac63a6e4e9a",
   "metadata": {
    "editable": true,
    "papermill": {
     "duration": 0.006443,
     "end_time": "2024-07-17T13:08:35.363877",
     "exception": false,
     "start_time": "2024-07-17T13:08:35.357434",
     "status": "completed"
    },
    "slideshow": {
     "slide_type": ""
    },
    "tags": []
   },
   "source": [
    "Parameters for notebook using papermill."
   ]
  },
  {
   "cell_type": "code",
   "execution_count": 4,
   "id": "f7a871812e201394",
   "metadata": {
    "editable": true,
    "execution": {
     "iopub.execute_input": "2024-07-17T13:08:35.378485Z",
     "iopub.status.busy": "2024-07-17T13:08:35.378192Z",
     "iopub.status.idle": "2024-07-17T13:08:35.381609Z",
     "shell.execute_reply": "2024-07-17T13:08:35.380944Z"
    },
    "papermill": {
     "duration": 0.013167,
     "end_time": "2024-07-17T13:08:35.383499",
     "exception": false,
     "start_time": "2024-07-17T13:08:35.370332",
     "status": "completed"
    },
    "slideshow": {
     "slide_type": ""
    },
    "tags": [
     "parameters"
    ]
   },
   "outputs": [],
   "source": [
    "DIAMETER_STD = DIAMETER_STD\n",
    "TEMPERATURE_STD = TEMPERATURE_STD\n",
    "OUTPUT_FILENAME = DATA_DIR / \"sim_input_results.csv\""
   ]
  },
  {
   "cell_type": "code",
   "execution_count": 5,
   "id": "cb08db86",
   "metadata": {
    "execution": {
     "iopub.execute_input": "2024-07-17T13:08:35.398770Z",
     "iopub.status.busy": "2024-07-17T13:08:35.398021Z",
     "iopub.status.idle": "2024-07-17T13:08:35.403098Z",
     "shell.execute_reply": "2024-07-17T13:08:35.402065Z"
    },
    "papermill": {
     "duration": 0.015287,
     "end_time": "2024-07-17T13:08:35.405429",
     "exception": false,
     "start_time": "2024-07-17T13:08:35.390142",
     "status": "completed"
    },
    "tags": [
     "injected-parameters"
    ]
   },
   "outputs": [],
   "source": [
    "# Parameters\n",
    "OUTPUT_FILENAME = \"/home/maxwe/Git/pyroll/publication-weiner-variation/weiner_variation/data/sim_diameter_stds_results/0.02.csv\"\n",
    "DIAMETER_STD = 0.001\n"
   ]
  },
  {
   "cell_type": "markdown",
   "id": "db84db3a0ac19dae",
   "metadata": {
    "editable": true,
    "papermill": {
     "duration": 0.006096,
     "end_time": "2024-07-17T13:08:35.418247",
     "exception": false,
     "start_time": "2024-07-17T13:08:35.412151",
     "status": "completed"
    },
    "slideshow": {
     "slide_type": ""
    },
    "tags": []
   },
   "source": [
    "Create distribution functions for input values."
   ]
  },
  {
   "cell_type": "code",
   "execution_count": 6,
   "id": "7cbfb72a23c99c34",
   "metadata": {
    "editable": true,
    "execution": {
     "iopub.execute_input": "2024-07-17T13:08:35.425785Z",
     "iopub.status.busy": "2024-07-17T13:08:35.425279Z",
     "iopub.status.idle": "2024-07-17T13:08:35.432006Z",
     "shell.execute_reply": "2024-07-17T13:08:35.431389Z"
    },
    "papermill": {
     "duration": 0.011065,
     "end_time": "2024-07-17T13:08:35.432790",
     "exception": false,
     "start_time": "2024-07-17T13:08:35.421725",
     "status": "completed"
    },
    "slideshow": {
     "slide_type": ""
    },
    "tags": []
   },
   "outputs": [],
   "source": [
    "diameter_dist = norm(loc=DIAMETER, scale=DIAMETER_STD)\n",
    "temperature_dist = norm(loc=TEMPERATURE, scale=TEMPERATURE_STD)"
   ]
  },
  {
   "cell_type": "markdown",
   "id": "aa3f488cb233a201",
   "metadata": {
    "editable": true,
    "papermill": {
     "duration": 0.002393,
     "end_time": "2024-07-17T13:08:35.437699",
     "exception": false,
     "start_time": "2024-07-17T13:08:35.435306",
     "status": "completed"
    },
    "slideshow": {
     "slide_type": ""
    },
    "tags": []
   },
   "source": [
    "Draw random inputs from distributions."
   ]
  },
  {
   "cell_type": "code",
   "execution_count": 7,
   "id": "3b127d24085f8d48",
   "metadata": {
    "editable": true,
    "execution": {
     "iopub.execute_input": "2024-07-17T13:08:35.444276Z",
     "iopub.status.busy": "2024-07-17T13:08:35.443589Z",
     "iopub.status.idle": "2024-07-17T13:08:35.449161Z",
     "shell.execute_reply": "2024-07-17T13:08:35.448367Z"
    },
    "papermill": {
     "duration": 0.010013,
     "end_time": "2024-07-17T13:08:35.450163",
     "exception": false,
     "start_time": "2024-07-17T13:08:35.440150",
     "status": "completed"
    },
    "slideshow": {
     "slide_type": ""
    },
    "tags": []
   },
   "outputs": [],
   "source": [
    "RNG = np.random.default_rng(SEED)\n",
    "diameters = diameter_dist.rvs(random_state=RNG, size=SAMPLE_COUNT)\n",
    "temperatures = temperature_dist.rvs(random_state=RNG, size=SAMPLE_COUNT)\n",
    "\n",
    "draws = [\n",
    "    DrawInput(d, t)\n",
    "    for d, t in zip(diameters, temperatures)\n",
    "]"
   ]
  },
  {
   "cell_type": "markdown",
   "id": "ae457863a6f14204",
   "metadata": {
    "editable": true,
    "papermill": {
     "duration": 0.002429,
     "end_time": "2024-07-17T13:08:35.455182",
     "exception": false,
     "start_time": "2024-07-17T13:08:35.452753",
     "status": "completed"
    },
    "slideshow": {
     "slide_type": ""
    },
    "tags": []
   },
   "source": [
    "Define a worker function creating the in profile, running the solution procedure and extracting results."
   ]
  },
  {
   "cell_type": "code",
   "execution_count": 8,
   "id": "bf37b0999a06930",
   "metadata": {
    "editable": true,
    "execution": {
     "iopub.execute_input": "2024-07-17T13:08:35.461852Z",
     "iopub.status.busy": "2024-07-17T13:08:35.461463Z",
     "iopub.status.idle": "2024-07-17T13:08:35.466669Z",
     "shell.execute_reply": "2024-07-17T13:08:35.465942Z"
    },
    "papermill": {
     "duration": 0.009934,
     "end_time": "2024-07-17T13:08:35.467668",
     "exception": false,
     "start_time": "2024-07-17T13:08:35.457734",
     "status": "completed"
    },
    "slideshow": {
     "slide_type": ""
    },
    "tags": []
   },
   "outputs": [],
   "source": [
    "def worker(draw: DrawInput):    \n",
    "    ip = create_in_profile(draw.diameter)\n",
    "    ip.temperature = draw.temperature\n",
    "\n",
    "    sequence = deepcopy(PASS_SEQUENCE)\n",
    "    sequence.solve(ip)       \n",
    "\n",
    "    return pre.to_pandas(sequence)"
   ]
  },
  {
   "cell_type": "markdown",
   "id": "9f83e35a998a132d",
   "metadata": {
    "editable": true,
    "papermill": {
     "duration": 0.002418,
     "end_time": "2024-07-17T13:08:35.472743",
     "exception": false,
     "start_time": "2024-07-17T13:08:35.470325",
     "status": "completed"
    },
    "slideshow": {
     "slide_type": ""
    },
    "tags": []
   },
   "source": [
    "Run the simulations using a process pool."
   ]
  },
  {
   "cell_type": "code",
   "execution_count": 9,
   "id": "4dd249dcf8221bf2",
   "metadata": {
    "ExecuteTime": {
     "end_time": "2024-07-17T10:22:42.312360Z",
     "start_time": "2024-07-17T10:22:39.946703Z"
    },
    "editable": true,
    "execution": {
     "iopub.execute_input": "2024-07-17T13:08:35.479277Z",
     "iopub.status.busy": "2024-07-17T13:08:35.478853Z",
     "iopub.status.idle": "2024-07-17T13:08:36.795263Z",
     "shell.execute_reply": "2024-07-17T13:08:36.794862Z"
    },
    "papermill": {
     "duration": 1.320909,
     "end_time": "2024-07-17T13:08:36.796111",
     "exception": false,
     "start_time": "2024-07-17T13:08:35.475202",
     "status": "completed"
    },
    "slideshow": {
     "slide_type": ""
    },
    "tags": []
   },
   "outputs": [
    {
     "name": "stderr",
     "output_type": "stream",
     "text": [
      "\r",
      "  0%|          | 0/10 [00:00<?, ?it/s]"
     ]
    },
    {
     "name": "stderr",
     "output_type": "stream",
     "text": [
      "\r",
      " 10%|█         | 1/10 [00:00<00:05,  1.52it/s]"
     ]
    },
    {
     "name": "stderr",
     "output_type": "stream",
     "text": [
      "\r",
      " 70%|███████   | 7/10 [00:01<00:00,  6.64it/s]"
     ]
    },
    {
     "name": "stderr",
     "output_type": "stream",
     "text": [
      "\r",
      "100%|██████████| 10/10 [00:01<00:00,  8.06it/s]"
     ]
    },
    {
     "name": "stderr",
     "output_type": "stream",
     "text": [
      "\n"
     ]
    }
   ],
   "source": [
    "results = list(tqdm.tqdm(Pool().imap(worker, draws), total=SAMPLE_COUNT))"
   ]
  },
  {
   "cell_type": "markdown",
   "id": "72d0d1f0975284d7",
   "metadata": {
    "editable": true,
    "papermill": {
     "duration": 0.002767,
     "end_time": "2024-07-17T13:08:36.801739",
     "exception": false,
     "start_time": "2024-07-17T13:08:36.798972",
     "status": "completed"
    },
    "slideshow": {
     "slide_type": ""
    },
    "tags": []
   },
   "source": [
    "Create a dataframe from results."
   ]
  },
  {
   "cell_type": "code",
   "execution_count": 10,
   "id": "29450ec772706a41",
   "metadata": {
    "ExecuteTime": {
     "end_time": "2024-07-17T10:22:47.912243Z",
     "start_time": "2024-07-17T10:22:47.706044Z"
    },
    "editable": true,
    "execution": {
     "iopub.execute_input": "2024-07-17T13:08:36.809196Z",
     "iopub.status.busy": "2024-07-17T13:08:36.808647Z",
     "iopub.status.idle": "2024-07-17T13:08:36.921633Z",
     "shell.execute_reply": "2024-07-17T13:08:36.921031Z"
    },
    "papermill": {
     "duration": 0.119186,
     "end_time": "2024-07-17T13:08:36.923711",
     "exception": false,
     "start_time": "2024-07-17T13:08:36.804525",
     "status": "completed"
    },
    "slideshow": {
     "slide_type": ""
    },
    "tags": []
   },
   "outputs": [
    {
     "data": {
      "text/html": [
       "<div>\n",
       "<style scoped>\n",
       "    .dataframe tbody tr th:only-of-type {\n",
       "        vertical-align: middle;\n",
       "    }\n",
       "\n",
       "    .dataframe tbody tr th {\n",
       "        vertical-align: top;\n",
       "    }\n",
       "\n",
       "    .dataframe thead tr th {\n",
       "        text-align: left;\n",
       "    }\n",
       "</style>\n",
       "<table border=\"1\" class=\"dataframe\">\n",
       "  <thead>\n",
       "    <tr>\n",
       "      <th></th>\n",
       "      <th colspan=\"10\" halign=\"left\">abs_draught</th>\n",
       "      <th>...</th>\n",
       "      <th colspan=\"10\" halign=\"left\">zouhar_contact_in_width</th>\n",
       "    </tr>\n",
       "    <tr>\n",
       "      <th></th>\n",
       "      <th>0</th>\n",
       "      <th>2</th>\n",
       "      <th>4</th>\n",
       "      <th>6</th>\n",
       "      <th>8</th>\n",
       "      <th>10</th>\n",
       "      <th>12</th>\n",
       "      <th>14</th>\n",
       "      <th>16</th>\n",
       "      <th>18</th>\n",
       "      <th>...</th>\n",
       "      <th>8</th>\n",
       "      <th>10</th>\n",
       "      <th>12</th>\n",
       "      <th>14</th>\n",
       "      <th>16</th>\n",
       "      <th>18</th>\n",
       "      <th>20</th>\n",
       "      <th>22</th>\n",
       "      <th>24</th>\n",
       "      <th>26</th>\n",
       "    </tr>\n",
       "  </thead>\n",
       "  <tbody>\n",
       "    <tr>\n",
       "      <th>0</th>\n",
       "      <td>-0.015344</td>\n",
       "      <td>-0.020258</td>\n",
       "      <td>-0.014426</td>\n",
       "      <td>-0.019869</td>\n",
       "      <td>-0.009266</td>\n",
       "      <td>-0.011217</td>\n",
       "      <td>-0.007984</td>\n",
       "      <td>-0.010435</td>\n",
       "      <td>-0.004337</td>\n",
       "      <td>-0.005911</td>\n",
       "      <td>...</td>\n",
       "      <td>0.026</td>\n",
       "      <td>0.005702</td>\n",
       "      <td>0.0198</td>\n",
       "      <td>0.003251</td>\n",
       "      <td>0.0148</td>\n",
       "      <td>0.004102</td>\n",
       "      <td>0.012</td>\n",
       "      <td>0.003359</td>\n",
       "      <td>0.01</td>\n",
       "      <td>0.002245</td>\n",
       "    </tr>\n",
       "    <tr>\n",
       "      <th>1</th>\n",
       "      <td>-0.015628</td>\n",
       "      <td>-0.020549</td>\n",
       "      <td>-0.014444</td>\n",
       "      <td>-0.019878</td>\n",
       "      <td>-0.009267</td>\n",
       "      <td>-0.011218</td>\n",
       "      <td>-0.007985</td>\n",
       "      <td>-0.010435</td>\n",
       "      <td>-0.004337</td>\n",
       "      <td>-0.005911</td>\n",
       "      <td>...</td>\n",
       "      <td>0.026</td>\n",
       "      <td>0.005701</td>\n",
       "      <td>0.0198</td>\n",
       "      <td>0.003251</td>\n",
       "      <td>0.0148</td>\n",
       "      <td>0.004102</td>\n",
       "      <td>0.012</td>\n",
       "      <td>0.003359</td>\n",
       "      <td>0.01</td>\n",
       "      <td>0.002245</td>\n",
       "    </tr>\n",
       "    <tr>\n",
       "      <th>2</th>\n",
       "      <td>-0.016036</td>\n",
       "      <td>-0.020961</td>\n",
       "      <td>-0.014468</td>\n",
       "      <td>-0.019890</td>\n",
       "      <td>-0.009270</td>\n",
       "      <td>-0.011219</td>\n",
       "      <td>-0.007985</td>\n",
       "      <td>-0.010435</td>\n",
       "      <td>-0.004337</td>\n",
       "      <td>-0.005911</td>\n",
       "      <td>...</td>\n",
       "      <td>0.026</td>\n",
       "      <td>0.005701</td>\n",
       "      <td>0.0198</td>\n",
       "      <td>0.003251</td>\n",
       "      <td>0.0148</td>\n",
       "      <td>0.004102</td>\n",
       "      <td>0.012</td>\n",
       "      <td>0.003359</td>\n",
       "      <td>0.01</td>\n",
       "      <td>0.002245</td>\n",
       "    </tr>\n",
       "    <tr>\n",
       "      <th>3</th>\n",
       "      <td>-0.015050</td>\n",
       "      <td>-0.019952</td>\n",
       "      <td>-0.014406</td>\n",
       "      <td>-0.019859</td>\n",
       "      <td>-0.009264</td>\n",
       "      <td>-0.011216</td>\n",
       "      <td>-0.007984</td>\n",
       "      <td>-0.010435</td>\n",
       "      <td>-0.004337</td>\n",
       "      <td>-0.005911</td>\n",
       "      <td>...</td>\n",
       "      <td>0.026</td>\n",
       "      <td>0.005702</td>\n",
       "      <td>0.0198</td>\n",
       "      <td>0.003252</td>\n",
       "      <td>0.0148</td>\n",
       "      <td>0.004102</td>\n",
       "      <td>0.012</td>\n",
       "      <td>0.003359</td>\n",
       "      <td>0.01</td>\n",
       "      <td>0.002245</td>\n",
       "    </tr>\n",
       "    <tr>\n",
       "      <th>4</th>\n",
       "      <td>-0.015639</td>\n",
       "      <td>-0.020560</td>\n",
       "      <td>-0.014444</td>\n",
       "      <td>-0.019878</td>\n",
       "      <td>-0.009267</td>\n",
       "      <td>-0.011218</td>\n",
       "      <td>-0.007985</td>\n",
       "      <td>-0.010435</td>\n",
       "      <td>-0.004337</td>\n",
       "      <td>-0.005911</td>\n",
       "      <td>...</td>\n",
       "      <td>0.026</td>\n",
       "      <td>0.005701</td>\n",
       "      <td>0.0198</td>\n",
       "      <td>0.003251</td>\n",
       "      <td>0.0148</td>\n",
       "      <td>0.004102</td>\n",
       "      <td>0.012</td>\n",
       "      <td>0.003359</td>\n",
       "      <td>0.01</td>\n",
       "      <td>0.002245</td>\n",
       "    </tr>\n",
       "    <tr>\n",
       "      <th>5</th>\n",
       "      <td>-0.015964</td>\n",
       "      <td>-0.020889</td>\n",
       "      <td>-0.014464</td>\n",
       "      <td>-0.019888</td>\n",
       "      <td>-0.009269</td>\n",
       "      <td>-0.011219</td>\n",
       "      <td>-0.007985</td>\n",
       "      <td>-0.010435</td>\n",
       "      <td>-0.004337</td>\n",
       "      <td>-0.005911</td>\n",
       "      <td>...</td>\n",
       "      <td>0.026</td>\n",
       "      <td>0.005701</td>\n",
       "      <td>0.0198</td>\n",
       "      <td>0.003251</td>\n",
       "      <td>0.0148</td>\n",
       "      <td>0.004102</td>\n",
       "      <td>0.012</td>\n",
       "      <td>0.003359</td>\n",
       "      <td>0.01</td>\n",
       "      <td>0.002245</td>\n",
       "    </tr>\n",
       "    <tr>\n",
       "      <th>6</th>\n",
       "      <td>-0.015202</td>\n",
       "      <td>-0.020111</td>\n",
       "      <td>-0.014416</td>\n",
       "      <td>-0.019864</td>\n",
       "      <td>-0.009265</td>\n",
       "      <td>-0.011217</td>\n",
       "      <td>-0.007984</td>\n",
       "      <td>-0.010435</td>\n",
       "      <td>-0.004337</td>\n",
       "      <td>-0.005911</td>\n",
       "      <td>...</td>\n",
       "      <td>0.026</td>\n",
       "      <td>0.005702</td>\n",
       "      <td>0.0198</td>\n",
       "      <td>0.003251</td>\n",
       "      <td>0.0148</td>\n",
       "      <td>0.004102</td>\n",
       "      <td>0.012</td>\n",
       "      <td>0.003359</td>\n",
       "      <td>0.01</td>\n",
       "      <td>0.002245</td>\n",
       "    </tr>\n",
       "    <tr>\n",
       "      <th>7</th>\n",
       "      <td>-0.015166</td>\n",
       "      <td>-0.020074</td>\n",
       "      <td>-0.014414</td>\n",
       "      <td>-0.019863</td>\n",
       "      <td>-0.009264</td>\n",
       "      <td>-0.011217</td>\n",
       "      <td>-0.007984</td>\n",
       "      <td>-0.010435</td>\n",
       "      <td>-0.004337</td>\n",
       "      <td>-0.005911</td>\n",
       "      <td>...</td>\n",
       "      <td>0.026</td>\n",
       "      <td>0.005702</td>\n",
       "      <td>0.0198</td>\n",
       "      <td>0.003251</td>\n",
       "      <td>0.0148</td>\n",
       "      <td>0.004102</td>\n",
       "      <td>0.012</td>\n",
       "      <td>0.003359</td>\n",
       "      <td>0.01</td>\n",
       "      <td>0.002245</td>\n",
       "    </tr>\n",
       "    <tr>\n",
       "      <th>8</th>\n",
       "      <td>-0.013705</td>\n",
       "      <td>-0.018395</td>\n",
       "      <td>-0.014291</td>\n",
       "      <td>-0.019800</td>\n",
       "      <td>-0.009253</td>\n",
       "      <td>-0.011211</td>\n",
       "      <td>-0.007983</td>\n",
       "      <td>-0.010434</td>\n",
       "      <td>-0.004337</td>\n",
       "      <td>-0.005911</td>\n",
       "      <td>...</td>\n",
       "      <td>0.026</td>\n",
       "      <td>0.005704</td>\n",
       "      <td>0.0198</td>\n",
       "      <td>0.003252</td>\n",
       "      <td>0.0148</td>\n",
       "      <td>0.004102</td>\n",
       "      <td>0.012</td>\n",
       "      <td>0.003359</td>\n",
       "      <td>0.01</td>\n",
       "      <td>0.002245</td>\n",
       "    </tr>\n",
       "    <tr>\n",
       "      <th>9</th>\n",
       "      <td>-0.014899</td>\n",
       "      <td>-0.019792</td>\n",
       "      <td>-0.014395</td>\n",
       "      <td>-0.019853</td>\n",
       "      <td>-0.009263</td>\n",
       "      <td>-0.011216</td>\n",
       "      <td>-0.007984</td>\n",
       "      <td>-0.010435</td>\n",
       "      <td>-0.004337</td>\n",
       "      <td>-0.005911</td>\n",
       "      <td>...</td>\n",
       "      <td>0.026</td>\n",
       "      <td>0.005702</td>\n",
       "      <td>0.0198</td>\n",
       "      <td>0.003252</td>\n",
       "      <td>0.0148</td>\n",
       "      <td>0.004102</td>\n",
       "      <td>0.012</td>\n",
       "      <td>0.003359</td>\n",
       "      <td>0.01</td>\n",
       "      <td>0.002245</td>\n",
       "    </tr>\n",
       "  </tbody>\n",
       "</table>\n",
       "<p>10 rows × 3891 columns</p>\n",
       "</div>"
      ],
      "text/plain": [
       "  abs_draught                                                              \\\n",
       "           0         2         4         6         8         10        12   \n",
       "0   -0.015344 -0.020258 -0.014426 -0.019869 -0.009266 -0.011217 -0.007984   \n",
       "1   -0.015628 -0.020549 -0.014444 -0.019878 -0.009267 -0.011218 -0.007985   \n",
       "2   -0.016036 -0.020961 -0.014468 -0.019890 -0.009270 -0.011219 -0.007985   \n",
       "3   -0.015050 -0.019952 -0.014406 -0.019859 -0.009264 -0.011216 -0.007984   \n",
       "4   -0.015639 -0.020560 -0.014444 -0.019878 -0.009267 -0.011218 -0.007985   \n",
       "5   -0.015964 -0.020889 -0.014464 -0.019888 -0.009269 -0.011219 -0.007985   \n",
       "6   -0.015202 -0.020111 -0.014416 -0.019864 -0.009265 -0.011217 -0.007984   \n",
       "7   -0.015166 -0.020074 -0.014414 -0.019863 -0.009264 -0.011217 -0.007984   \n",
       "8   -0.013705 -0.018395 -0.014291 -0.019800 -0.009253 -0.011211 -0.007983   \n",
       "9   -0.014899 -0.019792 -0.014395 -0.019853 -0.009263 -0.011216 -0.007984   \n",
       "\n",
       "                                 ... zouhar_contact_in_width            \\\n",
       "         14        16        18  ...                      8         10   \n",
       "0 -0.010435 -0.004337 -0.005911  ...                   0.026  0.005702   \n",
       "1 -0.010435 -0.004337 -0.005911  ...                   0.026  0.005701   \n",
       "2 -0.010435 -0.004337 -0.005911  ...                   0.026  0.005701   \n",
       "3 -0.010435 -0.004337 -0.005911  ...                   0.026  0.005702   \n",
       "4 -0.010435 -0.004337 -0.005911  ...                   0.026  0.005701   \n",
       "5 -0.010435 -0.004337 -0.005911  ...                   0.026  0.005701   \n",
       "6 -0.010435 -0.004337 -0.005911  ...                   0.026  0.005702   \n",
       "7 -0.010435 -0.004337 -0.005911  ...                   0.026  0.005702   \n",
       "8 -0.010434 -0.004337 -0.005911  ...                   0.026  0.005704   \n",
       "9 -0.010435 -0.004337 -0.005911  ...                   0.026  0.005702   \n",
       "\n",
       "                                                                        \n",
       "       12        14      16        18     20        22    24        26  \n",
       "0  0.0198  0.003251  0.0148  0.004102  0.012  0.003359  0.01  0.002245  \n",
       "1  0.0198  0.003251  0.0148  0.004102  0.012  0.003359  0.01  0.002245  \n",
       "2  0.0198  0.003251  0.0148  0.004102  0.012  0.003359  0.01  0.002245  \n",
       "3  0.0198  0.003252  0.0148  0.004102  0.012  0.003359  0.01  0.002245  \n",
       "4  0.0198  0.003251  0.0148  0.004102  0.012  0.003359  0.01  0.002245  \n",
       "5  0.0198  0.003251  0.0148  0.004102  0.012  0.003359  0.01  0.002245  \n",
       "6  0.0198  0.003251  0.0148  0.004102  0.012  0.003359  0.01  0.002245  \n",
       "7  0.0198  0.003251  0.0148  0.004102  0.012  0.003359  0.01  0.002245  \n",
       "8  0.0198  0.003252  0.0148  0.004102  0.012  0.003359  0.01  0.002245  \n",
       "9  0.0198  0.003252  0.0148  0.004102  0.012  0.003359  0.01  0.002245  \n",
       "\n",
       "[10 rows x 3891 columns]"
      ]
     },
     "execution_count": 10,
     "metadata": {},
     "output_type": "execute_result"
    }
   ],
   "source": [
    "df = pd.DataFrame([r.stack().swaplevel().sort_index() for r in results])\n",
    "df"
   ]
  },
  {
   "cell_type": "markdown",
   "id": "892b9e66e3913562",
   "metadata": {
    "editable": true,
    "papermill": {
     "duration": 0.008102,
     "end_time": "2024-07-17T13:08:36.940066",
     "exception": false,
     "start_time": "2024-07-17T13:08:36.931964",
     "status": "completed"
    },
    "slideshow": {
     "slide_type": ""
    },
    "tags": []
   },
   "source": [
    "Save dataframe to CSV file."
   ]
  },
  {
   "cell_type": "code",
   "execution_count": 11,
   "id": "dbb964f17b02f3d5",
   "metadata": {
    "ExecuteTime": {
     "end_time": "2024-07-17T10:22:59.183303Z",
     "start_time": "2024-07-17T10:22:58.000604Z"
    },
    "execution": {
     "iopub.execute_input": "2024-07-17T13:08:36.958181Z",
     "iopub.status.busy": "2024-07-17T13:08:36.957818Z",
     "iopub.status.idle": "2024-07-17T13:08:38.115946Z",
     "shell.execute_reply": "2024-07-17T13:08:38.114923Z"
    },
    "papermill": {
     "duration": 1.169887,
     "end_time": "2024-07-17T13:08:38.118233",
     "exception": false,
     "start_time": "2024-07-17T13:08:36.948346",
     "status": "completed"
    },
    "tags": []
   },
   "outputs": [],
   "source": [
    "df.to_csv(OUTPUT_FILENAME)"
   ]
  },
  {
   "cell_type": "code",
   "execution_count": null,
   "id": "5ae76746-6123-4629-a64a-4e14faac638e",
   "metadata": {
    "editable": true,
    "papermill": {
     "duration": 0.008131,
     "end_time": "2024-07-17T13:08:38.134856",
     "exception": false,
     "start_time": "2024-07-17T13:08:38.126725",
     "status": "completed"
    },
    "slideshow": {
     "slide_type": ""
    },
    "tags": []
   },
   "outputs": [],
   "source": []
  }
 ],
 "metadata": {
  "kernelspec": {
   "display_name": "Python 3 (ipykernel)",
   "language": "python",
   "name": "python3"
  },
  "language_info": {
   "codemirror_mode": {
    "name": "ipython",
    "version": 3
   },
   "file_extension": ".py",
   "mimetype": "text/x-python",
   "name": "python",
   "nbconvert_exporter": "python",
   "pygments_lexer": "ipython3",
   "version": "3.12.4"
  },
  "papermill": {
   "default_parameters": {},
   "duration": 5.342384,
   "end_time": "2024-07-17T13:08:38.662133",
   "environment_variables": {},
   "exception": null,
   "input_path": "/home/maxwe/Git/pyroll/publication-weiner-variation/weiner_variation/sim/sim_input.ipynb",
   "output_path": "/home/maxwe/Git/pyroll/publication-weiner-variation/weiner_variation/data/sim_diameter_stds_results/0.02.out.ipynb",
   "parameters": {
    "DIAMETER_STD": 0.001,
    "OUTPUT_FILENAME": "/home/maxwe/Git/pyroll/publication-weiner-variation/weiner_variation/data/sim_diameter_stds_results/0.02.csv"
   },
   "start_time": "2024-07-17T13:08:33.319749",
   "version": "2.6.0"
  }
 },
 "nbformat": 4,
 "nbformat_minor": 5
}
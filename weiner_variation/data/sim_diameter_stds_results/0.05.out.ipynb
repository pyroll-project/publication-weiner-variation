{
 "cells": [
  {
   "cell_type": "markdown",
   "id": "87eca59d9255a11f",
   "metadata": {
    "collapsed": false,
    "jupyter": {
     "outputs_hidden": false
    },
    "papermill": {
     "duration": 0.008334,
     "end_time": "2024-07-17T13:08:11.693443",
     "exception": false,
     "start_time": "2024-07-17T13:08:11.685109",
     "status": "completed"
    },
    "tags": []
   },
   "source": [
    "# Simulation of the Process with Input Variations"
   ]
  },
  {
   "cell_type": "markdown",
   "id": "d32b7558d586b87c",
   "metadata": {
    "collapsed": false,
    "jupyter": {
     "outputs_hidden": false
    },
    "papermill": {
     "duration": 0.00586,
     "end_time": "2024-07-17T13:08:11.706188",
     "exception": false,
     "start_time": "2024-07-17T13:08:11.700328",
     "status": "completed"
    },
    "tags": []
   },
   "source": [
    "Import PyRolL modules."
   ]
  },
  {
   "cell_type": "code",
   "execution_count": 1,
   "id": "dd58074fbc858aa5",
   "metadata": {
    "editable": true,
    "execution": {
     "iopub.execute_input": "2024-07-17T13:08:11.720377Z",
     "iopub.status.busy": "2024-07-17T13:08:11.719957Z",
     "iopub.status.idle": "2024-07-17T13:08:12.619352Z",
     "shell.execute_reply": "2024-07-17T13:08:12.618702Z"
    },
    "papermill": {
     "duration": 0.909394,
     "end_time": "2024-07-17T13:08:12.621687",
     "exception": false,
     "start_time": "2024-07-17T13:08:11.712293",
     "status": "completed"
    },
    "slideshow": {
     "slide_type": ""
    },
    "tags": []
   },
   "outputs": [],
   "source": [
    "import pyroll.basic as pr\n",
    "import pyroll.export as pre"
   ]
  },
  {
   "cell_type": "markdown",
   "id": "90e80818cdd8e1fd",
   "metadata": {
    "editable": true,
    "papermill": {
     "duration": 0.006377,
     "end_time": "2024-07-17T13:08:12.634658",
     "exception": false,
     "start_time": "2024-07-17T13:08:12.628281",
     "status": "completed"
    },
    "slideshow": {
     "slide_type": ""
    },
    "tags": []
   },
   "source": [
    "Import the process data."
   ]
  },
  {
   "cell_type": "code",
   "execution_count": 2,
   "id": "521e00d66a44dd25",
   "metadata": {
    "editable": true,
    "execution": {
     "iopub.execute_input": "2024-07-17T13:08:12.650894Z",
     "iopub.status.busy": "2024-07-17T13:08:12.650323Z",
     "iopub.status.idle": "2024-07-17T13:08:12.849931Z",
     "shell.execute_reply": "2024-07-17T13:08:12.849284Z"
    },
    "papermill": {
     "duration": 0.209785,
     "end_time": "2024-07-17T13:08:12.852274",
     "exception": false,
     "start_time": "2024-07-17T13:08:12.642489",
     "status": "completed"
    },
    "slideshow": {
     "slide_type": ""
    },
    "tags": []
   },
   "outputs": [],
   "source": [
    "from weiner_variation.sim.process import PASS_SEQUENCE, IN_PROFILE, TEMPERATURE, DIAMETER, TEMPERATURE_STD, DIAMETER_STD, create_in_profile\n",
    "from weiner_variation.sim.config import SAMPLE_COUNT, SEED\n",
    "from weiner_variation.sim.data import DrawInput\n",
    "from weiner_variation.config import DATA_DIR"
   ]
  },
  {
   "cell_type": "markdown",
   "id": "a10b5e1fd26dbacc",
   "metadata": {
    "editable": true,
    "papermill": {
     "duration": 0.006457,
     "end_time": "2024-07-17T13:08:12.865556",
     "exception": false,
     "start_time": "2024-07-17T13:08:12.859099",
     "status": "completed"
    },
    "slideshow": {
     "slide_type": ""
    },
    "tags": []
   },
   "source": [
    "Import further libraries."
   ]
  },
  {
   "cell_type": "code",
   "execution_count": 3,
   "id": "ea3837b5c12ed530",
   "metadata": {
    "editable": true,
    "execution": {
     "iopub.execute_input": "2024-07-17T13:08:12.877186Z",
     "iopub.status.busy": "2024-07-17T13:08:12.876168Z",
     "iopub.status.idle": "2024-07-17T13:08:13.014390Z",
     "shell.execute_reply": "2024-07-17T13:08:13.013736Z"
    },
    "papermill": {
     "duration": 0.1446,
     "end_time": "2024-07-17T13:08:13.016711",
     "exception": false,
     "start_time": "2024-07-17T13:08:12.872111",
     "status": "completed"
    },
    "slideshow": {
     "slide_type": ""
    },
    "tags": []
   },
   "outputs": [],
   "source": [
    "import pandas as pd\n",
    "from copy import deepcopy\n",
    "from scipy.stats import norm\n",
    "import numpy as np\n",
    "import tqdm\n",
    "from multiprocessing import Pool"
   ]
  },
  {
   "cell_type": "markdown",
   "id": "95ca8ac63a6e4e9a",
   "metadata": {
    "editable": true,
    "papermill": {
     "duration": 0.002406,
     "end_time": "2024-07-17T13:08:13.023845",
     "exception": false,
     "start_time": "2024-07-17T13:08:13.021439",
     "status": "completed"
    },
    "slideshow": {
     "slide_type": ""
    },
    "tags": []
   },
   "source": [
    "Parameters for notebook using papermill."
   ]
  },
  {
   "cell_type": "code",
   "execution_count": 4,
   "id": "f7a871812e201394",
   "metadata": {
    "editable": true,
    "execution": {
     "iopub.execute_input": "2024-07-17T13:08:13.030376Z",
     "iopub.status.busy": "2024-07-17T13:08:13.029766Z",
     "iopub.status.idle": "2024-07-17T13:08:13.033306Z",
     "shell.execute_reply": "2024-07-17T13:08:13.032925Z"
    },
    "papermill": {
     "duration": 0.007978,
     "end_time": "2024-07-17T13:08:13.034182",
     "exception": false,
     "start_time": "2024-07-17T13:08:13.026204",
     "status": "completed"
    },
    "slideshow": {
     "slide_type": ""
    },
    "tags": [
     "parameters"
    ]
   },
   "outputs": [],
   "source": [
    "DIAMETER_STD = DIAMETER_STD\n",
    "TEMPERATURE_STD = TEMPERATURE_STD\n",
    "OUTPUT_FILENAME = DATA_DIR / \"sim_input_results.csv\""
   ]
  },
  {
   "cell_type": "code",
   "execution_count": 5,
   "id": "c05b78b3",
   "metadata": {
    "execution": {
     "iopub.execute_input": "2024-07-17T13:08:13.041114Z",
     "iopub.status.busy": "2024-07-17T13:08:13.040948Z",
     "iopub.status.idle": "2024-07-17T13:08:13.044064Z",
     "shell.execute_reply": "2024-07-17T13:08:13.043223Z"
    },
    "papermill": {
     "duration": 0.007629,
     "end_time": "2024-07-17T13:08:13.044981",
     "exception": false,
     "start_time": "2024-07-17T13:08:13.037352",
     "status": "completed"
    },
    "tags": [
     "injected-parameters"
    ]
   },
   "outputs": [],
   "source": [
    "# Parameters\n",
    "OUTPUT_FILENAME = \"/home/maxwe/Git/pyroll/publication-weiner-variation/weiner_variation/data/sim_diameter_stds_results/0.05.csv\"\n",
    "DIAMETER_STD = 0.0025000000000000005\n"
   ]
  },
  {
   "cell_type": "markdown",
   "id": "db84db3a0ac19dae",
   "metadata": {
    "editable": true,
    "papermill": {
     "duration": 0.002392,
     "end_time": "2024-07-17T13:08:13.049911",
     "exception": false,
     "start_time": "2024-07-17T13:08:13.047519",
     "status": "completed"
    },
    "slideshow": {
     "slide_type": ""
    },
    "tags": []
   },
   "source": [
    "Create distribution functions for input values."
   ]
  },
  {
   "cell_type": "code",
   "execution_count": 6,
   "id": "7cbfb72a23c99c34",
   "metadata": {
    "editable": true,
    "execution": {
     "iopub.execute_input": "2024-07-17T13:08:13.056142Z",
     "iopub.status.busy": "2024-07-17T13:08:13.055972Z",
     "iopub.status.idle": "2024-07-17T13:08:13.059719Z",
     "shell.execute_reply": "2024-07-17T13:08:13.059196Z"
    },
    "papermill": {
     "duration": 0.008273,
     "end_time": "2024-07-17T13:08:13.060621",
     "exception": false,
     "start_time": "2024-07-17T13:08:13.052348",
     "status": "completed"
    },
    "slideshow": {
     "slide_type": ""
    },
    "tags": []
   },
   "outputs": [],
   "source": [
    "diameter_dist = norm(loc=DIAMETER, scale=DIAMETER_STD)\n",
    "temperature_dist = norm(loc=TEMPERATURE, scale=TEMPERATURE_STD)"
   ]
  },
  {
   "cell_type": "markdown",
   "id": "aa3f488cb233a201",
   "metadata": {
    "editable": true,
    "papermill": {
     "duration": 0.002497,
     "end_time": "2024-07-17T13:08:13.065676",
     "exception": false,
     "start_time": "2024-07-17T13:08:13.063179",
     "status": "completed"
    },
    "slideshow": {
     "slide_type": ""
    },
    "tags": []
   },
   "source": [
    "Draw random inputs from distributions."
   ]
  },
  {
   "cell_type": "code",
   "execution_count": 7,
   "id": "3b127d24085f8d48",
   "metadata": {
    "editable": true,
    "execution": {
     "iopub.execute_input": "2024-07-17T13:08:13.072490Z",
     "iopub.status.busy": "2024-07-17T13:08:13.071649Z",
     "iopub.status.idle": "2024-07-17T13:08:13.078401Z",
     "shell.execute_reply": "2024-07-17T13:08:13.077345Z"
    },
    "papermill": {
     "duration": 0.012284,
     "end_time": "2024-07-17T13:08:13.080388",
     "exception": false,
     "start_time": "2024-07-17T13:08:13.068104",
     "status": "completed"
    },
    "slideshow": {
     "slide_type": ""
    },
    "tags": []
   },
   "outputs": [],
   "source": [
    "RNG = np.random.default_rng(SEED)\n",
    "diameters = diameter_dist.rvs(random_state=RNG, size=SAMPLE_COUNT)\n",
    "temperatures = temperature_dist.rvs(random_state=RNG, size=SAMPLE_COUNT)\n",
    "\n",
    "draws = [\n",
    "    DrawInput(d, t)\n",
    "    for d, t in zip(diameters, temperatures)\n",
    "]"
   ]
  },
  {
   "cell_type": "markdown",
   "id": "ae457863a6f14204",
   "metadata": {
    "editable": true,
    "papermill": {
     "duration": 0.00238,
     "end_time": "2024-07-17T13:08:13.085376",
     "exception": false,
     "start_time": "2024-07-17T13:08:13.082996",
     "status": "completed"
    },
    "slideshow": {
     "slide_type": ""
    },
    "tags": []
   },
   "source": [
    "Define a worker function creating the in profile, running the solution procedure and extracting results."
   ]
  },
  {
   "cell_type": "code",
   "execution_count": 8,
   "id": "bf37b0999a06930",
   "metadata": {
    "editable": true,
    "execution": {
     "iopub.execute_input": "2024-07-17T13:08:13.091875Z",
     "iopub.status.busy": "2024-07-17T13:08:13.091490Z",
     "iopub.status.idle": "2024-07-17T13:08:13.097150Z",
     "shell.execute_reply": "2024-07-17T13:08:13.096236Z"
    },
    "papermill": {
     "duration": 0.01092,
     "end_time": "2024-07-17T13:08:13.098834",
     "exception": false,
     "start_time": "2024-07-17T13:08:13.087914",
     "status": "completed"
    },
    "slideshow": {
     "slide_type": ""
    },
    "tags": []
   },
   "outputs": [],
   "source": [
    "def worker(draw: DrawInput):    \n",
    "    ip = create_in_profile(draw.diameter)\n",
    "    ip.temperature = draw.temperature\n",
    "\n",
    "    sequence = deepcopy(PASS_SEQUENCE)\n",
    "    sequence.solve(ip)       \n",
    "\n",
    "    return pre.to_pandas(sequence)"
   ]
  },
  {
   "cell_type": "markdown",
   "id": "9f83e35a998a132d",
   "metadata": {
    "editable": true,
    "papermill": {
     "duration": 0.002425,
     "end_time": "2024-07-17T13:08:13.103886",
     "exception": false,
     "start_time": "2024-07-17T13:08:13.101461",
     "status": "completed"
    },
    "slideshow": {
     "slide_type": ""
    },
    "tags": []
   },
   "source": [
    "Run the simulations using a process pool."
   ]
  },
  {
   "cell_type": "code",
   "execution_count": 9,
   "id": "4dd249dcf8221bf2",
   "metadata": {
    "ExecuteTime": {
     "end_time": "2024-07-17T10:22:42.312360Z",
     "start_time": "2024-07-17T10:22:39.946703Z"
    },
    "editable": true,
    "execution": {
     "iopub.execute_input": "2024-07-17T13:08:13.110297Z",
     "iopub.status.busy": "2024-07-17T13:08:13.109932Z",
     "iopub.status.idle": "2024-07-17T13:08:14.520601Z",
     "shell.execute_reply": "2024-07-17T13:08:14.519905Z"
    },
    "papermill": {
     "duration": 1.415308,
     "end_time": "2024-07-17T13:08:14.521658",
     "exception": false,
     "start_time": "2024-07-17T13:08:13.106350",
     "status": "completed"
    },
    "slideshow": {
     "slide_type": ""
    },
    "tags": []
   },
   "outputs": [
    {
     "name": "stderr",
     "output_type": "stream",
     "text": [
      "\r",
      "  0%|          | 0/10 [00:00<?, ?it/s]"
     ]
    },
    {
     "name": "stderr",
     "output_type": "stream",
     "text": [
      "\r",
      " 10%|█         | 1/10 [00:00<00:06,  1.46it/s]"
     ]
    },
    {
     "name": "stderr",
     "output_type": "stream",
     "text": [
      "\r",
      " 60%|██████    | 6/10 [00:00<00:00,  9.35it/s]"
     ]
    },
    {
     "name": "stderr",
     "output_type": "stream",
     "text": [
      "\r",
      " 90%|█████████ | 9/10 [00:01<00:00,  7.85it/s]"
     ]
    },
    {
     "name": "stderr",
     "output_type": "stream",
     "text": [
      "\r",
      "100%|██████████| 10/10 [00:01<00:00,  7.81it/s]"
     ]
    },
    {
     "name": "stderr",
     "output_type": "stream",
     "text": [
      "\n"
     ]
    }
   ],
   "source": [
    "results = list(tqdm.tqdm(Pool().imap(worker, draws), total=SAMPLE_COUNT))"
   ]
  },
  {
   "cell_type": "markdown",
   "id": "72d0d1f0975284d7",
   "metadata": {
    "editable": true,
    "papermill": {
     "duration": 0.002736,
     "end_time": "2024-07-17T13:08:14.527381",
     "exception": false,
     "start_time": "2024-07-17T13:08:14.524645",
     "status": "completed"
    },
    "slideshow": {
     "slide_type": ""
    },
    "tags": []
   },
   "source": [
    "Create a dataframe from results."
   ]
  },
  {
   "cell_type": "code",
   "execution_count": 10,
   "id": "29450ec772706a41",
   "metadata": {
    "ExecuteTime": {
     "end_time": "2024-07-17T10:22:47.912243Z",
     "start_time": "2024-07-17T10:22:47.706044Z"
    },
    "editable": true,
    "execution": {
     "iopub.execute_input": "2024-07-17T13:08:14.534189Z",
     "iopub.status.busy": "2024-07-17T13:08:14.533993Z",
     "iopub.status.idle": "2024-07-17T13:08:14.648374Z",
     "shell.execute_reply": "2024-07-17T13:08:14.647558Z"
    },
    "papermill": {
     "duration": 0.119934,
     "end_time": "2024-07-17T13:08:14.650108",
     "exception": false,
     "start_time": "2024-07-17T13:08:14.530174",
     "status": "completed"
    },
    "slideshow": {
     "slide_type": ""
    },
    "tags": []
   },
   "outputs": [
    {
     "data": {
      "text/html": [
       "<div>\n",
       "<style scoped>\n",
       "    .dataframe tbody tr th:only-of-type {\n",
       "        vertical-align: middle;\n",
       "    }\n",
       "\n",
       "    .dataframe tbody tr th {\n",
       "        vertical-align: top;\n",
       "    }\n",
       "\n",
       "    .dataframe thead tr th {\n",
       "        text-align: left;\n",
       "    }\n",
       "</style>\n",
       "<table border=\"1\" class=\"dataframe\">\n",
       "  <thead>\n",
       "    <tr>\n",
       "      <th></th>\n",
       "      <th colspan=\"10\" halign=\"left\">abs_draught</th>\n",
       "      <th>...</th>\n",
       "      <th colspan=\"10\" halign=\"left\">zouhar_contact_in_width</th>\n",
       "    </tr>\n",
       "    <tr>\n",
       "      <th></th>\n",
       "      <th>0</th>\n",
       "      <th>2</th>\n",
       "      <th>4</th>\n",
       "      <th>6</th>\n",
       "      <th>8</th>\n",
       "      <th>10</th>\n",
       "      <th>12</th>\n",
       "      <th>14</th>\n",
       "      <th>16</th>\n",
       "      <th>18</th>\n",
       "      <th>...</th>\n",
       "      <th>8</th>\n",
       "      <th>10</th>\n",
       "      <th>12</th>\n",
       "      <th>14</th>\n",
       "      <th>16</th>\n",
       "      <th>18</th>\n",
       "      <th>20</th>\n",
       "      <th>22</th>\n",
       "      <th>24</th>\n",
       "      <th>26</th>\n",
       "    </tr>\n",
       "  </thead>\n",
       "  <tbody>\n",
       "    <tr>\n",
       "      <th>0</th>\n",
       "      <td>-0.015779</td>\n",
       "      <td>-0.020702</td>\n",
       "      <td>-0.014453</td>\n",
       "      <td>-0.019883</td>\n",
       "      <td>-0.009268</td>\n",
       "      <td>-0.011218</td>\n",
       "      <td>-0.007985</td>\n",
       "      <td>-0.010435</td>\n",
       "      <td>-0.004337</td>\n",
       "      <td>-0.005911</td>\n",
       "      <td>...</td>\n",
       "      <td>0.026</td>\n",
       "      <td>0.005701</td>\n",
       "      <td>0.0198</td>\n",
       "      <td>0.003251</td>\n",
       "      <td>0.0148</td>\n",
       "      <td>0.004102</td>\n",
       "      <td>0.012</td>\n",
       "      <td>0.003359</td>\n",
       "      <td>0.01</td>\n",
       "      <td>0.002245</td>\n",
       "    </tr>\n",
       "    <tr>\n",
       "      <th>1</th>\n",
       "      <td>-0.016482</td>\n",
       "      <td>-0.021404</td>\n",
       "      <td>-0.014493</td>\n",
       "      <td>-0.019903</td>\n",
       "      <td>-0.009272</td>\n",
       "      <td>-0.011220</td>\n",
       "      <td>-0.007985</td>\n",
       "      <td>-0.010435</td>\n",
       "      <td>-0.004337</td>\n",
       "      <td>-0.005911</td>\n",
       "      <td>...</td>\n",
       "      <td>0.026</td>\n",
       "      <td>0.005700</td>\n",
       "      <td>0.0198</td>\n",
       "      <td>0.003251</td>\n",
       "      <td>0.0148</td>\n",
       "      <td>0.004102</td>\n",
       "      <td>0.012</td>\n",
       "      <td>0.003359</td>\n",
       "      <td>0.01</td>\n",
       "      <td>0.002245</td>\n",
       "    </tr>\n",
       "    <tr>\n",
       "      <th>2</th>\n",
       "      <td>-0.017488</td>\n",
       "      <td>-0.022391</td>\n",
       "      <td>-0.014544</td>\n",
       "      <td>-0.019928</td>\n",
       "      <td>-0.009277</td>\n",
       "      <td>-0.011222</td>\n",
       "      <td>-0.007985</td>\n",
       "      <td>-0.010435</td>\n",
       "      <td>-0.004337</td>\n",
       "      <td>-0.005911</td>\n",
       "      <td>...</td>\n",
       "      <td>0.026</td>\n",
       "      <td>0.005699</td>\n",
       "      <td>0.0198</td>\n",
       "      <td>0.003251</td>\n",
       "      <td>0.0148</td>\n",
       "      <td>0.004102</td>\n",
       "      <td>0.012</td>\n",
       "      <td>0.003359</td>\n",
       "      <td>0.01</td>\n",
       "      <td>0.002245</td>\n",
       "    </tr>\n",
       "    <tr>\n",
       "      <th>3</th>\n",
       "      <td>-0.015046</td>\n",
       "      <td>-0.019947</td>\n",
       "      <td>-0.014405</td>\n",
       "      <td>-0.019859</td>\n",
       "      <td>-0.009264</td>\n",
       "      <td>-0.011216</td>\n",
       "      <td>-0.007984</td>\n",
       "      <td>-0.010435</td>\n",
       "      <td>-0.004337</td>\n",
       "      <td>-0.005911</td>\n",
       "      <td>...</td>\n",
       "      <td>0.026</td>\n",
       "      <td>0.005702</td>\n",
       "      <td>0.0198</td>\n",
       "      <td>0.003252</td>\n",
       "      <td>0.0148</td>\n",
       "      <td>0.004102</td>\n",
       "      <td>0.012</td>\n",
       "      <td>0.003359</td>\n",
       "      <td>0.01</td>\n",
       "      <td>0.002245</td>\n",
       "    </tr>\n",
       "    <tr>\n",
       "      <th>4</th>\n",
       "      <td>-0.016509</td>\n",
       "      <td>-0.021431</td>\n",
       "      <td>-0.014495</td>\n",
       "      <td>-0.019904</td>\n",
       "      <td>-0.009272</td>\n",
       "      <td>-0.011220</td>\n",
       "      <td>-0.007985</td>\n",
       "      <td>-0.010435</td>\n",
       "      <td>-0.004337</td>\n",
       "      <td>-0.005911</td>\n",
       "      <td>...</td>\n",
       "      <td>0.026</td>\n",
       "      <td>0.005700</td>\n",
       "      <td>0.0198</td>\n",
       "      <td>0.003251</td>\n",
       "      <td>0.0148</td>\n",
       "      <td>0.004102</td>\n",
       "      <td>0.012</td>\n",
       "      <td>0.003359</td>\n",
       "      <td>0.01</td>\n",
       "      <td>0.002245</td>\n",
       "    </tr>\n",
       "    <tr>\n",
       "      <th>5</th>\n",
       "      <td>-0.017311</td>\n",
       "      <td>-0.022218</td>\n",
       "      <td>-0.014536</td>\n",
       "      <td>-0.019924</td>\n",
       "      <td>-0.009276</td>\n",
       "      <td>-0.011222</td>\n",
       "      <td>-0.007985</td>\n",
       "      <td>-0.010435</td>\n",
       "      <td>-0.004337</td>\n",
       "      <td>-0.005911</td>\n",
       "      <td>...</td>\n",
       "      <td>0.026</td>\n",
       "      <td>0.005699</td>\n",
       "      <td>0.0198</td>\n",
       "      <td>0.003251</td>\n",
       "      <td>0.0148</td>\n",
       "      <td>0.004102</td>\n",
       "      <td>0.012</td>\n",
       "      <td>0.003359</td>\n",
       "      <td>0.01</td>\n",
       "      <td>0.002245</td>\n",
       "    </tr>\n",
       "    <tr>\n",
       "      <th>6</th>\n",
       "      <td>-0.015426</td>\n",
       "      <td>-0.020342</td>\n",
       "      <td>-0.014431</td>\n",
       "      <td>-0.019871</td>\n",
       "      <td>-0.009266</td>\n",
       "      <td>-0.011217</td>\n",
       "      <td>-0.007984</td>\n",
       "      <td>-0.010435</td>\n",
       "      <td>-0.004337</td>\n",
       "      <td>-0.005911</td>\n",
       "      <td>...</td>\n",
       "      <td>0.026</td>\n",
       "      <td>0.005701</td>\n",
       "      <td>0.0198</td>\n",
       "      <td>0.003251</td>\n",
       "      <td>0.0148</td>\n",
       "      <td>0.004102</td>\n",
       "      <td>0.012</td>\n",
       "      <td>0.003359</td>\n",
       "      <td>0.01</td>\n",
       "      <td>0.002245</td>\n",
       "    </tr>\n",
       "    <tr>\n",
       "      <th>7</th>\n",
       "      <td>-0.015336</td>\n",
       "      <td>-0.020249</td>\n",
       "      <td>-0.014425</td>\n",
       "      <td>-0.019868</td>\n",
       "      <td>-0.009266</td>\n",
       "      <td>-0.011217</td>\n",
       "      <td>-0.007984</td>\n",
       "      <td>-0.010435</td>\n",
       "      <td>-0.004337</td>\n",
       "      <td>-0.005911</td>\n",
       "      <td>...</td>\n",
       "      <td>0.026</td>\n",
       "      <td>0.005702</td>\n",
       "      <td>0.0198</td>\n",
       "      <td>0.003251</td>\n",
       "      <td>0.0148</td>\n",
       "      <td>0.004102</td>\n",
       "      <td>0.012</td>\n",
       "      <td>0.003359</td>\n",
       "      <td>0.01</td>\n",
       "      <td>0.002245</td>\n",
       "    </tr>\n",
       "    <tr>\n",
       "      <th>8</th>\n",
       "      <td>-0.011696</td>\n",
       "      <td>-0.015739</td>\n",
       "      <td>-0.014004</td>\n",
       "      <td>-0.019654</td>\n",
       "      <td>-0.009224</td>\n",
       "      <td>-0.011198</td>\n",
       "      <td>-0.007981</td>\n",
       "      <td>-0.010433</td>\n",
       "      <td>-0.004336</td>\n",
       "      <td>-0.005911</td>\n",
       "      <td>...</td>\n",
       "      <td>0.026</td>\n",
       "      <td>0.005710</td>\n",
       "      <td>0.0198</td>\n",
       "      <td>0.003253</td>\n",
       "      <td>0.0148</td>\n",
       "      <td>0.004102</td>\n",
       "      <td>0.012</td>\n",
       "      <td>0.003359</td>\n",
       "      <td>0.01</td>\n",
       "      <td>0.002245</td>\n",
       "    </tr>\n",
       "    <tr>\n",
       "      <th>9</th>\n",
       "      <td>-0.014676</td>\n",
       "      <td>-0.019546</td>\n",
       "      <td>-0.014378</td>\n",
       "      <td>-0.019845</td>\n",
       "      <td>-0.009261</td>\n",
       "      <td>-0.011215</td>\n",
       "      <td>-0.007984</td>\n",
       "      <td>-0.010435</td>\n",
       "      <td>-0.004337</td>\n",
       "      <td>-0.005911</td>\n",
       "      <td>...</td>\n",
       "      <td>0.026</td>\n",
       "      <td>0.005703</td>\n",
       "      <td>0.0198</td>\n",
       "      <td>0.003252</td>\n",
       "      <td>0.0148</td>\n",
       "      <td>0.004102</td>\n",
       "      <td>0.012</td>\n",
       "      <td>0.003359</td>\n",
       "      <td>0.01</td>\n",
       "      <td>0.002245</td>\n",
       "    </tr>\n",
       "  </tbody>\n",
       "</table>\n",
       "<p>10 rows × 3891 columns</p>\n",
       "</div>"
      ],
      "text/plain": [
       "  abs_draught                                                              \\\n",
       "           0         2         4         6         8         10        12   \n",
       "0   -0.015779 -0.020702 -0.014453 -0.019883 -0.009268 -0.011218 -0.007985   \n",
       "1   -0.016482 -0.021404 -0.014493 -0.019903 -0.009272 -0.011220 -0.007985   \n",
       "2   -0.017488 -0.022391 -0.014544 -0.019928 -0.009277 -0.011222 -0.007985   \n",
       "3   -0.015046 -0.019947 -0.014405 -0.019859 -0.009264 -0.011216 -0.007984   \n",
       "4   -0.016509 -0.021431 -0.014495 -0.019904 -0.009272 -0.011220 -0.007985   \n",
       "5   -0.017311 -0.022218 -0.014536 -0.019924 -0.009276 -0.011222 -0.007985   \n",
       "6   -0.015426 -0.020342 -0.014431 -0.019871 -0.009266 -0.011217 -0.007984   \n",
       "7   -0.015336 -0.020249 -0.014425 -0.019868 -0.009266 -0.011217 -0.007984   \n",
       "8   -0.011696 -0.015739 -0.014004 -0.019654 -0.009224 -0.011198 -0.007981   \n",
       "9   -0.014676 -0.019546 -0.014378 -0.019845 -0.009261 -0.011215 -0.007984   \n",
       "\n",
       "                                 ... zouhar_contact_in_width            \\\n",
       "         14        16        18  ...                      8         10   \n",
       "0 -0.010435 -0.004337 -0.005911  ...                   0.026  0.005701   \n",
       "1 -0.010435 -0.004337 -0.005911  ...                   0.026  0.005700   \n",
       "2 -0.010435 -0.004337 -0.005911  ...                   0.026  0.005699   \n",
       "3 -0.010435 -0.004337 -0.005911  ...                   0.026  0.005702   \n",
       "4 -0.010435 -0.004337 -0.005911  ...                   0.026  0.005700   \n",
       "5 -0.010435 -0.004337 -0.005911  ...                   0.026  0.005699   \n",
       "6 -0.010435 -0.004337 -0.005911  ...                   0.026  0.005701   \n",
       "7 -0.010435 -0.004337 -0.005911  ...                   0.026  0.005702   \n",
       "8 -0.010433 -0.004336 -0.005911  ...                   0.026  0.005710   \n",
       "9 -0.010435 -0.004337 -0.005911  ...                   0.026  0.005703   \n",
       "\n",
       "                                                                        \n",
       "       12        14      16        18     20        22    24        26  \n",
       "0  0.0198  0.003251  0.0148  0.004102  0.012  0.003359  0.01  0.002245  \n",
       "1  0.0198  0.003251  0.0148  0.004102  0.012  0.003359  0.01  0.002245  \n",
       "2  0.0198  0.003251  0.0148  0.004102  0.012  0.003359  0.01  0.002245  \n",
       "3  0.0198  0.003252  0.0148  0.004102  0.012  0.003359  0.01  0.002245  \n",
       "4  0.0198  0.003251  0.0148  0.004102  0.012  0.003359  0.01  0.002245  \n",
       "5  0.0198  0.003251  0.0148  0.004102  0.012  0.003359  0.01  0.002245  \n",
       "6  0.0198  0.003251  0.0148  0.004102  0.012  0.003359  0.01  0.002245  \n",
       "7  0.0198  0.003251  0.0148  0.004102  0.012  0.003359  0.01  0.002245  \n",
       "8  0.0198  0.003253  0.0148  0.004102  0.012  0.003359  0.01  0.002245  \n",
       "9  0.0198  0.003252  0.0148  0.004102  0.012  0.003359  0.01  0.002245  \n",
       "\n",
       "[10 rows x 3891 columns]"
      ]
     },
     "execution_count": 10,
     "metadata": {},
     "output_type": "execute_result"
    }
   ],
   "source": [
    "df = pd.DataFrame([r.stack().swaplevel().sort_index() for r in results])\n",
    "df"
   ]
  },
  {
   "cell_type": "markdown",
   "id": "892b9e66e3913562",
   "metadata": {
    "editable": true,
    "papermill": {
     "duration": 0.008145,
     "end_time": "2024-07-17T13:08:14.666862",
     "exception": false,
     "start_time": "2024-07-17T13:08:14.658717",
     "status": "completed"
    },
    "slideshow": {
     "slide_type": ""
    },
    "tags": []
   },
   "source": [
    "Save dataframe to CSV file."
   ]
  },
  {
   "cell_type": "code",
   "execution_count": 11,
   "id": "dbb964f17b02f3d5",
   "metadata": {
    "ExecuteTime": {
     "end_time": "2024-07-17T10:22:59.183303Z",
     "start_time": "2024-07-17T10:22:58.000604Z"
    },
    "execution": {
     "iopub.execute_input": "2024-07-17T13:08:14.684777Z",
     "iopub.status.busy": "2024-07-17T13:08:14.684092Z",
     "iopub.status.idle": "2024-07-17T13:08:15.850437Z",
     "shell.execute_reply": "2024-07-17T13:08:15.849853Z"
    },
    "papermill": {
     "duration": 1.178243,
     "end_time": "2024-07-17T13:08:15.852894",
     "exception": false,
     "start_time": "2024-07-17T13:08:14.674651",
     "status": "completed"
    },
    "tags": []
   },
   "outputs": [],
   "source": [
    "df.to_csv(OUTPUT_FILENAME)"
   ]
  },
  {
   "cell_type": "code",
   "execution_count": null,
   "id": "5ae76746-6123-4629-a64a-4e14faac638e",
   "metadata": {
    "editable": true,
    "papermill": {
     "duration": 0.008435,
     "end_time": "2024-07-17T13:08:15.869447",
     "exception": false,
     "start_time": "2024-07-17T13:08:15.861012",
     "status": "completed"
    },
    "slideshow": {
     "slide_type": ""
    },
    "tags": []
   },
   "outputs": [],
   "source": []
  }
 ],
 "metadata": {
  "kernelspec": {
   "display_name": "Python 3 (ipykernel)",
   "language": "python",
   "name": "python3"
  },
  "language_info": {
   "codemirror_mode": {
    "name": "ipython",
    "version": 3
   },
   "file_extension": ".py",
   "mimetype": "text/x-python",
   "name": "python",
   "nbconvert_exporter": "python",
   "pygments_lexer": "ipython3",
   "version": "3.12.4"
  },
  "papermill": {
   "default_parameters": {},
   "duration": 5.780909,
   "end_time": "2024-07-17T13:08:16.398144",
   "environment_variables": {},
   "exception": null,
   "input_path": "/home/maxwe/Git/pyroll/publication-weiner-variation/weiner_variation/sim/sim_input.ipynb",
   "output_path": "/home/maxwe/Git/pyroll/publication-weiner-variation/weiner_variation/data/sim_diameter_stds_results/0.05.out.ipynb",
   "parameters": {
    "DIAMETER_STD": 0.0025000000000000005,
    "OUTPUT_FILENAME": "/home/maxwe/Git/pyroll/publication-weiner-variation/weiner_variation/data/sim_diameter_stds_results/0.05.csv"
   },
   "start_time": "2024-07-17T13:08:10.617235",
   "version": "2.6.0"
  }
 },
 "nbformat": 4,
 "nbformat_minor": 5
}
{
 "cells": [
  {
   "cell_type": "markdown",
   "id": "87eca59d9255a11f",
   "metadata": {
    "collapsed": false,
    "jupyter": {
     "outputs_hidden": false
    },
    "papermill": {
     "duration": 0.006582,
     "end_time": "2024-07-17T13:08:45.116713",
     "exception": false,
     "start_time": "2024-07-17T13:08:45.110131",
     "status": "completed"
    },
    "tags": []
   },
   "source": [
    "# Simulation of the Process with Input Variations"
   ]
  },
  {
   "cell_type": "markdown",
   "id": "d32b7558d586b87c",
   "metadata": {
    "collapsed": false,
    "jupyter": {
     "outputs_hidden": false
    },
    "papermill": {
     "duration": 0.006281,
     "end_time": "2024-07-17T13:08:45.129847",
     "exception": false,
     "start_time": "2024-07-17T13:08:45.123566",
     "status": "completed"
    },
    "tags": []
   },
   "source": [
    "Import PyRolL modules."
   ]
  },
  {
   "cell_type": "code",
   "execution_count": 1,
   "id": "dd58074fbc858aa5",
   "metadata": {
    "editable": true,
    "execution": {
     "iopub.execute_input": "2024-07-17T13:08:45.144055Z",
     "iopub.status.busy": "2024-07-17T13:08:45.143847Z",
     "iopub.status.idle": "2024-07-17T13:08:46.029632Z",
     "shell.execute_reply": "2024-07-17T13:08:46.028894Z"
    },
    "papermill": {
     "duration": 0.895502,
     "end_time": "2024-07-17T13:08:46.031661",
     "exception": false,
     "start_time": "2024-07-17T13:08:45.136159",
     "status": "completed"
    },
    "slideshow": {
     "slide_type": ""
    },
    "tags": []
   },
   "outputs": [],
   "source": [
    "import pyroll.basic as pr\n",
    "import pyroll.export as pre"
   ]
  },
  {
   "cell_type": "markdown",
   "id": "90e80818cdd8e1fd",
   "metadata": {
    "editable": true,
    "papermill": {
     "duration": 0.006063,
     "end_time": "2024-07-17T13:08:46.044085",
     "exception": false,
     "start_time": "2024-07-17T13:08:46.038022",
     "status": "completed"
    },
    "slideshow": {
     "slide_type": ""
    },
    "tags": []
   },
   "source": [
    "Import the process data."
   ]
  },
  {
   "cell_type": "code",
   "execution_count": 2,
   "id": "521e00d66a44dd25",
   "metadata": {
    "editable": true,
    "execution": {
     "iopub.execute_input": "2024-07-17T13:08:46.058084Z",
     "iopub.status.busy": "2024-07-17T13:08:46.057816Z",
     "iopub.status.idle": "2024-07-17T13:08:46.259338Z",
     "shell.execute_reply": "2024-07-17T13:08:46.258507Z"
    },
    "papermill": {
     "duration": 0.211376,
     "end_time": "2024-07-17T13:08:46.261622",
     "exception": false,
     "start_time": "2024-07-17T13:08:46.050246",
     "status": "completed"
    },
    "slideshow": {
     "slide_type": ""
    },
    "tags": []
   },
   "outputs": [],
   "source": [
    "from weiner_variation.sim.process import PASS_SEQUENCE, IN_PROFILE, TEMPERATURE, DIAMETER, TEMPERATURE_STD, DIAMETER_STD, create_in_profile\n",
    "from weiner_variation.sim.config import SAMPLE_COUNT, SEED\n",
    "from weiner_variation.sim.data import DrawInput\n",
    "from weiner_variation.config import DATA_DIR"
   ]
  },
  {
   "cell_type": "markdown",
   "id": "a10b5e1fd26dbacc",
   "metadata": {
    "editable": true,
    "papermill": {
     "duration": 0.005652,
     "end_time": "2024-07-17T13:08:46.274233",
     "exception": false,
     "start_time": "2024-07-17T13:08:46.268581",
     "status": "completed"
    },
    "slideshow": {
     "slide_type": ""
    },
    "tags": []
   },
   "source": [
    "Import further libraries."
   ]
  },
  {
   "cell_type": "code",
   "execution_count": 3,
   "id": "ea3837b5c12ed530",
   "metadata": {
    "editable": true,
    "execution": {
     "iopub.execute_input": "2024-07-17T13:08:46.288935Z",
     "iopub.status.busy": "2024-07-17T13:08:46.288520Z",
     "iopub.status.idle": "2024-07-17T13:08:46.427493Z",
     "shell.execute_reply": "2024-07-17T13:08:46.426691Z"
    },
    "papermill": {
     "duration": 0.148999,
     "end_time": "2024-07-17T13:08:46.429874",
     "exception": false,
     "start_time": "2024-07-17T13:08:46.280875",
     "status": "completed"
    },
    "slideshow": {
     "slide_type": ""
    },
    "tags": []
   },
   "outputs": [],
   "source": [
    "import pandas as pd\n",
    "from copy import deepcopy\n",
    "from scipy.stats import norm\n",
    "import numpy as np\n",
    "import tqdm\n",
    "from multiprocessing import Pool"
   ]
  },
  {
   "cell_type": "markdown",
   "id": "95ca8ac63a6e4e9a",
   "metadata": {
    "editable": true,
    "papermill": {
     "duration": 0.006442,
     "end_time": "2024-07-17T13:08:46.443182",
     "exception": false,
     "start_time": "2024-07-17T13:08:46.436740",
     "status": "completed"
    },
    "slideshow": {
     "slide_type": ""
    },
    "tags": []
   },
   "source": [
    "Parameters for notebook using papermill."
   ]
  },
  {
   "cell_type": "code",
   "execution_count": 4,
   "id": "f7a871812e201394",
   "metadata": {
    "editable": true,
    "execution": {
     "iopub.execute_input": "2024-07-17T13:08:46.457511Z",
     "iopub.status.busy": "2024-07-17T13:08:46.457207Z",
     "iopub.status.idle": "2024-07-17T13:08:46.461099Z",
     "shell.execute_reply": "2024-07-17T13:08:46.460153Z"
    },
    "papermill": {
     "duration": 0.013825,
     "end_time": "2024-07-17T13:08:46.463240",
     "exception": false,
     "start_time": "2024-07-17T13:08:46.449415",
     "status": "completed"
    },
    "slideshow": {
     "slide_type": ""
    },
    "tags": [
     "parameters"
    ]
   },
   "outputs": [],
   "source": [
    "DIAMETER_STD = DIAMETER_STD\n",
    "TEMPERATURE_STD = TEMPERATURE_STD\n",
    "OUTPUT_FILENAME = DATA_DIR / \"sim_input_results.csv\""
   ]
  },
  {
   "cell_type": "code",
   "execution_count": 5,
   "id": "d6f5d3fb",
   "metadata": {
    "execution": {
     "iopub.execute_input": "2024-07-17T13:08:46.477269Z",
     "iopub.status.busy": "2024-07-17T13:08:46.476870Z",
     "iopub.status.idle": "2024-07-17T13:08:46.480290Z",
     "shell.execute_reply": "2024-07-17T13:08:46.479855Z"
    },
    "papermill": {
     "duration": 0.012738,
     "end_time": "2024-07-17T13:08:46.481979",
     "exception": false,
     "start_time": "2024-07-17T13:08:46.469241",
     "status": "completed"
    },
    "tags": [
     "injected-parameters"
    ]
   },
   "outputs": [],
   "source": [
    "# Parameters\n",
    "OUTPUT_FILENAME = \"/home/maxwe/Git/pyroll/publication-weiner-variation/weiner_variation/data/sim_diameter_stds_results/0.1.csv\"\n",
    "DIAMETER_STD = 0.005000000000000001\n"
   ]
  },
  {
   "cell_type": "markdown",
   "id": "db84db3a0ac19dae",
   "metadata": {
    "editable": true,
    "papermill": {
     "duration": 0.005322,
     "end_time": "2024-07-17T13:08:46.493706",
     "exception": false,
     "start_time": "2024-07-17T13:08:46.488384",
     "status": "completed"
    },
    "slideshow": {
     "slide_type": ""
    },
    "tags": []
   },
   "source": [
    "Create distribution functions for input values."
   ]
  },
  {
   "cell_type": "code",
   "execution_count": 6,
   "id": "7cbfb72a23c99c34",
   "metadata": {
    "editable": true,
    "execution": {
     "iopub.execute_input": "2024-07-17T13:08:46.500719Z",
     "iopub.status.busy": "2024-07-17T13:08:46.499834Z",
     "iopub.status.idle": "2024-07-17T13:08:46.507344Z",
     "shell.execute_reply": "2024-07-17T13:08:46.506294Z"
    },
    "papermill": {
     "duration": 0.012473,
     "end_time": "2024-07-17T13:08:46.508697",
     "exception": false,
     "start_time": "2024-07-17T13:08:46.496224",
     "status": "completed"
    },
    "slideshow": {
     "slide_type": ""
    },
    "tags": []
   },
   "outputs": [],
   "source": [
    "diameter_dist = norm(loc=DIAMETER, scale=DIAMETER_STD)\n",
    "temperature_dist = norm(loc=TEMPERATURE, scale=TEMPERATURE_STD)"
   ]
  },
  {
   "cell_type": "markdown",
   "id": "aa3f488cb233a201",
   "metadata": {
    "editable": true,
    "papermill": {
     "duration": 0.002406,
     "end_time": "2024-07-17T13:08:46.514241",
     "exception": false,
     "start_time": "2024-07-17T13:08:46.511835",
     "status": "completed"
    },
    "slideshow": {
     "slide_type": ""
    },
    "tags": []
   },
   "source": [
    "Draw random inputs from distributions."
   ]
  },
  {
   "cell_type": "code",
   "execution_count": 7,
   "id": "3b127d24085f8d48",
   "metadata": {
    "editable": true,
    "execution": {
     "iopub.execute_input": "2024-07-17T13:08:46.520795Z",
     "iopub.status.busy": "2024-07-17T13:08:46.520417Z",
     "iopub.status.idle": "2024-07-17T13:08:46.526839Z",
     "shell.execute_reply": "2024-07-17T13:08:46.526097Z"
    },
    "papermill": {
     "duration": 0.01177,
     "end_time": "2024-07-17T13:08:46.528471",
     "exception": false,
     "start_time": "2024-07-17T13:08:46.516701",
     "status": "completed"
    },
    "slideshow": {
     "slide_type": ""
    },
    "tags": []
   },
   "outputs": [],
   "source": [
    "RNG = np.random.default_rng(SEED)\n",
    "diameters = diameter_dist.rvs(random_state=RNG, size=SAMPLE_COUNT)\n",
    "temperatures = temperature_dist.rvs(random_state=RNG, size=SAMPLE_COUNT)\n",
    "\n",
    "draws = [\n",
    "    DrawInput(d, t)\n",
    "    for d, t in zip(diameters, temperatures)\n",
    "]"
   ]
  },
  {
   "cell_type": "markdown",
   "id": "ae457863a6f14204",
   "metadata": {
    "editable": true,
    "papermill": {
     "duration": 0.002432,
     "end_time": "2024-07-17T13:08:46.533926",
     "exception": false,
     "start_time": "2024-07-17T13:08:46.531494",
     "status": "completed"
    },
    "slideshow": {
     "slide_type": ""
    },
    "tags": []
   },
   "source": [
    "Define a worker function creating the in profile, running the solution procedure and extracting results."
   ]
  },
  {
   "cell_type": "code",
   "execution_count": 8,
   "id": "bf37b0999a06930",
   "metadata": {
    "editable": true,
    "execution": {
     "iopub.execute_input": "2024-07-17T13:08:46.540502Z",
     "iopub.status.busy": "2024-07-17T13:08:46.540103Z",
     "iopub.status.idle": "2024-07-17T13:08:46.545407Z",
     "shell.execute_reply": "2024-07-17T13:08:46.544705Z"
    },
    "papermill": {
     "duration": 0.010215,
     "end_time": "2024-07-17T13:08:46.546640",
     "exception": false,
     "start_time": "2024-07-17T13:08:46.536425",
     "status": "completed"
    },
    "slideshow": {
     "slide_type": ""
    },
    "tags": []
   },
   "outputs": [],
   "source": [
    "def worker(draw: DrawInput):    \n",
    "    ip = create_in_profile(draw.diameter)\n",
    "    ip.temperature = draw.temperature\n",
    "\n",
    "    sequence = deepcopy(PASS_SEQUENCE)\n",
    "    sequence.solve(ip)       \n",
    "\n",
    "    return pre.to_pandas(sequence)"
   ]
  },
  {
   "cell_type": "markdown",
   "id": "9f83e35a998a132d",
   "metadata": {
    "editable": true,
    "papermill": {
     "duration": 0.00249,
     "end_time": "2024-07-17T13:08:46.552493",
     "exception": false,
     "start_time": "2024-07-17T13:08:46.550003",
     "status": "completed"
    },
    "slideshow": {
     "slide_type": ""
    },
    "tags": []
   },
   "source": [
    "Run the simulations using a process pool."
   ]
  },
  {
   "cell_type": "code",
   "execution_count": 9,
   "id": "4dd249dcf8221bf2",
   "metadata": {
    "ExecuteTime": {
     "end_time": "2024-07-17T10:22:42.312360Z",
     "start_time": "2024-07-17T10:22:39.946703Z"
    },
    "editable": true,
    "execution": {
     "iopub.execute_input": "2024-07-17T13:08:46.559500Z",
     "iopub.status.busy": "2024-07-17T13:08:46.558548Z",
     "iopub.status.idle": "2024-07-17T13:08:47.903708Z",
     "shell.execute_reply": "2024-07-17T13:08:47.903247Z"
    },
    "papermill": {
     "duration": 1.350415,
     "end_time": "2024-07-17T13:08:47.905367",
     "exception": false,
     "start_time": "2024-07-17T13:08:46.554952",
     "status": "completed"
    },
    "slideshow": {
     "slide_type": ""
    },
    "tags": []
   },
   "outputs": [
    {
     "name": "stderr",
     "output_type": "stream",
     "text": [
      "\r",
      "  0%|          | 0/10 [00:00<?, ?it/s]"
     ]
    },
    {
     "name": "stderr",
     "output_type": "stream",
     "text": [
      "\r",
      " 10%|█         | 1/10 [00:00<00:05,  1.55it/s]"
     ]
    },
    {
     "name": "stderr",
     "output_type": "stream",
     "text": [
      "\r",
      " 70%|███████   | 7/10 [00:01<00:00,  6.52it/s]"
     ]
    },
    {
     "name": "stderr",
     "output_type": "stream",
     "text": [
      "\r",
      "100%|██████████| 10/10 [00:01<00:00,  7.84it/s]"
     ]
    },
    {
     "name": "stderr",
     "output_type": "stream",
     "text": [
      "\n"
     ]
    }
   ],
   "source": [
    "results = list(tqdm.tqdm(Pool().imap(worker, draws), total=SAMPLE_COUNT))"
   ]
  },
  {
   "cell_type": "markdown",
   "id": "72d0d1f0975284d7",
   "metadata": {
    "editable": true,
    "papermill": {
     "duration": 0.002747,
     "end_time": "2024-07-17T13:08:47.913790",
     "exception": false,
     "start_time": "2024-07-17T13:08:47.911043",
     "status": "completed"
    },
    "slideshow": {
     "slide_type": ""
    },
    "tags": []
   },
   "source": [
    "Create a dataframe from results."
   ]
  },
  {
   "cell_type": "code",
   "execution_count": 10,
   "id": "29450ec772706a41",
   "metadata": {
    "ExecuteTime": {
     "end_time": "2024-07-17T10:22:47.912243Z",
     "start_time": "2024-07-17T10:22:47.706044Z"
    },
    "editable": true,
    "execution": {
     "iopub.execute_input": "2024-07-17T13:08:47.921164Z",
     "iopub.status.busy": "2024-07-17T13:08:47.920525Z",
     "iopub.status.idle": "2024-07-17T13:08:48.032911Z",
     "shell.execute_reply": "2024-07-17T13:08:48.032339Z"
    },
    "papermill": {
     "duration": 0.117587,
     "end_time": "2024-07-17T13:08:48.034119",
     "exception": false,
     "start_time": "2024-07-17T13:08:47.916532",
     "status": "completed"
    },
    "slideshow": {
     "slide_type": ""
    },
    "tags": []
   },
   "outputs": [
    {
     "data": {
      "text/html": [
       "<div>\n",
       "<style scoped>\n",
       "    .dataframe tbody tr th:only-of-type {\n",
       "        vertical-align: middle;\n",
       "    }\n",
       "\n",
       "    .dataframe tbody tr th {\n",
       "        vertical-align: top;\n",
       "    }\n",
       "\n",
       "    .dataframe thead tr th {\n",
       "        text-align: left;\n",
       "    }\n",
       "</style>\n",
       "<table border=\"1\" class=\"dataframe\">\n",
       "  <thead>\n",
       "    <tr>\n",
       "      <th></th>\n",
       "      <th colspan=\"10\" halign=\"left\">abs_draught</th>\n",
       "      <th>...</th>\n",
       "      <th colspan=\"10\" halign=\"left\">zouhar_contact_in_width</th>\n",
       "    </tr>\n",
       "    <tr>\n",
       "      <th></th>\n",
       "      <th>0</th>\n",
       "      <th>2</th>\n",
       "      <th>4</th>\n",
       "      <th>6</th>\n",
       "      <th>8</th>\n",
       "      <th>10</th>\n",
       "      <th>12</th>\n",
       "      <th>14</th>\n",
       "      <th>16</th>\n",
       "      <th>18</th>\n",
       "      <th>...</th>\n",
       "      <th>8</th>\n",
       "      <th>10</th>\n",
       "      <th>12</th>\n",
       "      <th>14</th>\n",
       "      <th>16</th>\n",
       "      <th>18</th>\n",
       "      <th>20</th>\n",
       "      <th>22</th>\n",
       "      <th>24</th>\n",
       "      <th>26</th>\n",
       "    </tr>\n",
       "  </thead>\n",
       "  <tbody>\n",
       "    <tr>\n",
       "      <th>0</th>\n",
       "      <td>-0.016498</td>\n",
       "      <td>-0.021420</td>\n",
       "      <td>-0.014494</td>\n",
       "      <td>-0.019903</td>\n",
       "      <td>-0.009272</td>\n",
       "      <td>-0.011220</td>\n",
       "      <td>-0.007985</td>\n",
       "      <td>-0.010435</td>\n",
       "      <td>-0.004337</td>\n",
       "      <td>-0.005911</td>\n",
       "      <td>...</td>\n",
       "      <td>0.026</td>\n",
       "      <td>0.005700</td>\n",
       "      <td>0.0198</td>\n",
       "      <td>0.003251</td>\n",
       "      <td>0.0148</td>\n",
       "      <td>0.004102</td>\n",
       "      <td>0.012</td>\n",
       "      <td>0.003359</td>\n",
       "      <td>0.01</td>\n",
       "      <td>0.002245</td>\n",
       "    </tr>\n",
       "    <tr>\n",
       "      <th>1</th>\n",
       "      <td>-0.017912</td>\n",
       "      <td>-0.022786</td>\n",
       "      <td>-0.014563</td>\n",
       "      <td>-0.019938</td>\n",
       "      <td>-0.009279</td>\n",
       "      <td>-0.011223</td>\n",
       "      <td>-0.007986</td>\n",
       "      <td>-0.010435</td>\n",
       "      <td>-0.004337</td>\n",
       "      <td>-0.005911</td>\n",
       "      <td>...</td>\n",
       "      <td>0.026</td>\n",
       "      <td>0.005699</td>\n",
       "      <td>0.0198</td>\n",
       "      <td>0.003251</td>\n",
       "      <td>0.0148</td>\n",
       "      <td>0.004102</td>\n",
       "      <td>0.012</td>\n",
       "      <td>0.003359</td>\n",
       "      <td>0.01</td>\n",
       "      <td>0.002245</td>\n",
       "    </tr>\n",
       "    <tr>\n",
       "      <th>2</th>\n",
       "      <td>-0.020101</td>\n",
       "      <td>-0.024797</td>\n",
       "      <td>-0.014646</td>\n",
       "      <td>-0.019980</td>\n",
       "      <td>-0.009287</td>\n",
       "      <td>-0.011227</td>\n",
       "      <td>-0.007986</td>\n",
       "      <td>-0.010436</td>\n",
       "      <td>-0.004337</td>\n",
       "      <td>-0.005911</td>\n",
       "      <td>...</td>\n",
       "      <td>0.026</td>\n",
       "      <td>0.005697</td>\n",
       "      <td>0.0198</td>\n",
       "      <td>0.003251</td>\n",
       "      <td>0.0148</td>\n",
       "      <td>0.004102</td>\n",
       "      <td>0.012</td>\n",
       "      <td>0.003359</td>\n",
       "      <td>0.01</td>\n",
       "      <td>0.002245</td>\n",
       "    </tr>\n",
       "    <tr>\n",
       "      <th>3</th>\n",
       "      <td>-0.015038</td>\n",
       "      <td>-0.019939</td>\n",
       "      <td>-0.014405</td>\n",
       "      <td>-0.019858</td>\n",
       "      <td>-0.009264</td>\n",
       "      <td>-0.011216</td>\n",
       "      <td>-0.007984</td>\n",
       "      <td>-0.010435</td>\n",
       "      <td>-0.004337</td>\n",
       "      <td>-0.005911</td>\n",
       "      <td>...</td>\n",
       "      <td>0.026</td>\n",
       "      <td>0.005702</td>\n",
       "      <td>0.0198</td>\n",
       "      <td>0.003252</td>\n",
       "      <td>0.0148</td>\n",
       "      <td>0.004102</td>\n",
       "      <td>0.012</td>\n",
       "      <td>0.003359</td>\n",
       "      <td>0.01</td>\n",
       "      <td>0.002245</td>\n",
       "    </tr>\n",
       "    <tr>\n",
       "      <th>4</th>\n",
       "      <td>-0.017971</td>\n",
       "      <td>-0.022840</td>\n",
       "      <td>-0.014565</td>\n",
       "      <td>-0.019939</td>\n",
       "      <td>-0.009279</td>\n",
       "      <td>-0.011223</td>\n",
       "      <td>-0.007986</td>\n",
       "      <td>-0.010435</td>\n",
       "      <td>-0.004337</td>\n",
       "      <td>-0.005911</td>\n",
       "      <td>...</td>\n",
       "      <td>0.026</td>\n",
       "      <td>0.005699</td>\n",
       "      <td>0.0198</td>\n",
       "      <td>0.003251</td>\n",
       "      <td>0.0148</td>\n",
       "      <td>0.004102</td>\n",
       "      <td>0.012</td>\n",
       "      <td>0.003359</td>\n",
       "      <td>0.01</td>\n",
       "      <td>0.002245</td>\n",
       "    </tr>\n",
       "    <tr>\n",
       "      <th>5</th>\n",
       "      <td>-0.019711</td>\n",
       "      <td>-0.024439</td>\n",
       "      <td>-0.014633</td>\n",
       "      <td>-0.019973</td>\n",
       "      <td>-0.009285</td>\n",
       "      <td>-0.011226</td>\n",
       "      <td>-0.007986</td>\n",
       "      <td>-0.010436</td>\n",
       "      <td>-0.004337</td>\n",
       "      <td>-0.005911</td>\n",
       "      <td>...</td>\n",
       "      <td>0.026</td>\n",
       "      <td>0.005697</td>\n",
       "      <td>0.0198</td>\n",
       "      <td>0.003251</td>\n",
       "      <td>0.0148</td>\n",
       "      <td>0.004102</td>\n",
       "      <td>0.012</td>\n",
       "      <td>0.003359</td>\n",
       "      <td>0.01</td>\n",
       "      <td>0.002245</td>\n",
       "    </tr>\n",
       "    <tr>\n",
       "      <th>6</th>\n",
       "      <td>-0.015797</td>\n",
       "      <td>-0.020720</td>\n",
       "      <td>-0.014454</td>\n",
       "      <td>-0.019883</td>\n",
       "      <td>-0.009268</td>\n",
       "      <td>-0.011218</td>\n",
       "      <td>-0.007985</td>\n",
       "      <td>-0.010435</td>\n",
       "      <td>-0.004337</td>\n",
       "      <td>-0.005911</td>\n",
       "      <td>...</td>\n",
       "      <td>0.026</td>\n",
       "      <td>0.005701</td>\n",
       "      <td>0.0198</td>\n",
       "      <td>0.003251</td>\n",
       "      <td>0.0148</td>\n",
       "      <td>0.004102</td>\n",
       "      <td>0.012</td>\n",
       "      <td>0.003359</td>\n",
       "      <td>0.01</td>\n",
       "      <td>0.002245</td>\n",
       "    </tr>\n",
       "    <tr>\n",
       "      <th>7</th>\n",
       "      <td>-0.015618</td>\n",
       "      <td>-0.020538</td>\n",
       "      <td>-0.014443</td>\n",
       "      <td>-0.019878</td>\n",
       "      <td>-0.009267</td>\n",
       "      <td>-0.011218</td>\n",
       "      <td>-0.007985</td>\n",
       "      <td>-0.010435</td>\n",
       "      <td>-0.004337</td>\n",
       "      <td>-0.005911</td>\n",
       "      <td>...</td>\n",
       "      <td>0.026</td>\n",
       "      <td>0.005701</td>\n",
       "      <td>0.0198</td>\n",
       "      <td>0.003251</td>\n",
       "      <td>0.0148</td>\n",
       "      <td>0.004102</td>\n",
       "      <td>0.012</td>\n",
       "      <td>0.003359</td>\n",
       "      <td>0.01</td>\n",
       "      <td>0.002245</td>\n",
       "    </tr>\n",
       "    <tr>\n",
       "      <th>8</th>\n",
       "      <td>-0.008451</td>\n",
       "      <td>-0.010577</td>\n",
       "      <td>-0.013005</td>\n",
       "      <td>-0.019128</td>\n",
       "      <td>-0.009120</td>\n",
       "      <td>-0.011149</td>\n",
       "      <td>-0.007972</td>\n",
       "      <td>-0.010429</td>\n",
       "      <td>-0.004335</td>\n",
       "      <td>-0.005910</td>\n",
       "      <td>...</td>\n",
       "      <td>0.026</td>\n",
       "      <td>0.005734</td>\n",
       "      <td>0.0198</td>\n",
       "      <td>0.003257</td>\n",
       "      <td>0.0148</td>\n",
       "      <td>0.004103</td>\n",
       "      <td>0.012</td>\n",
       "      <td>0.003359</td>\n",
       "      <td>0.01</td>\n",
       "      <td>0.002245</td>\n",
       "    </tr>\n",
       "    <tr>\n",
       "      <th>9</th>\n",
       "      <td>-0.014319</td>\n",
       "      <td>-0.019132</td>\n",
       "      <td>-0.014348</td>\n",
       "      <td>-0.019830</td>\n",
       "      <td>-0.009258</td>\n",
       "      <td>-0.011214</td>\n",
       "      <td>-0.007984</td>\n",
       "      <td>-0.010435</td>\n",
       "      <td>-0.004337</td>\n",
       "      <td>-0.005911</td>\n",
       "      <td>...</td>\n",
       "      <td>0.026</td>\n",
       "      <td>0.005703</td>\n",
       "      <td>0.0198</td>\n",
       "      <td>0.003252</td>\n",
       "      <td>0.0148</td>\n",
       "      <td>0.004102</td>\n",
       "      <td>0.012</td>\n",
       "      <td>0.003359</td>\n",
       "      <td>0.01</td>\n",
       "      <td>0.002245</td>\n",
       "    </tr>\n",
       "  </tbody>\n",
       "</table>\n",
       "<p>10 rows × 3891 columns</p>\n",
       "</div>"
      ],
      "text/plain": [
       "  abs_draught                                                              \\\n",
       "           0         2         4         6         8         10        12   \n",
       "0   -0.016498 -0.021420 -0.014494 -0.019903 -0.009272 -0.011220 -0.007985   \n",
       "1   -0.017912 -0.022786 -0.014563 -0.019938 -0.009279 -0.011223 -0.007986   \n",
       "2   -0.020101 -0.024797 -0.014646 -0.019980 -0.009287 -0.011227 -0.007986   \n",
       "3   -0.015038 -0.019939 -0.014405 -0.019858 -0.009264 -0.011216 -0.007984   \n",
       "4   -0.017971 -0.022840 -0.014565 -0.019939 -0.009279 -0.011223 -0.007986   \n",
       "5   -0.019711 -0.024439 -0.014633 -0.019973 -0.009285 -0.011226 -0.007986   \n",
       "6   -0.015797 -0.020720 -0.014454 -0.019883 -0.009268 -0.011218 -0.007985   \n",
       "7   -0.015618 -0.020538 -0.014443 -0.019878 -0.009267 -0.011218 -0.007985   \n",
       "8   -0.008451 -0.010577 -0.013005 -0.019128 -0.009120 -0.011149 -0.007972   \n",
       "9   -0.014319 -0.019132 -0.014348 -0.019830 -0.009258 -0.011214 -0.007984   \n",
       "\n",
       "                                 ... zouhar_contact_in_width            \\\n",
       "         14        16        18  ...                      8         10   \n",
       "0 -0.010435 -0.004337 -0.005911  ...                   0.026  0.005700   \n",
       "1 -0.010435 -0.004337 -0.005911  ...                   0.026  0.005699   \n",
       "2 -0.010436 -0.004337 -0.005911  ...                   0.026  0.005697   \n",
       "3 -0.010435 -0.004337 -0.005911  ...                   0.026  0.005702   \n",
       "4 -0.010435 -0.004337 -0.005911  ...                   0.026  0.005699   \n",
       "5 -0.010436 -0.004337 -0.005911  ...                   0.026  0.005697   \n",
       "6 -0.010435 -0.004337 -0.005911  ...                   0.026  0.005701   \n",
       "7 -0.010435 -0.004337 -0.005911  ...                   0.026  0.005701   \n",
       "8 -0.010429 -0.004335 -0.005910  ...                   0.026  0.005734   \n",
       "9 -0.010435 -0.004337 -0.005911  ...                   0.026  0.005703   \n",
       "\n",
       "                                                                        \n",
       "       12        14      16        18     20        22    24        26  \n",
       "0  0.0198  0.003251  0.0148  0.004102  0.012  0.003359  0.01  0.002245  \n",
       "1  0.0198  0.003251  0.0148  0.004102  0.012  0.003359  0.01  0.002245  \n",
       "2  0.0198  0.003251  0.0148  0.004102  0.012  0.003359  0.01  0.002245  \n",
       "3  0.0198  0.003252  0.0148  0.004102  0.012  0.003359  0.01  0.002245  \n",
       "4  0.0198  0.003251  0.0148  0.004102  0.012  0.003359  0.01  0.002245  \n",
       "5  0.0198  0.003251  0.0148  0.004102  0.012  0.003359  0.01  0.002245  \n",
       "6  0.0198  0.003251  0.0148  0.004102  0.012  0.003359  0.01  0.002245  \n",
       "7  0.0198  0.003251  0.0148  0.004102  0.012  0.003359  0.01  0.002245  \n",
       "8  0.0198  0.003257  0.0148  0.004103  0.012  0.003359  0.01  0.002245  \n",
       "9  0.0198  0.003252  0.0148  0.004102  0.012  0.003359  0.01  0.002245  \n",
       "\n",
       "[10 rows x 3891 columns]"
      ]
     },
     "execution_count": 10,
     "metadata": {},
     "output_type": "execute_result"
    }
   ],
   "source": [
    "df = pd.DataFrame([r.stack().swaplevel().sort_index() for r in results])\n",
    "df"
   ]
  },
  {
   "cell_type": "markdown",
   "id": "892b9e66e3913562",
   "metadata": {
    "editable": true,
    "papermill": {
     "duration": 0.003027,
     "end_time": "2024-07-17T13:08:48.040372",
     "exception": false,
     "start_time": "2024-07-17T13:08:48.037345",
     "status": "completed"
    },
    "slideshow": {
     "slide_type": ""
    },
    "tags": []
   },
   "source": [
    "Save dataframe to CSV file."
   ]
  },
  {
   "cell_type": "code",
   "execution_count": 11,
   "id": "dbb964f17b02f3d5",
   "metadata": {
    "ExecuteTime": {
     "end_time": "2024-07-17T10:22:59.183303Z",
     "start_time": "2024-07-17T10:22:58.000604Z"
    },
    "execution": {
     "iopub.execute_input": "2024-07-17T13:08:48.048171Z",
     "iopub.status.busy": "2024-07-17T13:08:48.047723Z",
     "iopub.status.idle": "2024-07-17T13:08:49.226390Z",
     "shell.execute_reply": "2024-07-17T13:08:49.225702Z"
    },
    "papermill": {
     "duration": 1.18474,
     "end_time": "2024-07-17T13:08:49.228386",
     "exception": false,
     "start_time": "2024-07-17T13:08:48.043646",
     "status": "completed"
    },
    "tags": []
   },
   "outputs": [],
   "source": [
    "df.to_csv(OUTPUT_FILENAME)"
   ]
  },
  {
   "cell_type": "code",
   "execution_count": null,
   "id": "5ae76746-6123-4629-a64a-4e14faac638e",
   "metadata": {
    "editable": true,
    "papermill": {
     "duration": 0.005114,
     "end_time": "2024-07-17T13:08:49.241250",
     "exception": false,
     "start_time": "2024-07-17T13:08:49.236136",
     "status": "completed"
    },
    "slideshow": {
     "slide_type": ""
    },
    "tags": []
   },
   "outputs": [],
   "source": []
  }
 ],
 "metadata": {
  "kernelspec": {
   "display_name": "Python 3 (ipykernel)",
   "language": "python",
   "name": "python3"
  },
  "language_info": {
   "codemirror_mode": {
    "name": "ipython",
    "version": 3
   },
   "file_extension": ".py",
   "mimetype": "text/x-python",
   "name": "python",
   "nbconvert_exporter": "python",
   "pygments_lexer": "ipython3",
   "version": "3.12.4"
  },
  "papermill": {
   "default_parameters": {},
   "duration": 5.321359,
   "end_time": "2024-07-17T13:08:49.762656",
   "environment_variables": {},
   "exception": null,
   "input_path": "/home/maxwe/Git/pyroll/publication-weiner-variation/weiner_variation/sim/sim_input.ipynb",
   "output_path": "/home/maxwe/Git/pyroll/publication-weiner-variation/weiner_variation/data/sim_diameter_stds_results/0.1.out.ipynb",
   "parameters": {
    "DIAMETER_STD": 0.005000000000000001,
    "OUTPUT_FILENAME": "/home/maxwe/Git/pyroll/publication-weiner-variation/weiner_variation/data/sim_diameter_stds_results/0.1.csv"
   },
   "start_time": "2024-07-17T13:08:44.441297",
   "version": "2.6.0"
  }
 },
 "nbformat": 4,
 "nbformat_minor": 5
}
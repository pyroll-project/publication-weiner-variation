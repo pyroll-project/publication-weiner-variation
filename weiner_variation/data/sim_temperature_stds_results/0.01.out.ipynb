{
 "cells": [
  {
   "cell_type": "markdown",
   "id": "87eca59d9255a11f",
   "metadata": {
    "collapsed": false,
    "jupyter": {
     "outputs_hidden": false
    },
    "papermill": {
     "duration": 0.006549,
     "end_time": "2024-07-17T13:08:50.800397",
     "exception": false,
     "start_time": "2024-07-17T13:08:50.793848",
     "status": "completed"
    },
    "tags": []
   },
   "source": [
    "# Simulation of the Process with Input Variations"
   ]
  },
  {
   "cell_type": "markdown",
   "id": "d32b7558d586b87c",
   "metadata": {
    "collapsed": false,
    "jupyter": {
     "outputs_hidden": false
    },
    "papermill": {
     "duration": 0.006136,
     "end_time": "2024-07-17T13:08:50.813388",
     "exception": false,
     "start_time": "2024-07-17T13:08:50.807252",
     "status": "completed"
    },
    "tags": []
   },
   "source": [
    "Import PyRolL modules."
   ]
  },
  {
   "cell_type": "code",
   "execution_count": 1,
   "id": "dd58074fbc858aa5",
   "metadata": {
    "editable": true,
    "execution": {
     "iopub.execute_input": "2024-07-17T13:08:50.826916Z",
     "iopub.status.busy": "2024-07-17T13:08:50.826501Z",
     "iopub.status.idle": "2024-07-17T13:08:51.711192Z",
     "shell.execute_reply": "2024-07-17T13:08:51.710381Z"
    },
    "papermill": {
     "duration": 0.89284,
     "end_time": "2024-07-17T13:08:51.712458",
     "exception": false,
     "start_time": "2024-07-17T13:08:50.819618",
     "status": "completed"
    },
    "slideshow": {
     "slide_type": ""
    },
    "tags": []
   },
   "outputs": [],
   "source": [
    "import pyroll.basic as pr\n",
    "import pyroll.export as pre"
   ]
  },
  {
   "cell_type": "markdown",
   "id": "90e80818cdd8e1fd",
   "metadata": {
    "editable": true,
    "papermill": {
     "duration": 0.002466,
     "end_time": "2024-07-17T13:08:51.717504",
     "exception": false,
     "start_time": "2024-07-17T13:08:51.715038",
     "status": "completed"
    },
    "slideshow": {
     "slide_type": ""
    },
    "tags": []
   },
   "source": [
    "Import the process data."
   ]
  },
  {
   "cell_type": "code",
   "execution_count": 2,
   "id": "521e00d66a44dd25",
   "metadata": {
    "editable": true,
    "execution": {
     "iopub.execute_input": "2024-07-17T13:08:51.723746Z",
     "iopub.status.busy": "2024-07-17T13:08:51.723284Z",
     "iopub.status.idle": "2024-07-17T13:08:51.925475Z",
     "shell.execute_reply": "2024-07-17T13:08:51.924801Z"
    },
    "papermill": {
     "duration": 0.20706,
     "end_time": "2024-07-17T13:08:51.926914",
     "exception": false,
     "start_time": "2024-07-17T13:08:51.719854",
     "status": "completed"
    },
    "slideshow": {
     "slide_type": ""
    },
    "tags": []
   },
   "outputs": [],
   "source": [
    "from weiner_variation.sim.process import PASS_SEQUENCE, IN_PROFILE, TEMPERATURE, DIAMETER, TEMPERATURE_STD, DIAMETER_STD, create_in_profile\n",
    "from weiner_variation.sim.config import SAMPLE_COUNT, SEED\n",
    "from weiner_variation.sim.data import DrawInput\n",
    "from weiner_variation.config import DATA_DIR"
   ]
  },
  {
   "cell_type": "markdown",
   "id": "a10b5e1fd26dbacc",
   "metadata": {
    "editable": true,
    "papermill": {
     "duration": 0.002352,
     "end_time": "2024-07-17T13:08:51.931878",
     "exception": false,
     "start_time": "2024-07-17T13:08:51.929526",
     "status": "completed"
    },
    "slideshow": {
     "slide_type": ""
    },
    "tags": []
   },
   "source": [
    "Import further libraries."
   ]
  },
  {
   "cell_type": "code",
   "execution_count": 3,
   "id": "ea3837b5c12ed530",
   "metadata": {
    "editable": true,
    "execution": {
     "iopub.execute_input": "2024-07-17T13:08:51.938088Z",
     "iopub.status.busy": "2024-07-17T13:08:51.937763Z",
     "iopub.status.idle": "2024-07-17T13:08:52.076337Z",
     "shell.execute_reply": "2024-07-17T13:08:52.075357Z"
    },
    "papermill": {
     "duration": 0.143886,
     "end_time": "2024-07-17T13:08:52.078221",
     "exception": false,
     "start_time": "2024-07-17T13:08:51.934335",
     "status": "completed"
    },
    "slideshow": {
     "slide_type": ""
    },
    "tags": []
   },
   "outputs": [],
   "source": [
    "import pandas as pd\n",
    "from copy import deepcopy\n",
    "from scipy.stats import norm\n",
    "import numpy as np\n",
    "import tqdm\n",
    "from multiprocessing import Pool"
   ]
  },
  {
   "cell_type": "markdown",
   "id": "95ca8ac63a6e4e9a",
   "metadata": {
    "editable": true,
    "papermill": {
     "duration": 0.00619,
     "end_time": "2024-07-17T13:08:52.090782",
     "exception": false,
     "start_time": "2024-07-17T13:08:52.084592",
     "status": "completed"
    },
    "slideshow": {
     "slide_type": ""
    },
    "tags": []
   },
   "source": [
    "Parameters for notebook using papermill."
   ]
  },
  {
   "cell_type": "code",
   "execution_count": 4,
   "id": "f7a871812e201394",
   "metadata": {
    "editable": true,
    "execution": {
     "iopub.execute_input": "2024-07-17T13:08:52.105991Z",
     "iopub.status.busy": "2024-07-17T13:08:52.105268Z",
     "iopub.status.idle": "2024-07-17T13:08:52.109554Z",
     "shell.execute_reply": "2024-07-17T13:08:52.108790Z"
    },
    "papermill": {
     "duration": 0.01417,
     "end_time": "2024-07-17T13:08:52.111415",
     "exception": false,
     "start_time": "2024-07-17T13:08:52.097245",
     "status": "completed"
    },
    "slideshow": {
     "slide_type": ""
    },
    "tags": [
     "parameters"
    ]
   },
   "outputs": [],
   "source": [
    "DIAMETER_STD = DIAMETER_STD\n",
    "TEMPERATURE_STD = TEMPERATURE_STD\n",
    "OUTPUT_FILENAME = DATA_DIR / \"sim_input_results.csv\""
   ]
  },
  {
   "cell_type": "code",
   "execution_count": 5,
   "id": "052561d4",
   "metadata": {
    "execution": {
     "iopub.execute_input": "2024-07-17T13:08:52.125842Z",
     "iopub.status.busy": "2024-07-17T13:08:52.125502Z",
     "iopub.status.idle": "2024-07-17T13:08:52.128852Z",
     "shell.execute_reply": "2024-07-17T13:08:52.128217Z"
    },
    "papermill": {
     "duration": 0.012841,
     "end_time": "2024-07-17T13:08:52.130556",
     "exception": false,
     "start_time": "2024-07-17T13:08:52.117715",
     "status": "completed"
    },
    "tags": [
     "injected-parameters"
    ]
   },
   "outputs": [],
   "source": [
    "# Parameters\n",
    "OUTPUT_FILENAME = \"/home/maxwe/Git/pyroll/publication-weiner-variation/weiner_variation/data/sim_temperature_stds_results/0.01.csv\"\n",
    "TEMPERATURE_STD = 14.2315\n"
   ]
  },
  {
   "cell_type": "markdown",
   "id": "db84db3a0ac19dae",
   "metadata": {
    "editable": true,
    "papermill": {
     "duration": 0.006068,
     "end_time": "2024-07-17T13:08:52.142957",
     "exception": false,
     "start_time": "2024-07-17T13:08:52.136889",
     "status": "completed"
    },
    "slideshow": {
     "slide_type": ""
    },
    "tags": []
   },
   "source": [
    "Create distribution functions for input values."
   ]
  },
  {
   "cell_type": "code",
   "execution_count": 6,
   "id": "7cbfb72a23c99c34",
   "metadata": {
    "editable": true,
    "execution": {
     "iopub.execute_input": "2024-07-17T13:08:52.151103Z",
     "iopub.status.busy": "2024-07-17T13:08:52.150785Z",
     "iopub.status.idle": "2024-07-17T13:08:52.157134Z",
     "shell.execute_reply": "2024-07-17T13:08:52.156314Z"
    },
    "papermill": {
     "duration": 0.011975,
     "end_time": "2024-07-17T13:08:52.159260",
     "exception": false,
     "start_time": "2024-07-17T13:08:52.147285",
     "status": "completed"
    },
    "slideshow": {
     "slide_type": ""
    },
    "tags": []
   },
   "outputs": [],
   "source": [
    "diameter_dist = norm(loc=DIAMETER, scale=DIAMETER_STD)\n",
    "temperature_dist = norm(loc=TEMPERATURE, scale=TEMPERATURE_STD)"
   ]
  },
  {
   "cell_type": "markdown",
   "id": "aa3f488cb233a201",
   "metadata": {
    "editable": true,
    "papermill": {
     "duration": 0.00244,
     "end_time": "2024-07-17T13:08:52.164256",
     "exception": false,
     "start_time": "2024-07-17T13:08:52.161816",
     "status": "completed"
    },
    "slideshow": {
     "slide_type": ""
    },
    "tags": []
   },
   "source": [
    "Draw random inputs from distributions."
   ]
  },
  {
   "cell_type": "code",
   "execution_count": 7,
   "id": "3b127d24085f8d48",
   "metadata": {
    "editable": true,
    "execution": {
     "iopub.execute_input": "2024-07-17T13:08:52.170626Z",
     "iopub.status.busy": "2024-07-17T13:08:52.170305Z",
     "iopub.status.idle": "2024-07-17T13:08:52.176224Z",
     "shell.execute_reply": "2024-07-17T13:08:52.175390Z"
    },
    "papermill": {
     "duration": 0.011187,
     "end_time": "2024-07-17T13:08:52.177920",
     "exception": false,
     "start_time": "2024-07-17T13:08:52.166733",
     "status": "completed"
    },
    "slideshow": {
     "slide_type": ""
    },
    "tags": []
   },
   "outputs": [],
   "source": [
    "RNG = np.random.default_rng(SEED)\n",
    "diameters = diameter_dist.rvs(random_state=RNG, size=SAMPLE_COUNT)\n",
    "temperatures = temperature_dist.rvs(random_state=RNG, size=SAMPLE_COUNT)\n",
    "\n",
    "draws = [\n",
    "    DrawInput(d, t)\n",
    "    for d, t in zip(diameters, temperatures)\n",
    "]"
   ]
  },
  {
   "cell_type": "markdown",
   "id": "ae457863a6f14204",
   "metadata": {
    "editable": true,
    "papermill": {
     "duration": 0.002483,
     "end_time": "2024-07-17T13:08:52.183206",
     "exception": false,
     "start_time": "2024-07-17T13:08:52.180723",
     "status": "completed"
    },
    "slideshow": {
     "slide_type": ""
    },
    "tags": []
   },
   "source": [
    "Define a worker function creating the in profile, running the solution procedure and extracting results."
   ]
  },
  {
   "cell_type": "code",
   "execution_count": 8,
   "id": "bf37b0999a06930",
   "metadata": {
    "editable": true,
    "execution": {
     "iopub.execute_input": "2024-07-17T13:08:52.189711Z",
     "iopub.status.busy": "2024-07-17T13:08:52.189386Z",
     "iopub.status.idle": "2024-07-17T13:08:52.194277Z",
     "shell.execute_reply": "2024-07-17T13:08:52.193475Z"
    },
    "papermill": {
     "duration": 0.009626,
     "end_time": "2024-07-17T13:08:52.195438",
     "exception": false,
     "start_time": "2024-07-17T13:08:52.185812",
     "status": "completed"
    },
    "slideshow": {
     "slide_type": ""
    },
    "tags": []
   },
   "outputs": [],
   "source": [
    "def worker(draw: DrawInput):    \n",
    "    ip = create_in_profile(draw.diameter)\n",
    "    ip.temperature = draw.temperature\n",
    "\n",
    "    sequence = deepcopy(PASS_SEQUENCE)\n",
    "    sequence.solve(ip)       \n",
    "\n",
    "    return pre.to_pandas(sequence)"
   ]
  },
  {
   "cell_type": "markdown",
   "id": "9f83e35a998a132d",
   "metadata": {
    "editable": true,
    "papermill": {
     "duration": 0.002505,
     "end_time": "2024-07-17T13:08:52.201349",
     "exception": false,
     "start_time": "2024-07-17T13:08:52.198844",
     "status": "completed"
    },
    "slideshow": {
     "slide_type": ""
    },
    "tags": []
   },
   "source": [
    "Run the simulations using a process pool."
   ]
  },
  {
   "cell_type": "code",
   "execution_count": 9,
   "id": "4dd249dcf8221bf2",
   "metadata": {
    "ExecuteTime": {
     "end_time": "2024-07-17T10:22:42.312360Z",
     "start_time": "2024-07-17T10:22:39.946703Z"
    },
    "editable": true,
    "execution": {
     "iopub.execute_input": "2024-07-17T13:08:52.208078Z",
     "iopub.status.busy": "2024-07-17T13:08:52.207397Z",
     "iopub.status.idle": "2024-07-17T13:08:53.558659Z",
     "shell.execute_reply": "2024-07-17T13:08:53.558268Z"
    },
    "papermill": {
     "duration": 1.355649,
     "end_time": "2024-07-17T13:08:53.559493",
     "exception": false,
     "start_time": "2024-07-17T13:08:52.203844",
     "status": "completed"
    },
    "slideshow": {
     "slide_type": ""
    },
    "tags": []
   },
   "outputs": [
    {
     "name": "stderr",
     "output_type": "stream",
     "text": [
      "\r",
      "  0%|          | 0/10 [00:00<?, ?it/s]"
     ]
    },
    {
     "name": "stderr",
     "output_type": "stream",
     "text": [
      "\r",
      " 10%|█         | 1/10 [00:00<00:05,  1.55it/s]"
     ]
    },
    {
     "name": "stderr",
     "output_type": "stream",
     "text": [
      "\r",
      " 70%|███████   | 7/10 [00:01<00:00,  6.59it/s]"
     ]
    },
    {
     "name": "stderr",
     "output_type": "stream",
     "text": [
      "\r",
      "100%|██████████| 10/10 [00:01<00:00,  7.97it/s]"
     ]
    },
    {
     "name": "stderr",
     "output_type": "stream",
     "text": [
      "\n"
     ]
    }
   ],
   "source": [
    "results = list(tqdm.tqdm(Pool().imap(worker, draws), total=SAMPLE_COUNT))"
   ]
  },
  {
   "cell_type": "markdown",
   "id": "72d0d1f0975284d7",
   "metadata": {
    "editable": true,
    "papermill": {
     "duration": 0.002814,
     "end_time": "2024-07-17T13:08:53.565177",
     "exception": false,
     "start_time": "2024-07-17T13:08:53.562363",
     "status": "completed"
    },
    "slideshow": {
     "slide_type": ""
    },
    "tags": []
   },
   "source": [
    "Create a dataframe from results."
   ]
  },
  {
   "cell_type": "code",
   "execution_count": 10,
   "id": "29450ec772706a41",
   "metadata": {
    "ExecuteTime": {
     "end_time": "2024-07-17T10:22:47.912243Z",
     "start_time": "2024-07-17T10:22:47.706044Z"
    },
    "editable": true,
    "execution": {
     "iopub.execute_input": "2024-07-17T13:08:53.573020Z",
     "iopub.status.busy": "2024-07-17T13:08:53.572100Z",
     "iopub.status.idle": "2024-07-17T13:08:53.684063Z",
     "shell.execute_reply": "2024-07-17T13:08:53.683463Z"
    },
    "papermill": {
     "duration": 0.118353,
     "end_time": "2024-07-17T13:08:53.686366",
     "exception": false,
     "start_time": "2024-07-17T13:08:53.568013",
     "status": "completed"
    },
    "slideshow": {
     "slide_type": ""
    },
    "tags": []
   },
   "outputs": [
    {
     "data": {
      "text/html": [
       "<div>\n",
       "<style scoped>\n",
       "    .dataframe tbody tr th:only-of-type {\n",
       "        vertical-align: middle;\n",
       "    }\n",
       "\n",
       "    .dataframe tbody tr th {\n",
       "        vertical-align: top;\n",
       "    }\n",
       "\n",
       "    .dataframe thead tr th {\n",
       "        text-align: left;\n",
       "    }\n",
       "</style>\n",
       "<table border=\"1\" class=\"dataframe\">\n",
       "  <thead>\n",
       "    <tr>\n",
       "      <th></th>\n",
       "      <th colspan=\"10\" halign=\"left\">abs_draught</th>\n",
       "      <th>...</th>\n",
       "      <th colspan=\"10\" halign=\"left\">zouhar_contact_in_width</th>\n",
       "    </tr>\n",
       "    <tr>\n",
       "      <th></th>\n",
       "      <th>0</th>\n",
       "      <th>2</th>\n",
       "      <th>4</th>\n",
       "      <th>6</th>\n",
       "      <th>8</th>\n",
       "      <th>10</th>\n",
       "      <th>12</th>\n",
       "      <th>14</th>\n",
       "      <th>16</th>\n",
       "      <th>18</th>\n",
       "      <th>...</th>\n",
       "      <th>8</th>\n",
       "      <th>10</th>\n",
       "      <th>12</th>\n",
       "      <th>14</th>\n",
       "      <th>16</th>\n",
       "      <th>18</th>\n",
       "      <th>20</th>\n",
       "      <th>22</th>\n",
       "      <th>24</th>\n",
       "      <th>26</th>\n",
       "    </tr>\n",
       "  </thead>\n",
       "  <tbody>\n",
       "    <tr>\n",
       "      <th>0</th>\n",
       "      <td>-0.015344</td>\n",
       "      <td>-0.020258</td>\n",
       "      <td>-0.014426</td>\n",
       "      <td>-0.019869</td>\n",
       "      <td>-0.009266</td>\n",
       "      <td>-0.011217</td>\n",
       "      <td>-0.007984</td>\n",
       "      <td>-0.010435</td>\n",
       "      <td>-0.004337</td>\n",
       "      <td>-0.005911</td>\n",
       "      <td>...</td>\n",
       "      <td>0.026</td>\n",
       "      <td>0.005702</td>\n",
       "      <td>0.0198</td>\n",
       "      <td>0.003251</td>\n",
       "      <td>0.0148</td>\n",
       "      <td>0.004102</td>\n",
       "      <td>0.012</td>\n",
       "      <td>0.003359</td>\n",
       "      <td>0.01</td>\n",
       "      <td>0.002245</td>\n",
       "    </tr>\n",
       "    <tr>\n",
       "      <th>1</th>\n",
       "      <td>-0.015628</td>\n",
       "      <td>-0.020549</td>\n",
       "      <td>-0.014444</td>\n",
       "      <td>-0.019878</td>\n",
       "      <td>-0.009267</td>\n",
       "      <td>-0.011218</td>\n",
       "      <td>-0.007985</td>\n",
       "      <td>-0.010435</td>\n",
       "      <td>-0.004337</td>\n",
       "      <td>-0.005911</td>\n",
       "      <td>...</td>\n",
       "      <td>0.026</td>\n",
       "      <td>0.005701</td>\n",
       "      <td>0.0198</td>\n",
       "      <td>0.003251</td>\n",
       "      <td>0.0148</td>\n",
       "      <td>0.004102</td>\n",
       "      <td>0.012</td>\n",
       "      <td>0.003359</td>\n",
       "      <td>0.01</td>\n",
       "      <td>0.002245</td>\n",
       "    </tr>\n",
       "    <tr>\n",
       "      <th>2</th>\n",
       "      <td>-0.016036</td>\n",
       "      <td>-0.020961</td>\n",
       "      <td>-0.014468</td>\n",
       "      <td>-0.019890</td>\n",
       "      <td>-0.009270</td>\n",
       "      <td>-0.011219</td>\n",
       "      <td>-0.007985</td>\n",
       "      <td>-0.010435</td>\n",
       "      <td>-0.004337</td>\n",
       "      <td>-0.005911</td>\n",
       "      <td>...</td>\n",
       "      <td>0.026</td>\n",
       "      <td>0.005701</td>\n",
       "      <td>0.0198</td>\n",
       "      <td>0.003251</td>\n",
       "      <td>0.0148</td>\n",
       "      <td>0.004102</td>\n",
       "      <td>0.012</td>\n",
       "      <td>0.003359</td>\n",
       "      <td>0.01</td>\n",
       "      <td>0.002245</td>\n",
       "    </tr>\n",
       "    <tr>\n",
       "      <th>3</th>\n",
       "      <td>-0.015050</td>\n",
       "      <td>-0.019952</td>\n",
       "      <td>-0.014406</td>\n",
       "      <td>-0.019859</td>\n",
       "      <td>-0.009264</td>\n",
       "      <td>-0.011216</td>\n",
       "      <td>-0.007984</td>\n",
       "      <td>-0.010435</td>\n",
       "      <td>-0.004337</td>\n",
       "      <td>-0.005911</td>\n",
       "      <td>...</td>\n",
       "      <td>0.026</td>\n",
       "      <td>0.005702</td>\n",
       "      <td>0.0198</td>\n",
       "      <td>0.003252</td>\n",
       "      <td>0.0148</td>\n",
       "      <td>0.004102</td>\n",
       "      <td>0.012</td>\n",
       "      <td>0.003359</td>\n",
       "      <td>0.01</td>\n",
       "      <td>0.002245</td>\n",
       "    </tr>\n",
       "    <tr>\n",
       "      <th>4</th>\n",
       "      <td>-0.015639</td>\n",
       "      <td>-0.020560</td>\n",
       "      <td>-0.014444</td>\n",
       "      <td>-0.019878</td>\n",
       "      <td>-0.009267</td>\n",
       "      <td>-0.011218</td>\n",
       "      <td>-0.007985</td>\n",
       "      <td>-0.010435</td>\n",
       "      <td>-0.004337</td>\n",
       "      <td>-0.005911</td>\n",
       "      <td>...</td>\n",
       "      <td>0.026</td>\n",
       "      <td>0.005701</td>\n",
       "      <td>0.0198</td>\n",
       "      <td>0.003251</td>\n",
       "      <td>0.0148</td>\n",
       "      <td>0.004102</td>\n",
       "      <td>0.012</td>\n",
       "      <td>0.003359</td>\n",
       "      <td>0.01</td>\n",
       "      <td>0.002245</td>\n",
       "    </tr>\n",
       "    <tr>\n",
       "      <th>5</th>\n",
       "      <td>-0.015964</td>\n",
       "      <td>-0.020889</td>\n",
       "      <td>-0.014464</td>\n",
       "      <td>-0.019888</td>\n",
       "      <td>-0.009269</td>\n",
       "      <td>-0.011219</td>\n",
       "      <td>-0.007985</td>\n",
       "      <td>-0.010435</td>\n",
       "      <td>-0.004337</td>\n",
       "      <td>-0.005911</td>\n",
       "      <td>...</td>\n",
       "      <td>0.026</td>\n",
       "      <td>0.005701</td>\n",
       "      <td>0.0198</td>\n",
       "      <td>0.003251</td>\n",
       "      <td>0.0148</td>\n",
       "      <td>0.004102</td>\n",
       "      <td>0.012</td>\n",
       "      <td>0.003359</td>\n",
       "      <td>0.01</td>\n",
       "      <td>0.002245</td>\n",
       "    </tr>\n",
       "    <tr>\n",
       "      <th>6</th>\n",
       "      <td>-0.015202</td>\n",
       "      <td>-0.020111</td>\n",
       "      <td>-0.014416</td>\n",
       "      <td>-0.019864</td>\n",
       "      <td>-0.009265</td>\n",
       "      <td>-0.011217</td>\n",
       "      <td>-0.007984</td>\n",
       "      <td>-0.010435</td>\n",
       "      <td>-0.004337</td>\n",
       "      <td>-0.005911</td>\n",
       "      <td>...</td>\n",
       "      <td>0.026</td>\n",
       "      <td>0.005702</td>\n",
       "      <td>0.0198</td>\n",
       "      <td>0.003251</td>\n",
       "      <td>0.0148</td>\n",
       "      <td>0.004102</td>\n",
       "      <td>0.012</td>\n",
       "      <td>0.003359</td>\n",
       "      <td>0.01</td>\n",
       "      <td>0.002245</td>\n",
       "    </tr>\n",
       "    <tr>\n",
       "      <th>7</th>\n",
       "      <td>-0.015166</td>\n",
       "      <td>-0.020074</td>\n",
       "      <td>-0.014414</td>\n",
       "      <td>-0.019863</td>\n",
       "      <td>-0.009264</td>\n",
       "      <td>-0.011217</td>\n",
       "      <td>-0.007984</td>\n",
       "      <td>-0.010435</td>\n",
       "      <td>-0.004337</td>\n",
       "      <td>-0.005911</td>\n",
       "      <td>...</td>\n",
       "      <td>0.026</td>\n",
       "      <td>0.005702</td>\n",
       "      <td>0.0198</td>\n",
       "      <td>0.003251</td>\n",
       "      <td>0.0148</td>\n",
       "      <td>0.004102</td>\n",
       "      <td>0.012</td>\n",
       "      <td>0.003359</td>\n",
       "      <td>0.01</td>\n",
       "      <td>0.002245</td>\n",
       "    </tr>\n",
       "    <tr>\n",
       "      <th>8</th>\n",
       "      <td>-0.013705</td>\n",
       "      <td>-0.018395</td>\n",
       "      <td>-0.014291</td>\n",
       "      <td>-0.019800</td>\n",
       "      <td>-0.009253</td>\n",
       "      <td>-0.011211</td>\n",
       "      <td>-0.007983</td>\n",
       "      <td>-0.010434</td>\n",
       "      <td>-0.004337</td>\n",
       "      <td>-0.005911</td>\n",
       "      <td>...</td>\n",
       "      <td>0.026</td>\n",
       "      <td>0.005704</td>\n",
       "      <td>0.0198</td>\n",
       "      <td>0.003252</td>\n",
       "      <td>0.0148</td>\n",
       "      <td>0.004102</td>\n",
       "      <td>0.012</td>\n",
       "      <td>0.003359</td>\n",
       "      <td>0.01</td>\n",
       "      <td>0.002245</td>\n",
       "    </tr>\n",
       "    <tr>\n",
       "      <th>9</th>\n",
       "      <td>-0.014899</td>\n",
       "      <td>-0.019792</td>\n",
       "      <td>-0.014395</td>\n",
       "      <td>-0.019853</td>\n",
       "      <td>-0.009263</td>\n",
       "      <td>-0.011216</td>\n",
       "      <td>-0.007984</td>\n",
       "      <td>-0.010435</td>\n",
       "      <td>-0.004337</td>\n",
       "      <td>-0.005911</td>\n",
       "      <td>...</td>\n",
       "      <td>0.026</td>\n",
       "      <td>0.005702</td>\n",
       "      <td>0.0198</td>\n",
       "      <td>0.003252</td>\n",
       "      <td>0.0148</td>\n",
       "      <td>0.004102</td>\n",
       "      <td>0.012</td>\n",
       "      <td>0.003359</td>\n",
       "      <td>0.01</td>\n",
       "      <td>0.002245</td>\n",
       "    </tr>\n",
       "  </tbody>\n",
       "</table>\n",
       "<p>10 rows × 3891 columns</p>\n",
       "</div>"
      ],
      "text/plain": [
       "  abs_draught                                                              \\\n",
       "           0         2         4         6         8         10        12   \n",
       "0   -0.015344 -0.020258 -0.014426 -0.019869 -0.009266 -0.011217 -0.007984   \n",
       "1   -0.015628 -0.020549 -0.014444 -0.019878 -0.009267 -0.011218 -0.007985   \n",
       "2   -0.016036 -0.020961 -0.014468 -0.019890 -0.009270 -0.011219 -0.007985   \n",
       "3   -0.015050 -0.019952 -0.014406 -0.019859 -0.009264 -0.011216 -0.007984   \n",
       "4   -0.015639 -0.020560 -0.014444 -0.019878 -0.009267 -0.011218 -0.007985   \n",
       "5   -0.015964 -0.020889 -0.014464 -0.019888 -0.009269 -0.011219 -0.007985   \n",
       "6   -0.015202 -0.020111 -0.014416 -0.019864 -0.009265 -0.011217 -0.007984   \n",
       "7   -0.015166 -0.020074 -0.014414 -0.019863 -0.009264 -0.011217 -0.007984   \n",
       "8   -0.013705 -0.018395 -0.014291 -0.019800 -0.009253 -0.011211 -0.007983   \n",
       "9   -0.014899 -0.019792 -0.014395 -0.019853 -0.009263 -0.011216 -0.007984   \n",
       "\n",
       "                                 ... zouhar_contact_in_width            \\\n",
       "         14        16        18  ...                      8         10   \n",
       "0 -0.010435 -0.004337 -0.005911  ...                   0.026  0.005702   \n",
       "1 -0.010435 -0.004337 -0.005911  ...                   0.026  0.005701   \n",
       "2 -0.010435 -0.004337 -0.005911  ...                   0.026  0.005701   \n",
       "3 -0.010435 -0.004337 -0.005911  ...                   0.026  0.005702   \n",
       "4 -0.010435 -0.004337 -0.005911  ...                   0.026  0.005701   \n",
       "5 -0.010435 -0.004337 -0.005911  ...                   0.026  0.005701   \n",
       "6 -0.010435 -0.004337 -0.005911  ...                   0.026  0.005702   \n",
       "7 -0.010435 -0.004337 -0.005911  ...                   0.026  0.005702   \n",
       "8 -0.010434 -0.004337 -0.005911  ...                   0.026  0.005704   \n",
       "9 -0.010435 -0.004337 -0.005911  ...                   0.026  0.005702   \n",
       "\n",
       "                                                                        \n",
       "       12        14      16        18     20        22    24        26  \n",
       "0  0.0198  0.003251  0.0148  0.004102  0.012  0.003359  0.01  0.002245  \n",
       "1  0.0198  0.003251  0.0148  0.004102  0.012  0.003359  0.01  0.002245  \n",
       "2  0.0198  0.003251  0.0148  0.004102  0.012  0.003359  0.01  0.002245  \n",
       "3  0.0198  0.003252  0.0148  0.004102  0.012  0.003359  0.01  0.002245  \n",
       "4  0.0198  0.003251  0.0148  0.004102  0.012  0.003359  0.01  0.002245  \n",
       "5  0.0198  0.003251  0.0148  0.004102  0.012  0.003359  0.01  0.002245  \n",
       "6  0.0198  0.003251  0.0148  0.004102  0.012  0.003359  0.01  0.002245  \n",
       "7  0.0198  0.003251  0.0148  0.004102  0.012  0.003359  0.01  0.002245  \n",
       "8  0.0198  0.003252  0.0148  0.004102  0.012  0.003359  0.01  0.002245  \n",
       "9  0.0198  0.003252  0.0148  0.004102  0.012  0.003359  0.01  0.002245  \n",
       "\n",
       "[10 rows x 3891 columns]"
      ]
     },
     "execution_count": 10,
     "metadata": {},
     "output_type": "execute_result"
    }
   ],
   "source": [
    "df = pd.DataFrame([r.stack().swaplevel().sort_index() for r in results])\n",
    "df"
   ]
  },
  {
   "cell_type": "markdown",
   "id": "892b9e66e3913562",
   "metadata": {
    "editable": true,
    "papermill": {
     "duration": 0.003958,
     "end_time": "2024-07-17T13:08:53.698590",
     "exception": false,
     "start_time": "2024-07-17T13:08:53.694632",
     "status": "completed"
    },
    "slideshow": {
     "slide_type": ""
    },
    "tags": []
   },
   "source": [
    "Save dataframe to CSV file."
   ]
  },
  {
   "cell_type": "code",
   "execution_count": 11,
   "id": "dbb964f17b02f3d5",
   "metadata": {
    "ExecuteTime": {
     "end_time": "2024-07-17T10:22:59.183303Z",
     "start_time": "2024-07-17T10:22:58.000604Z"
    },
    "execution": {
     "iopub.execute_input": "2024-07-17T13:08:53.706243Z",
     "iopub.status.busy": "2024-07-17T13:08:53.705930Z",
     "iopub.status.idle": "2024-07-17T13:08:54.868022Z",
     "shell.execute_reply": "2024-07-17T13:08:54.867146Z"
    },
    "papermill": {
     "duration": 1.168082,
     "end_time": "2024-07-17T13:08:54.869767",
     "exception": false,
     "start_time": "2024-07-17T13:08:53.701685",
     "status": "completed"
    },
    "tags": []
   },
   "outputs": [],
   "source": [
    "df.to_csv(OUTPUT_FILENAME)"
   ]
  },
  {
   "cell_type": "code",
   "execution_count": null,
   "id": "5ae76746-6123-4629-a64a-4e14faac638e",
   "metadata": {
    "editable": true,
    "papermill": {
     "duration": 0.003047,
     "end_time": "2024-07-17T13:08:54.876053",
     "exception": false,
     "start_time": "2024-07-17T13:08:54.873006",
     "status": "completed"
    },
    "slideshow": {
     "slide_type": ""
    },
    "tags": []
   },
   "outputs": [],
   "source": []
  }
 ],
 "metadata": {
  "kernelspec": {
   "display_name": "Python 3 (ipykernel)",
   "language": "python",
   "name": "python3"
  },
  "language_info": {
   "codemirror_mode": {
    "name": "ipython",
    "version": 3
   },
   "file_extension": ".py",
   "mimetype": "text/x-python",
   "name": "python",
   "nbconvert_exporter": "python",
   "pygments_lexer": "ipython3",
   "version": "3.12.4"
  },
  "papermill": {
   "default_parameters": {},
   "duration": 5.447425,
   "end_time": "2024-07-17T13:08:55.398359",
   "environment_variables": {},
   "exception": null,
   "input_path": "/home/maxwe/Git/pyroll/publication-weiner-variation/weiner_variation/sim/sim_input.ipynb",
   "output_path": "/home/maxwe/Git/pyroll/publication-weiner-variation/weiner_variation/data/sim_temperature_stds_results/0.01.out.ipynb",
   "parameters": {
    "OUTPUT_FILENAME": "/home/maxwe/Git/pyroll/publication-weiner-variation/weiner_variation/data/sim_temperature_stds_results/0.01.csv",
    "TEMPERATURE_STD": 14.2315
   },
   "start_time": "2024-07-17T13:08:49.950934",
   "version": "2.6.0"
  }
 },
 "nbformat": 4,
 "nbformat_minor": 5
}
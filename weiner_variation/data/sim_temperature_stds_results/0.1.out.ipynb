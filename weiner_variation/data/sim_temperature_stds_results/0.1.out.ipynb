{
 "cells": [
  {
   "cell_type": "markdown",
   "id": "87eca59d9255a11f",
   "metadata": {
    "collapsed": false,
    "jupyter": {
     "outputs_hidden": false
    },
    "papermill": {
     "duration": 0.006618,
     "end_time": "2024-07-17T13:08:23.201485",
     "exception": false,
     "start_time": "2024-07-17T13:08:23.194867",
     "status": "completed"
    },
    "tags": []
   },
   "source": [
    "# Simulation of the Process with Input Variations"
   ]
  },
  {
   "cell_type": "markdown",
   "id": "d32b7558d586b87c",
   "metadata": {
    "collapsed": false,
    "jupyter": {
     "outputs_hidden": false
    },
    "papermill": {
     "duration": 0.002343,
     "end_time": "2024-07-17T13:08:23.207061",
     "exception": false,
     "start_time": "2024-07-17T13:08:23.204718",
     "status": "completed"
    },
    "tags": []
   },
   "source": [
    "Import PyRolL modules."
   ]
  },
  {
   "cell_type": "code",
   "execution_count": 1,
   "id": "dd58074fbc858aa5",
   "metadata": {
    "editable": true,
    "execution": {
     "iopub.execute_input": "2024-07-17T13:08:23.213390Z",
     "iopub.status.busy": "2024-07-17T13:08:23.212967Z",
     "iopub.status.idle": "2024-07-17T13:08:24.082584Z",
     "shell.execute_reply": "2024-07-17T13:08:24.081761Z"
    },
    "papermill": {
     "duration": 0.874515,
     "end_time": "2024-07-17T13:08:24.083897",
     "exception": false,
     "start_time": "2024-07-17T13:08:23.209382",
     "status": "completed"
    },
    "slideshow": {
     "slide_type": ""
    },
    "tags": []
   },
   "outputs": [],
   "source": [
    "import pyroll.basic as pr\n",
    "import pyroll.export as pre"
   ]
  },
  {
   "cell_type": "markdown",
   "id": "90e80818cdd8e1fd",
   "metadata": {
    "editable": true,
    "papermill": {
     "duration": 0.002481,
     "end_time": "2024-07-17T13:08:24.088998",
     "exception": false,
     "start_time": "2024-07-17T13:08:24.086517",
     "status": "completed"
    },
    "slideshow": {
     "slide_type": ""
    },
    "tags": []
   },
   "source": [
    "Import the process data."
   ]
  },
  {
   "cell_type": "code",
   "execution_count": 2,
   "id": "521e00d66a44dd25",
   "metadata": {
    "editable": true,
    "execution": {
     "iopub.execute_input": "2024-07-17T13:08:24.095272Z",
     "iopub.status.busy": "2024-07-17T13:08:24.094814Z",
     "iopub.status.idle": "2024-07-17T13:08:24.298819Z",
     "shell.execute_reply": "2024-07-17T13:08:24.298010Z"
    },
    "papermill": {
     "duration": 0.209443,
     "end_time": "2024-07-17T13:08:24.300813",
     "exception": false,
     "start_time": "2024-07-17T13:08:24.091370",
     "status": "completed"
    },
    "slideshow": {
     "slide_type": ""
    },
    "tags": []
   },
   "outputs": [],
   "source": [
    "from weiner_variation.sim.process import PASS_SEQUENCE, IN_PROFILE, TEMPERATURE, DIAMETER, TEMPERATURE_STD, DIAMETER_STD, create_in_profile\n",
    "from weiner_variation.sim.config import SAMPLE_COUNT, SEED\n",
    "from weiner_variation.sim.data import DrawInput\n",
    "from weiner_variation.config import DATA_DIR"
   ]
  },
  {
   "cell_type": "markdown",
   "id": "a10b5e1fd26dbacc",
   "metadata": {
    "editable": true,
    "papermill": {
     "duration": 0.006159,
     "end_time": "2024-07-17T13:08:24.313585",
     "exception": false,
     "start_time": "2024-07-17T13:08:24.307426",
     "status": "completed"
    },
    "slideshow": {
     "slide_type": ""
    },
    "tags": []
   },
   "source": [
    "Import further libraries."
   ]
  },
  {
   "cell_type": "code",
   "execution_count": 3,
   "id": "ea3837b5c12ed530",
   "metadata": {
    "editable": true,
    "execution": {
     "iopub.execute_input": "2024-07-17T13:08:24.327506Z",
     "iopub.status.busy": "2024-07-17T13:08:24.327324Z",
     "iopub.status.idle": "2024-07-17T13:08:24.465736Z",
     "shell.execute_reply": "2024-07-17T13:08:24.464930Z"
    },
    "papermill": {
     "duration": 0.147844,
     "end_time": "2024-07-17T13:08:24.467833",
     "exception": false,
     "start_time": "2024-07-17T13:08:24.319989",
     "status": "completed"
    },
    "slideshow": {
     "slide_type": ""
    },
    "tags": []
   },
   "outputs": [],
   "source": [
    "import pandas as pd\n",
    "from copy import deepcopy\n",
    "from scipy.stats import norm\n",
    "import numpy as np\n",
    "import tqdm\n",
    "from multiprocessing import Pool"
   ]
  },
  {
   "cell_type": "markdown",
   "id": "95ca8ac63a6e4e9a",
   "metadata": {
    "editable": true,
    "papermill": {
     "duration": 0.006206,
     "end_time": "2024-07-17T13:08:24.480601",
     "exception": false,
     "start_time": "2024-07-17T13:08:24.474395",
     "status": "completed"
    },
    "slideshow": {
     "slide_type": ""
    },
    "tags": []
   },
   "source": [
    "Parameters for notebook using papermill."
   ]
  },
  {
   "cell_type": "code",
   "execution_count": 4,
   "id": "f7a871812e201394",
   "metadata": {
    "editable": true,
    "execution": {
     "iopub.execute_input": "2024-07-17T13:08:24.494518Z",
     "iopub.status.busy": "2024-07-17T13:08:24.494208Z",
     "iopub.status.idle": "2024-07-17T13:08:24.497741Z",
     "shell.execute_reply": "2024-07-17T13:08:24.497108Z"
    },
    "papermill": {
     "duration": 0.012905,
     "end_time": "2024-07-17T13:08:24.499485",
     "exception": false,
     "start_time": "2024-07-17T13:08:24.486580",
     "status": "completed"
    },
    "slideshow": {
     "slide_type": ""
    },
    "tags": [
     "parameters"
    ]
   },
   "outputs": [],
   "source": [
    "DIAMETER_STD = DIAMETER_STD\n",
    "TEMPERATURE_STD = TEMPERATURE_STD\n",
    "OUTPUT_FILENAME = DATA_DIR / \"sim_input_results.csv\""
   ]
  },
  {
   "cell_type": "code",
   "execution_count": 5,
   "id": "3e5d62ac",
   "metadata": {
    "execution": {
     "iopub.execute_input": "2024-07-17T13:08:24.512842Z",
     "iopub.status.busy": "2024-07-17T13:08:24.512659Z",
     "iopub.status.idle": "2024-07-17T13:08:24.516078Z",
     "shell.execute_reply": "2024-07-17T13:08:24.515328Z"
    },
    "papermill": {
     "duration": 0.012052,
     "end_time": "2024-07-17T13:08:24.517849",
     "exception": false,
     "start_time": "2024-07-17T13:08:24.505797",
     "status": "completed"
    },
    "tags": [
     "injected-parameters"
    ]
   },
   "outputs": [],
   "source": [
    "# Parameters\n",
    "OUTPUT_FILENAME = \"/home/maxwe/Git/pyroll/publication-weiner-variation/weiner_variation/data/sim_temperature_stds_results/0.1.csv\"\n",
    "TEMPERATURE_STD = 142.31500000000003\n"
   ]
  },
  {
   "cell_type": "markdown",
   "id": "db84db3a0ac19dae",
   "metadata": {
    "editable": true,
    "papermill": {
     "duration": 0.006242,
     "end_time": "2024-07-17T13:08:24.530294",
     "exception": false,
     "start_time": "2024-07-17T13:08:24.524052",
     "status": "completed"
    },
    "slideshow": {
     "slide_type": ""
    },
    "tags": []
   },
   "source": [
    "Create distribution functions for input values."
   ]
  },
  {
   "cell_type": "code",
   "execution_count": 6,
   "id": "7cbfb72a23c99c34",
   "metadata": {
    "editable": true,
    "execution": {
     "iopub.execute_input": "2024-07-17T13:08:24.538174Z",
     "iopub.status.busy": "2024-07-17T13:08:24.537854Z",
     "iopub.status.idle": "2024-07-17T13:08:24.544783Z",
     "shell.execute_reply": "2024-07-17T13:08:24.543746Z"
    },
    "papermill": {
     "duration": 0.011757,
     "end_time": "2024-07-17T13:08:24.546119",
     "exception": false,
     "start_time": "2024-07-17T13:08:24.534362",
     "status": "completed"
    },
    "slideshow": {
     "slide_type": ""
    },
    "tags": []
   },
   "outputs": [],
   "source": [
    "diameter_dist = norm(loc=DIAMETER, scale=DIAMETER_STD)\n",
    "temperature_dist = norm(loc=TEMPERATURE, scale=TEMPERATURE_STD)"
   ]
  },
  {
   "cell_type": "markdown",
   "id": "aa3f488cb233a201",
   "metadata": {
    "editable": true,
    "papermill": {
     "duration": 0.00242,
     "end_time": "2024-07-17T13:08:24.551088",
     "exception": false,
     "start_time": "2024-07-17T13:08:24.548668",
     "status": "completed"
    },
    "slideshow": {
     "slide_type": ""
    },
    "tags": []
   },
   "source": [
    "Draw random inputs from distributions."
   ]
  },
  {
   "cell_type": "code",
   "execution_count": 7,
   "id": "3b127d24085f8d48",
   "metadata": {
    "editable": true,
    "execution": {
     "iopub.execute_input": "2024-07-17T13:08:24.557425Z",
     "iopub.status.busy": "2024-07-17T13:08:24.557108Z",
     "iopub.status.idle": "2024-07-17T13:08:24.563120Z",
     "shell.execute_reply": "2024-07-17T13:08:24.562162Z"
    },
    "papermill": {
     "duration": 0.010687,
     "end_time": "2024-07-17T13:08:24.564217",
     "exception": false,
     "start_time": "2024-07-17T13:08:24.553530",
     "status": "completed"
    },
    "slideshow": {
     "slide_type": ""
    },
    "tags": []
   },
   "outputs": [],
   "source": [
    "RNG = np.random.default_rng(SEED)\n",
    "diameters = diameter_dist.rvs(random_state=RNG, size=SAMPLE_COUNT)\n",
    "temperatures = temperature_dist.rvs(random_state=RNG, size=SAMPLE_COUNT)\n",
    "\n",
    "draws = [\n",
    "    DrawInput(d, t)\n",
    "    for d, t in zip(diameters, temperatures)\n",
    "]"
   ]
  },
  {
   "cell_type": "markdown",
   "id": "ae457863a6f14204",
   "metadata": {
    "editable": true,
    "papermill": {
     "duration": 0.002436,
     "end_time": "2024-07-17T13:08:24.569248",
     "exception": false,
     "start_time": "2024-07-17T13:08:24.566812",
     "status": "completed"
    },
    "slideshow": {
     "slide_type": ""
    },
    "tags": []
   },
   "source": [
    "Define a worker function creating the in profile, running the solution procedure and extracting results."
   ]
  },
  {
   "cell_type": "code",
   "execution_count": 8,
   "id": "bf37b0999a06930",
   "metadata": {
    "editable": true,
    "execution": {
     "iopub.execute_input": "2024-07-17T13:08:24.575026Z",
     "iopub.status.busy": "2024-07-17T13:08:24.574845Z",
     "iopub.status.idle": "2024-07-17T13:08:24.578845Z",
     "shell.execute_reply": "2024-07-17T13:08:24.578220Z"
    },
    "papermill": {
     "duration": 0.008297,
     "end_time": "2024-07-17T13:08:24.579980",
     "exception": false,
     "start_time": "2024-07-17T13:08:24.571683",
     "status": "completed"
    },
    "slideshow": {
     "slide_type": ""
    },
    "tags": []
   },
   "outputs": [],
   "source": [
    "def worker(draw: DrawInput):    \n",
    "    ip = create_in_profile(draw.diameter)\n",
    "    ip.temperature = draw.temperature\n",
    "\n",
    "    sequence = deepcopy(PASS_SEQUENCE)\n",
    "    sequence.solve(ip)       \n",
    "\n",
    "    return pre.to_pandas(sequence)"
   ]
  },
  {
   "cell_type": "markdown",
   "id": "9f83e35a998a132d",
   "metadata": {
    "editable": true,
    "papermill": {
     "duration": 0.002454,
     "end_time": "2024-07-17T13:08:24.585227",
     "exception": false,
     "start_time": "2024-07-17T13:08:24.582773",
     "status": "completed"
    },
    "slideshow": {
     "slide_type": ""
    },
    "tags": []
   },
   "source": [
    "Run the simulations using a process pool."
   ]
  },
  {
   "cell_type": "code",
   "execution_count": 9,
   "id": "4dd249dcf8221bf2",
   "metadata": {
    "ExecuteTime": {
     "end_time": "2024-07-17T10:22:42.312360Z",
     "start_time": "2024-07-17T10:22:39.946703Z"
    },
    "editable": true,
    "execution": {
     "iopub.execute_input": "2024-07-17T13:08:24.591394Z",
     "iopub.status.busy": "2024-07-17T13:08:24.591214Z",
     "iopub.status.idle": "2024-07-17T13:08:25.930747Z",
     "shell.execute_reply": "2024-07-17T13:08:25.930134Z"
    },
    "papermill": {
     "duration": 1.343888,
     "end_time": "2024-07-17T13:08:25.931612",
     "exception": false,
     "start_time": "2024-07-17T13:08:24.587724",
     "status": "completed"
    },
    "slideshow": {
     "slide_type": ""
    },
    "tags": []
   },
   "outputs": [
    {
     "name": "stderr",
     "output_type": "stream",
     "text": [
      "\r",
      "  0%|          | 0/10 [00:00<?, ?it/s]"
     ]
    },
    {
     "name": "stderr",
     "output_type": "stream",
     "text": [
      "\r",
      " 10%|█         | 1/10 [00:00<00:05,  1.59it/s]"
     ]
    },
    {
     "name": "stderr",
     "output_type": "stream",
     "text": [
      "\r",
      " 70%|███████   | 7/10 [00:01<00:00,  6.51it/s]"
     ]
    },
    {
     "name": "stderr",
     "output_type": "stream",
     "text": [
      "\r",
      "100%|██████████| 10/10 [00:01<00:00,  7.98it/s]"
     ]
    },
    {
     "name": "stderr",
     "output_type": "stream",
     "text": [
      "\n"
     ]
    }
   ],
   "source": [
    "results = list(tqdm.tqdm(Pool().imap(worker, draws), total=SAMPLE_COUNT))"
   ]
  },
  {
   "cell_type": "markdown",
   "id": "72d0d1f0975284d7",
   "metadata": {
    "editable": true,
    "papermill": {
     "duration": 0.002739,
     "end_time": "2024-07-17T13:08:25.937215",
     "exception": false,
     "start_time": "2024-07-17T13:08:25.934476",
     "status": "completed"
    },
    "slideshow": {
     "slide_type": ""
    },
    "tags": []
   },
   "source": [
    "Create a dataframe from results."
   ]
  },
  {
   "cell_type": "code",
   "execution_count": 10,
   "id": "29450ec772706a41",
   "metadata": {
    "ExecuteTime": {
     "end_time": "2024-07-17T10:22:47.912243Z",
     "start_time": "2024-07-17T10:22:47.706044Z"
    },
    "editable": true,
    "execution": {
     "iopub.execute_input": "2024-07-17T13:08:25.943901Z",
     "iopub.status.busy": "2024-07-17T13:08:25.943711Z",
     "iopub.status.idle": "2024-07-17T13:08:26.055840Z",
     "shell.execute_reply": "2024-07-17T13:08:26.055205Z"
    },
    "papermill": {
     "duration": 0.118132,
     "end_time": "2024-07-17T13:08:26.058123",
     "exception": false,
     "start_time": "2024-07-17T13:08:25.939991",
     "status": "completed"
    },
    "slideshow": {
     "slide_type": ""
    },
    "tags": []
   },
   "outputs": [
    {
     "data": {
      "text/html": [
       "<div>\n",
       "<style scoped>\n",
       "    .dataframe tbody tr th:only-of-type {\n",
       "        vertical-align: middle;\n",
       "    }\n",
       "\n",
       "    .dataframe tbody tr th {\n",
       "        vertical-align: top;\n",
       "    }\n",
       "\n",
       "    .dataframe thead tr th {\n",
       "        text-align: left;\n",
       "    }\n",
       "</style>\n",
       "<table border=\"1\" class=\"dataframe\">\n",
       "  <thead>\n",
       "    <tr>\n",
       "      <th></th>\n",
       "      <th colspan=\"10\" halign=\"left\">abs_draught</th>\n",
       "      <th>...</th>\n",
       "      <th colspan=\"10\" halign=\"left\">zouhar_contact_in_width</th>\n",
       "    </tr>\n",
       "    <tr>\n",
       "      <th></th>\n",
       "      <th>0</th>\n",
       "      <th>2</th>\n",
       "      <th>4</th>\n",
       "      <th>6</th>\n",
       "      <th>8</th>\n",
       "      <th>10</th>\n",
       "      <th>12</th>\n",
       "      <th>14</th>\n",
       "      <th>16</th>\n",
       "      <th>18</th>\n",
       "      <th>...</th>\n",
       "      <th>8</th>\n",
       "      <th>10</th>\n",
       "      <th>12</th>\n",
       "      <th>14</th>\n",
       "      <th>16</th>\n",
       "      <th>18</th>\n",
       "      <th>20</th>\n",
       "      <th>22</th>\n",
       "      <th>24</th>\n",
       "      <th>26</th>\n",
       "    </tr>\n",
       "  </thead>\n",
       "  <tbody>\n",
       "    <tr>\n",
       "      <th>0</th>\n",
       "      <td>-0.015344</td>\n",
       "      <td>-0.020258</td>\n",
       "      <td>-0.014426</td>\n",
       "      <td>-0.019869</td>\n",
       "      <td>-0.009266</td>\n",
       "      <td>-0.011217</td>\n",
       "      <td>-0.007984</td>\n",
       "      <td>-0.010435</td>\n",
       "      <td>-0.004337</td>\n",
       "      <td>-0.005911</td>\n",
       "      <td>...</td>\n",
       "      <td>0.026</td>\n",
       "      <td>0.005702</td>\n",
       "      <td>0.0198</td>\n",
       "      <td>0.003251</td>\n",
       "      <td>0.0148</td>\n",
       "      <td>0.004102</td>\n",
       "      <td>0.012</td>\n",
       "      <td>0.003359</td>\n",
       "      <td>0.01</td>\n",
       "      <td>0.002245</td>\n",
       "    </tr>\n",
       "    <tr>\n",
       "      <th>1</th>\n",
       "      <td>-0.015628</td>\n",
       "      <td>-0.020549</td>\n",
       "      <td>-0.014444</td>\n",
       "      <td>-0.019878</td>\n",
       "      <td>-0.009267</td>\n",
       "      <td>-0.011218</td>\n",
       "      <td>-0.007985</td>\n",
       "      <td>-0.010435</td>\n",
       "      <td>-0.004337</td>\n",
       "      <td>-0.005911</td>\n",
       "      <td>...</td>\n",
       "      <td>0.026</td>\n",
       "      <td>0.005701</td>\n",
       "      <td>0.0198</td>\n",
       "      <td>0.003251</td>\n",
       "      <td>0.0148</td>\n",
       "      <td>0.004102</td>\n",
       "      <td>0.012</td>\n",
       "      <td>0.003359</td>\n",
       "      <td>0.01</td>\n",
       "      <td>0.002245</td>\n",
       "    </tr>\n",
       "    <tr>\n",
       "      <th>2</th>\n",
       "      <td>-0.016036</td>\n",
       "      <td>-0.020961</td>\n",
       "      <td>-0.014468</td>\n",
       "      <td>-0.019890</td>\n",
       "      <td>-0.009270</td>\n",
       "      <td>-0.011219</td>\n",
       "      <td>-0.007985</td>\n",
       "      <td>-0.010435</td>\n",
       "      <td>-0.004337</td>\n",
       "      <td>-0.005911</td>\n",
       "      <td>...</td>\n",
       "      <td>0.026</td>\n",
       "      <td>0.005701</td>\n",
       "      <td>0.0198</td>\n",
       "      <td>0.003251</td>\n",
       "      <td>0.0148</td>\n",
       "      <td>0.004102</td>\n",
       "      <td>0.012</td>\n",
       "      <td>0.003359</td>\n",
       "      <td>0.01</td>\n",
       "      <td>0.002245</td>\n",
       "    </tr>\n",
       "    <tr>\n",
       "      <th>3</th>\n",
       "      <td>-0.015050</td>\n",
       "      <td>-0.019952</td>\n",
       "      <td>-0.014406</td>\n",
       "      <td>-0.019859</td>\n",
       "      <td>-0.009264</td>\n",
       "      <td>-0.011216</td>\n",
       "      <td>-0.007984</td>\n",
       "      <td>-0.010435</td>\n",
       "      <td>-0.004337</td>\n",
       "      <td>-0.005911</td>\n",
       "      <td>...</td>\n",
       "      <td>0.026</td>\n",
       "      <td>0.005702</td>\n",
       "      <td>0.0198</td>\n",
       "      <td>0.003252</td>\n",
       "      <td>0.0148</td>\n",
       "      <td>0.004102</td>\n",
       "      <td>0.012</td>\n",
       "      <td>0.003359</td>\n",
       "      <td>0.01</td>\n",
       "      <td>0.002245</td>\n",
       "    </tr>\n",
       "    <tr>\n",
       "      <th>4</th>\n",
       "      <td>-0.015639</td>\n",
       "      <td>-0.020560</td>\n",
       "      <td>-0.014444</td>\n",
       "      <td>-0.019878</td>\n",
       "      <td>-0.009267</td>\n",
       "      <td>-0.011218</td>\n",
       "      <td>-0.007985</td>\n",
       "      <td>-0.010435</td>\n",
       "      <td>-0.004337</td>\n",
       "      <td>-0.005911</td>\n",
       "      <td>...</td>\n",
       "      <td>0.026</td>\n",
       "      <td>0.005701</td>\n",
       "      <td>0.0198</td>\n",
       "      <td>0.003251</td>\n",
       "      <td>0.0148</td>\n",
       "      <td>0.004102</td>\n",
       "      <td>0.012</td>\n",
       "      <td>0.003359</td>\n",
       "      <td>0.01</td>\n",
       "      <td>0.002245</td>\n",
       "    </tr>\n",
       "    <tr>\n",
       "      <th>5</th>\n",
       "      <td>-0.015964</td>\n",
       "      <td>-0.020889</td>\n",
       "      <td>-0.014464</td>\n",
       "      <td>-0.019888</td>\n",
       "      <td>-0.009269</td>\n",
       "      <td>-0.011219</td>\n",
       "      <td>-0.007985</td>\n",
       "      <td>-0.010435</td>\n",
       "      <td>-0.004337</td>\n",
       "      <td>-0.005911</td>\n",
       "      <td>...</td>\n",
       "      <td>0.026</td>\n",
       "      <td>0.005701</td>\n",
       "      <td>0.0198</td>\n",
       "      <td>0.003251</td>\n",
       "      <td>0.0148</td>\n",
       "      <td>0.004102</td>\n",
       "      <td>0.012</td>\n",
       "      <td>0.003359</td>\n",
       "      <td>0.01</td>\n",
       "      <td>0.002245</td>\n",
       "    </tr>\n",
       "    <tr>\n",
       "      <th>6</th>\n",
       "      <td>-0.015202</td>\n",
       "      <td>-0.020111</td>\n",
       "      <td>-0.014416</td>\n",
       "      <td>-0.019864</td>\n",
       "      <td>-0.009265</td>\n",
       "      <td>-0.011217</td>\n",
       "      <td>-0.007984</td>\n",
       "      <td>-0.010435</td>\n",
       "      <td>-0.004337</td>\n",
       "      <td>-0.005911</td>\n",
       "      <td>...</td>\n",
       "      <td>0.026</td>\n",
       "      <td>0.005702</td>\n",
       "      <td>0.0198</td>\n",
       "      <td>0.003251</td>\n",
       "      <td>0.0148</td>\n",
       "      <td>0.004102</td>\n",
       "      <td>0.012</td>\n",
       "      <td>0.003359</td>\n",
       "      <td>0.01</td>\n",
       "      <td>0.002245</td>\n",
       "    </tr>\n",
       "    <tr>\n",
       "      <th>7</th>\n",
       "      <td>-0.015166</td>\n",
       "      <td>-0.020074</td>\n",
       "      <td>-0.014414</td>\n",
       "      <td>-0.019863</td>\n",
       "      <td>-0.009264</td>\n",
       "      <td>-0.011217</td>\n",
       "      <td>-0.007984</td>\n",
       "      <td>-0.010435</td>\n",
       "      <td>-0.004337</td>\n",
       "      <td>-0.005911</td>\n",
       "      <td>...</td>\n",
       "      <td>0.026</td>\n",
       "      <td>0.005702</td>\n",
       "      <td>0.0198</td>\n",
       "      <td>0.003251</td>\n",
       "      <td>0.0148</td>\n",
       "      <td>0.004102</td>\n",
       "      <td>0.012</td>\n",
       "      <td>0.003359</td>\n",
       "      <td>0.01</td>\n",
       "      <td>0.002245</td>\n",
       "    </tr>\n",
       "    <tr>\n",
       "      <th>8</th>\n",
       "      <td>-0.013705</td>\n",
       "      <td>-0.018395</td>\n",
       "      <td>-0.014291</td>\n",
       "      <td>-0.019800</td>\n",
       "      <td>-0.009253</td>\n",
       "      <td>-0.011211</td>\n",
       "      <td>-0.007983</td>\n",
       "      <td>-0.010434</td>\n",
       "      <td>-0.004337</td>\n",
       "      <td>-0.005911</td>\n",
       "      <td>...</td>\n",
       "      <td>0.026</td>\n",
       "      <td>0.005704</td>\n",
       "      <td>0.0198</td>\n",
       "      <td>0.003252</td>\n",
       "      <td>0.0148</td>\n",
       "      <td>0.004102</td>\n",
       "      <td>0.012</td>\n",
       "      <td>0.003359</td>\n",
       "      <td>0.01</td>\n",
       "      <td>0.002245</td>\n",
       "    </tr>\n",
       "    <tr>\n",
       "      <th>9</th>\n",
       "      <td>-0.014899</td>\n",
       "      <td>-0.019792</td>\n",
       "      <td>-0.014395</td>\n",
       "      <td>-0.019853</td>\n",
       "      <td>-0.009263</td>\n",
       "      <td>-0.011216</td>\n",
       "      <td>-0.007984</td>\n",
       "      <td>-0.010435</td>\n",
       "      <td>-0.004337</td>\n",
       "      <td>-0.005911</td>\n",
       "      <td>...</td>\n",
       "      <td>0.026</td>\n",
       "      <td>0.005702</td>\n",
       "      <td>0.0198</td>\n",
       "      <td>0.003252</td>\n",
       "      <td>0.0148</td>\n",
       "      <td>0.004102</td>\n",
       "      <td>0.012</td>\n",
       "      <td>0.003359</td>\n",
       "      <td>0.01</td>\n",
       "      <td>0.002245</td>\n",
       "    </tr>\n",
       "  </tbody>\n",
       "</table>\n",
       "<p>10 rows × 3891 columns</p>\n",
       "</div>"
      ],
      "text/plain": [
       "  abs_draught                                                              \\\n",
       "           0         2         4         6         8         10        12   \n",
       "0   -0.015344 -0.020258 -0.014426 -0.019869 -0.009266 -0.011217 -0.007984   \n",
       "1   -0.015628 -0.020549 -0.014444 -0.019878 -0.009267 -0.011218 -0.007985   \n",
       "2   -0.016036 -0.020961 -0.014468 -0.019890 -0.009270 -0.011219 -0.007985   \n",
       "3   -0.015050 -0.019952 -0.014406 -0.019859 -0.009264 -0.011216 -0.007984   \n",
       "4   -0.015639 -0.020560 -0.014444 -0.019878 -0.009267 -0.011218 -0.007985   \n",
       "5   -0.015964 -0.020889 -0.014464 -0.019888 -0.009269 -0.011219 -0.007985   \n",
       "6   -0.015202 -0.020111 -0.014416 -0.019864 -0.009265 -0.011217 -0.007984   \n",
       "7   -0.015166 -0.020074 -0.014414 -0.019863 -0.009264 -0.011217 -0.007984   \n",
       "8   -0.013705 -0.018395 -0.014291 -0.019800 -0.009253 -0.011211 -0.007983   \n",
       "9   -0.014899 -0.019792 -0.014395 -0.019853 -0.009263 -0.011216 -0.007984   \n",
       "\n",
       "                                 ... zouhar_contact_in_width            \\\n",
       "         14        16        18  ...                      8         10   \n",
       "0 -0.010435 -0.004337 -0.005911  ...                   0.026  0.005702   \n",
       "1 -0.010435 -0.004337 -0.005911  ...                   0.026  0.005701   \n",
       "2 -0.010435 -0.004337 -0.005911  ...                   0.026  0.005701   \n",
       "3 -0.010435 -0.004337 -0.005911  ...                   0.026  0.005702   \n",
       "4 -0.010435 -0.004337 -0.005911  ...                   0.026  0.005701   \n",
       "5 -0.010435 -0.004337 -0.005911  ...                   0.026  0.005701   \n",
       "6 -0.010435 -0.004337 -0.005911  ...                   0.026  0.005702   \n",
       "7 -0.010435 -0.004337 -0.005911  ...                   0.026  0.005702   \n",
       "8 -0.010434 -0.004337 -0.005911  ...                   0.026  0.005704   \n",
       "9 -0.010435 -0.004337 -0.005911  ...                   0.026  0.005702   \n",
       "\n",
       "                                                                        \n",
       "       12        14      16        18     20        22    24        26  \n",
       "0  0.0198  0.003251  0.0148  0.004102  0.012  0.003359  0.01  0.002245  \n",
       "1  0.0198  0.003251  0.0148  0.004102  0.012  0.003359  0.01  0.002245  \n",
       "2  0.0198  0.003251  0.0148  0.004102  0.012  0.003359  0.01  0.002245  \n",
       "3  0.0198  0.003252  0.0148  0.004102  0.012  0.003359  0.01  0.002245  \n",
       "4  0.0198  0.003251  0.0148  0.004102  0.012  0.003359  0.01  0.002245  \n",
       "5  0.0198  0.003251  0.0148  0.004102  0.012  0.003359  0.01  0.002245  \n",
       "6  0.0198  0.003251  0.0148  0.004102  0.012  0.003359  0.01  0.002245  \n",
       "7  0.0198  0.003251  0.0148  0.004102  0.012  0.003359  0.01  0.002245  \n",
       "8  0.0198  0.003252  0.0148  0.004102  0.012  0.003359  0.01  0.002245  \n",
       "9  0.0198  0.003252  0.0148  0.004102  0.012  0.003359  0.01  0.002245  \n",
       "\n",
       "[10 rows x 3891 columns]"
      ]
     },
     "execution_count": 10,
     "metadata": {},
     "output_type": "execute_result"
    }
   ],
   "source": [
    "df = pd.DataFrame([r.stack().swaplevel().sort_index() for r in results])\n",
    "df"
   ]
  },
  {
   "cell_type": "markdown",
   "id": "892b9e66e3913562",
   "metadata": {
    "editable": true,
    "papermill": {
     "duration": 0.008093,
     "end_time": "2024-07-17T13:08:26.074751",
     "exception": false,
     "start_time": "2024-07-17T13:08:26.066658",
     "status": "completed"
    },
    "slideshow": {
     "slide_type": ""
    },
    "tags": []
   },
   "source": [
    "Save dataframe to CSV file."
   ]
  },
  {
   "cell_type": "code",
   "execution_count": 11,
   "id": "dbb964f17b02f3d5",
   "metadata": {
    "ExecuteTime": {
     "end_time": "2024-07-17T10:22:59.183303Z",
     "start_time": "2024-07-17T10:22:58.000604Z"
    },
    "execution": {
     "iopub.execute_input": "2024-07-17T13:08:26.092795Z",
     "iopub.status.busy": "2024-07-17T13:08:26.092466Z",
     "iopub.status.idle": "2024-07-17T13:08:27.256796Z",
     "shell.execute_reply": "2024-07-17T13:08:27.256027Z"
    },
    "papermill": {
     "duration": 1.176111,
     "end_time": "2024-07-17T13:08:27.259188",
     "exception": false,
     "start_time": "2024-07-17T13:08:26.083077",
     "status": "completed"
    },
    "tags": []
   },
   "outputs": [],
   "source": [
    "df.to_csv(OUTPUT_FILENAME)"
   ]
  },
  {
   "cell_type": "code",
   "execution_count": null,
   "id": "5ae76746-6123-4629-a64a-4e14faac638e",
   "metadata": {
    "editable": true,
    "papermill": {
     "duration": 0.00817,
     "end_time": "2024-07-17T13:08:27.275644",
     "exception": false,
     "start_time": "2024-07-17T13:08:27.267474",
     "status": "completed"
    },
    "slideshow": {
     "slide_type": ""
    },
    "tags": []
   },
   "outputs": [],
   "source": []
  }
 ],
 "metadata": {
  "kernelspec": {
   "display_name": "Python 3 (ipykernel)",
   "language": "python",
   "name": "python3"
  },
  "language_info": {
   "codemirror_mode": {
    "name": "ipython",
    "version": 3
   },
   "file_extension": ".py",
   "mimetype": "text/x-python",
   "name": "python",
   "nbconvert_exporter": "python",
   "pygments_lexer": "ipython3",
   "version": "3.12.4"
  },
  "papermill": {
   "default_parameters": {},
   "duration": 5.409078,
   "end_time": "2024-07-17T13:08:27.803661",
   "environment_variables": {},
   "exception": null,
   "input_path": "/home/maxwe/Git/pyroll/publication-weiner-variation/weiner_variation/sim/sim_input.ipynb",
   "output_path": "/home/maxwe/Git/pyroll/publication-weiner-variation/weiner_variation/data/sim_temperature_stds_results/0.1.out.ipynb",
   "parameters": {
    "OUTPUT_FILENAME": "/home/maxwe/Git/pyroll/publication-weiner-variation/weiner_variation/data/sim_temperature_stds_results/0.1.csv",
    "TEMPERATURE_STD": 142.31500000000003
   },
   "start_time": "2024-07-17T13:08:22.394583",
   "version": "2.6.0"
  }
 },
 "nbformat": 4,
 "nbformat_minor": 5
}
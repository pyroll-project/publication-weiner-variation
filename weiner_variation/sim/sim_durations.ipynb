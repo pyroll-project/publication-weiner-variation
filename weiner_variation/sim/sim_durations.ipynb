{
 "cells": [
  {
   "cell_type": "markdown",
   "source": [
    "# Simulation of the Process with Process Variations"
   ],
   "metadata": {
    "collapsed": false
   },
   "id": "4e53deed0f8c4d5c"
  },
  {
   "cell_type": "markdown",
   "source": [
    "Import PyRolL modules."
   ],
   "metadata": {
    "collapsed": false
   },
   "id": "de4a86df1adcfabd"
  },
  {
   "cell_type": "code",
   "outputs": [],
   "source": [
    "import pyroll.basic as pr"
   ],
   "metadata": {
    "collapsed": false,
    "ExecuteTime": {
     "end_time": "2024-04-26T10:22:56.180694Z",
     "start_time": "2024-04-26T10:22:54.257220Z"
    }
   },
   "id": "1b27815ec1c7a3ca",
   "execution_count": 2
  },
  {
   "cell_type": "markdown",
   "source": [
    "Import the process data."
   ],
   "metadata": {
    "collapsed": false
   },
   "id": "50792a769f1a6dd9"
  },
  {
   "cell_type": "code",
   "outputs": [],
   "source": [
    "from weiner_variation.sim.process import PASS_SEQUENCE, IN_PROFILE, TEMPERATURE, DIAMETER, TEMPERATURE_STD, DIAMETER_STD, create_in_profile\n",
    "from weiner_variation.sim.config import FIELDS, SAMPLE_COUNT, SEED\n",
    "from weiner_variation.sim.data_structures import DrawDurations\n",
    "from weiner_variation.config import DATA_DIR"
   ],
   "metadata": {
    "collapsed": false,
    "ExecuteTime": {
     "end_time": "2024-04-26T10:27:05.546910Z",
     "start_time": "2024-04-26T10:27:05.429639Z"
    }
   },
   "id": "3d80dd415d57d89f",
   "execution_count": 17
  },
  {
   "cell_type": "markdown",
   "source": [
    "Import further libraries."
   ],
   "metadata": {
    "collapsed": false
   },
   "id": "5a96074575ebf0c6"
  },
  {
   "cell_type": "code",
   "outputs": [],
   "source": [
    "import pandas as pd\n",
    "from copy import deepcopy\n",
    "from scipy.stats import norm, weibull_min\n",
    "import numpy as np\n",
    "import tqdm\n",
    "from multiprocessing import Pool"
   ],
   "metadata": {
    "collapsed": false,
    "ExecuteTime": {
     "end_time": "2024-04-26T10:26:33.048352Z",
     "start_time": "2024-04-26T10:26:32.957599Z"
    }
   },
   "id": "e4990f78868020e",
   "execution_count": 14
  },
  {
   "cell_type": "markdown",
   "source": [
    "Parameters for notebook using papermill."
   ],
   "metadata": {
    "collapsed": false
   },
   "id": "736d2cc6792a0cff"
  },
  {
   "cell_type": "code",
   "outputs": [],
   "source": [
    "DIAMETER_STD = DIAMETER_STD\n",
    "TEMPERATURE_STD = TEMPERATURE_STD\n",
    "OUTPUT_FILENAME = \"sim_durations_results.csv\""
   ],
   "metadata": {
    "collapsed": false,
    "ExecuteTime": {
     "end_time": "2024-04-26T10:26:01.810094Z",
     "start_time": "2024-04-26T10:26:01.796889Z"
    }
   },
   "id": "d81c3e40-9c2d-431c-a804-5d7c2c762afa",
   "execution_count": 11
  },
  {
   "cell_type": "markdown",
   "source": [
    "Load pause duration data in a dataframe."
   ],
   "metadata": {
    "collapsed": false
   },
   "id": "a1cfbe826b6b4d25"
  },
  {
   "cell_type": "code",
   "execution_count": 12,
   "id": "733584c4-3166-4b7f-9bb5-3e87a5563a77",
   "metadata": {
    "tags": [],
    "ExecuteTime": {
     "end_time": "2024-04-26T10:26:02.858753Z",
     "start_time": "2024-04-26T10:26:02.814605Z"
    }
   },
   "outputs": [
    {
     "data": {
      "text/plain": "            mean  median       std    min     max      shape     scale  \\\nR1-R2   6.633088  6.4000  1.471388  5.115  15.955   8.212077  6.543489   \nR2-R3   4.435441  4.2500  0.995052  3.040  11.100   7.705520  4.407880   \nR3-R4   5.988015  5.6100  2.192780  4.015  21.000   7.029720  5.623389   \nR4-R5   5.654853  5.6625  0.470526  4.745   7.115  13.799551  5.710760   \nR5-R6   5.044559  5.0200  0.566902  3.635   6.030   8.707140  5.276168   \nR6-R7   5.195588  5.0850  0.588969  4.235   8.095  16.114621  5.085251   \nR7-R8   6.435882  6.1100  1.557230  4.705  13.170   8.146553  6.161134   \nR8-R9   6.080735  5.8800  0.723092  4.745   8.260  14.631003  5.900644   \nR9-R10  7.008235  7.0050  0.775194  5.260   9.215  11.127373  7.139707   \nR10-F1  9.233309  9.1775  0.399014  8.290  10.385  37.735730  9.203396   \nall     5.830711  5.6500  1.403622  3.040  21.000   5.919329  5.878017   \n\n        fit_mean   fit_std  \nR1-R2   6.170061  0.893318  \nR2-R3   4.143458  0.636670  \nR3-R4   5.261487  0.880575  \nR4-R5   5.499720  0.487191  \nR5-R6   4.988786  0.683739  \nR6-R7   4.921435  0.375704  \nR7-R8   5.807295  0.847121  \nR8-R9   5.693526  0.476881  \nR9-R10  6.822094  0.741851  \nR10-F1  9.068859  0.302529  \nall     5.449056  1.069132  ",
      "text/html": "<div>\n<style scoped>\n    .dataframe tbody tr th:only-of-type {\n        vertical-align: middle;\n    }\n\n    .dataframe tbody tr th {\n        vertical-align: top;\n    }\n\n    .dataframe thead th {\n        text-align: right;\n    }\n</style>\n<table border=\"1\" class=\"dataframe\">\n  <thead>\n    <tr style=\"text-align: right;\">\n      <th></th>\n      <th>mean</th>\n      <th>median</th>\n      <th>std</th>\n      <th>min</th>\n      <th>max</th>\n      <th>shape</th>\n      <th>scale</th>\n      <th>fit_mean</th>\n      <th>fit_std</th>\n    </tr>\n  </thead>\n  <tbody>\n    <tr>\n      <th>R1-R2</th>\n      <td>6.633088</td>\n      <td>6.4000</td>\n      <td>1.471388</td>\n      <td>5.115</td>\n      <td>15.955</td>\n      <td>8.212077</td>\n      <td>6.543489</td>\n      <td>6.170061</td>\n      <td>0.893318</td>\n    </tr>\n    <tr>\n      <th>R2-R3</th>\n      <td>4.435441</td>\n      <td>4.2500</td>\n      <td>0.995052</td>\n      <td>3.040</td>\n      <td>11.100</td>\n      <td>7.705520</td>\n      <td>4.407880</td>\n      <td>4.143458</td>\n      <td>0.636670</td>\n    </tr>\n    <tr>\n      <th>R3-R4</th>\n      <td>5.988015</td>\n      <td>5.6100</td>\n      <td>2.192780</td>\n      <td>4.015</td>\n      <td>21.000</td>\n      <td>7.029720</td>\n      <td>5.623389</td>\n      <td>5.261487</td>\n      <td>0.880575</td>\n    </tr>\n    <tr>\n      <th>R4-R5</th>\n      <td>5.654853</td>\n      <td>5.6625</td>\n      <td>0.470526</td>\n      <td>4.745</td>\n      <td>7.115</td>\n      <td>13.799551</td>\n      <td>5.710760</td>\n      <td>5.499720</td>\n      <td>0.487191</td>\n    </tr>\n    <tr>\n      <th>R5-R6</th>\n      <td>5.044559</td>\n      <td>5.0200</td>\n      <td>0.566902</td>\n      <td>3.635</td>\n      <td>6.030</td>\n      <td>8.707140</td>\n      <td>5.276168</td>\n      <td>4.988786</td>\n      <td>0.683739</td>\n    </tr>\n    <tr>\n      <th>R6-R7</th>\n      <td>5.195588</td>\n      <td>5.0850</td>\n      <td>0.588969</td>\n      <td>4.235</td>\n      <td>8.095</td>\n      <td>16.114621</td>\n      <td>5.085251</td>\n      <td>4.921435</td>\n      <td>0.375704</td>\n    </tr>\n    <tr>\n      <th>R7-R8</th>\n      <td>6.435882</td>\n      <td>6.1100</td>\n      <td>1.557230</td>\n      <td>4.705</td>\n      <td>13.170</td>\n      <td>8.146553</td>\n      <td>6.161134</td>\n      <td>5.807295</td>\n      <td>0.847121</td>\n    </tr>\n    <tr>\n      <th>R8-R9</th>\n      <td>6.080735</td>\n      <td>5.8800</td>\n      <td>0.723092</td>\n      <td>4.745</td>\n      <td>8.260</td>\n      <td>14.631003</td>\n      <td>5.900644</td>\n      <td>5.693526</td>\n      <td>0.476881</td>\n    </tr>\n    <tr>\n      <th>R9-R10</th>\n      <td>7.008235</td>\n      <td>7.0050</td>\n      <td>0.775194</td>\n      <td>5.260</td>\n      <td>9.215</td>\n      <td>11.127373</td>\n      <td>7.139707</td>\n      <td>6.822094</td>\n      <td>0.741851</td>\n    </tr>\n    <tr>\n      <th>R10-F1</th>\n      <td>9.233309</td>\n      <td>9.1775</td>\n      <td>0.399014</td>\n      <td>8.290</td>\n      <td>10.385</td>\n      <td>37.735730</td>\n      <td>9.203396</td>\n      <td>9.068859</td>\n      <td>0.302529</td>\n    </tr>\n    <tr>\n      <th>all</th>\n      <td>5.830711</td>\n      <td>5.6500</td>\n      <td>1.403622</td>\n      <td>3.040</td>\n      <td>21.000</td>\n      <td>5.919329</td>\n      <td>5.878017</td>\n      <td>5.449056</td>\n      <td>1.069132</td>\n    </tr>\n  </tbody>\n</table>\n</div>"
     },
     "execution_count": 12,
     "metadata": {},
     "output_type": "execute_result"
    }
   ],
   "source": [
    "df_durations = pd.read_csv(DATA_DIR / \"duo_pauses_dist.csv\", header=0, index_col=0)\n",
    "df_durations"
   ]
  },
  {
   "cell_type": "markdown",
   "source": [
    "Create distribution functions for input values."
   ],
   "metadata": {
    "collapsed": false
   },
   "id": "1fa50b3629ec3301"
  },
  {
   "cell_type": "code",
   "execution_count": 15,
   "id": "fb236861-d15c-4247-acb2-1c540e72a29c",
   "metadata": {
    "tags": [],
    "ExecuteTime": {
     "end_time": "2024-04-26T10:26:37.964477Z",
     "start_time": "2024-04-26T10:26:37.942847Z"
    }
   },
   "outputs": [],
   "source": [
    "diameter_dist = norm(loc=DIAMETER, scale=DIAMETER_STD)\n",
    "temperature_dist = norm(loc=TEMPERATURE, scale=TEMPERATURE_STD)\n",
    "durations_dists = [weibull_min(c=r[\"shape\"], scale=r[\"scale\"]) for i, r in df_durations.iterrows()]"
   ]
  },
  {
   "cell_type": "markdown",
   "source": [
    "Draw random inputs from distributions."
   ],
   "metadata": {
    "collapsed": false
   },
   "id": "7f0106e7dd8c8c53"
  },
  {
   "cell_type": "code",
   "execution_count": 18,
   "id": "baafeb1c-ee99-4c93-807d-b41b9ddcb7c3",
   "metadata": {
    "tags": [],
    "ExecuteTime": {
     "end_time": "2024-04-26T10:27:11.188930Z",
     "start_time": "2024-04-26T10:27:11.179748Z"
    }
   },
   "outputs": [],
   "source": [
    "RNG = np.random.default_rng(SEED)\n",
    "diameters = diameter_dist.rvs(random_state=RNG, size=SAMPLE_COUNT)\n",
    "temperatures = temperature_dist.rvs(random_state=RNG, size=SAMPLE_COUNT)\n",
    "durations = np.concatenate([\n",
    "    d.rvs(random_state=RNG, size=(SAMPLE_COUNT, 1))\n",
    "    for d in durations_dists[:-1]\n",
    "], axis=1)\n",
    "\n",
    "draws = [\n",
    "    DrawDurations(d, t, dur)\n",
    "    for d, t, dur in zip(diameters, temperatures, durations)\n",
    "]"
   ]
  },
  {
   "cell_type": "markdown",
   "source": [
    "Define a worker function creating the in profile, running the solution procedure and extracting results."
   ],
   "metadata": {
    "collapsed": false
   },
   "id": "138250bb8258c79c"
  },
  {
   "cell_type": "code",
   "execution_count": 22,
   "id": "3a0451b0-8deb-4786-93ed-6c954d069482",
   "metadata": {
    "tags": [],
    "ExecuteTime": {
     "end_time": "2024-04-26T10:28:51.013222Z",
     "start_time": "2024-04-26T10:28:50.433618Z"
    }
   },
   "outputs": [],
   "source": [
    "def worker(draw: DrawDurations):    \n",
    "    ip = create_in_profile(draw.diameter)\n",
    "    ip.temperature = draw.temperature\n",
    "\n",
    "    sequence = deepcopy(PASS_SEQUENCE)  \n",
    "    \n",
    "    transports = [u for u in sequence if isinstance(u, pr.Transport)]\n",
    "    for t, d in zip(transports, draw.durations):\n",
    "        t.duration = d\n",
    "    \n",
    "    sequence.solve(ip)       \n",
    "\n",
    "    return (\n",
    "        draw.__dict__.items() |> map$(t -> ((\"draw\", t[0]), t[1])) |> dict\n",
    "    ) | (\n",
    "        FIELDS.items()\n",
    "        |> starmap$((key, extractor) -> (\n",
    "                sequence.units \n",
    "                |> filter$(u -> isinstance(u, pr.RollPass)) \n",
    "                |> map$(u -> ((key, u.label), extractor(u))) \n",
    "                |> filter$(t -> t[1] is not None)\n",
    "            )\n",
    "        )\n",
    "        |> flatten\n",
    "        |> dict            \n",
    "    )"
   ]
  },
  {
   "cell_type": "markdown",
   "source": [
    "Run the simulations using a process pool."
   ],
   "metadata": {
    "collapsed": false
   },
   "id": "24e6a7a11248b0a0"
  },
  {
   "cell_type": "code",
   "execution_count": 23,
   "id": "e179ae5f-2323-46c0-b3a6-b2e0b62eaa91",
   "metadata": {
    "tags": [],
    "ExecuteTime": {
     "end_time": "2024-04-26T10:28:55.186056Z",
     "start_time": "2024-04-26T10:28:53.191637Z"
    }
   },
   "outputs": [
    {
     "name": "stderr",
     "output_type": "stream",
     "text": [
      "100%|██████████| 10/10 [00:01<00:00,  5.31it/s]\n"
     ]
    }
   ],
   "source": [
    "results = tqdm.tqdm(Pool().imap(worker, draws), total=SAMPLE_COUNT) |> list"
   ]
  },
  {
   "cell_type": "markdown",
   "source": [
    "Create a dataframe from results."
   ],
   "metadata": {
    "collapsed": false
   },
   "id": "5cdce30bf95d18d3"
  },
  {
   "cell_type": "code",
   "execution_count": 25,
   "id": "d141b8ef-80ca-4941-a743-cde495d0e513",
   "metadata": {
    "tags": [],
    "ExecuteTime": {
     "end_time": "2024-04-26T10:29:34.478910Z",
     "start_time": "2024-04-26T10:29:34.443790Z"
    }
   },
   "outputs": [
    {
     "data": {
      "text/plain": "       draw                                                                  \\\n   diameter  temperature                                          durations   \n0  0.050390  1433.393000  [6.723683817795442, 4.437947238026818, 5.92022...   \n1  0.050772  1413.231456  [6.48238081333903, 3.708503178965375, 6.549300...   \n2  0.051325  1438.005183  [6.90907440482713, 3.4469969751061704, 3.74331...   \n3  0.049996  1417.283792  [6.328591499545676, 3.4547092498593552, 4.2507...   \n4  0.050787  1412.266876  [6.7279486648728195, 3.7331187833247705, 6.635...   \n5  0.051227  1425.030163  [6.703287729591661, 4.567633940131921, 5.11723...   \n6  0.050200  1433.518216  [5.58504731423822, 4.803190362622017, 5.793046...   \n7  0.050152  1422.000784  [7.173666195352142, 4.831937545615116, 5.17875...   \n8  0.048080  1422.537161  [5.895563120655166, 4.365454705504861, 4.21415...   \n9  0.049793  1416.863055  [6.826654169927619, 3.8894617697878293, 5.5009...   \n\n      roll_force                                                              \\\n              R1             R2             R3             R4             R5   \n0  300544.603264  174872.003267  311897.355526  144842.003992  193826.440815   \n1  320084.580270  183035.326853  321030.727246  149195.617698  200797.884633   \n2  311456.759557  177254.533515  309248.524702  139313.172823  187285.631172   \n3  305225.921663  178390.789882  316317.021365  144296.075066  196048.791122   \n4  320994.360937  183790.158258  322176.509387  149781.683233  200877.719210   \n5  318925.026530  181046.061812  318211.920176  145305.864293  196307.055768   \n6  297602.091391  172490.320335  309850.026726  143983.544515  195505.746087   \n7  304471.413880  178523.457792  319336.872861  146890.018856  199311.195390   \n8  272668.808873  169041.093548  310603.843114  143920.760187  193484.969049   \n9  302355.265379  178501.956368  318263.661341  147337.602892  199174.848614   \n\n                                 ... out_recrystallized_fraction              \\\n              R6             R7  ...                          R5 R6 R7 R8 R9   \n0   97967.093440  182773.642559  ...                           0  0  0  0  0   \n1  100049.855498  187068.759674  ...                           0  0  0  0  0   \n2   94743.686444  178510.782896  ...                           0  0  0  0  0   \n3   98410.599346  184274.139422  ...                           0  0  0  0  0   \n4  100572.360142  187238.170288  ...                           0  0  0  0  0   \n5   97269.559184  181519.608273  ...                           0  0  0  0  0   \n6   97507.695748  183583.435906  ...                           0  0  0  0  0   \n7   99963.264584  186575.450024  ...                           0  0  0  0  0   \n8   95799.039924  180957.472742  ...                           0  0  0  0  0   \n9   99233.744348  185833.893327  ...                           0  0  0  0  0   \n\n                   \n  R10 F1 F2 F3 F4  \n0   0  0  0  0  0  \n1   0  0  0  0  0  \n2   0  0  0  0  0  \n3   0  0  0  0  0  \n4   0  0  0  0  0  \n5   0  0  0  0  0  \n6   0  0  0  0  0  \n7   0  0  0  0  0  \n8   0  0  0  0  0  \n9   0  0  0  0  0  \n\n[10 rows x 185 columns]",
      "text/html": "<div>\n<style scoped>\n    .dataframe tbody tr th:only-of-type {\n        vertical-align: middle;\n    }\n\n    .dataframe tbody tr th {\n        vertical-align: top;\n    }\n\n    .dataframe thead tr th {\n        text-align: left;\n    }\n</style>\n<table border=\"1\" class=\"dataframe\">\n  <thead>\n    <tr>\n      <th></th>\n      <th colspan=\"3\" halign=\"left\">draw</th>\n      <th colspan=\"7\" halign=\"left\">roll_force</th>\n      <th>...</th>\n      <th colspan=\"10\" halign=\"left\">out_recrystallized_fraction</th>\n    </tr>\n    <tr>\n      <th></th>\n      <th>diameter</th>\n      <th>temperature</th>\n      <th>durations</th>\n      <th>R1</th>\n      <th>R2</th>\n      <th>R3</th>\n      <th>R4</th>\n      <th>R5</th>\n      <th>R6</th>\n      <th>R7</th>\n      <th>...</th>\n      <th>R5</th>\n      <th>R6</th>\n      <th>R7</th>\n      <th>R8</th>\n      <th>R9</th>\n      <th>R10</th>\n      <th>F1</th>\n      <th>F2</th>\n      <th>F3</th>\n      <th>F4</th>\n    </tr>\n  </thead>\n  <tbody>\n    <tr>\n      <th>0</th>\n      <td>0.050390</td>\n      <td>1433.393000</td>\n      <td>[6.723683817795442, 4.437947238026818, 5.92022...</td>\n      <td>300544.603264</td>\n      <td>174872.003267</td>\n      <td>311897.355526</td>\n      <td>144842.003992</td>\n      <td>193826.440815</td>\n      <td>97967.093440</td>\n      <td>182773.642559</td>\n      <td>...</td>\n      <td>0</td>\n      <td>0</td>\n      <td>0</td>\n      <td>0</td>\n      <td>0</td>\n      <td>0</td>\n      <td>0</td>\n      <td>0</td>\n      <td>0</td>\n      <td>0</td>\n    </tr>\n    <tr>\n      <th>1</th>\n      <td>0.050772</td>\n      <td>1413.231456</td>\n      <td>[6.48238081333903, 3.708503178965375, 6.549300...</td>\n      <td>320084.580270</td>\n      <td>183035.326853</td>\n      <td>321030.727246</td>\n      <td>149195.617698</td>\n      <td>200797.884633</td>\n      <td>100049.855498</td>\n      <td>187068.759674</td>\n      <td>...</td>\n      <td>0</td>\n      <td>0</td>\n      <td>0</td>\n      <td>0</td>\n      <td>0</td>\n      <td>0</td>\n      <td>0</td>\n      <td>0</td>\n      <td>0</td>\n      <td>0</td>\n    </tr>\n    <tr>\n      <th>2</th>\n      <td>0.051325</td>\n      <td>1438.005183</td>\n      <td>[6.90907440482713, 3.4469969751061704, 3.74331...</td>\n      <td>311456.759557</td>\n      <td>177254.533515</td>\n      <td>309248.524702</td>\n      <td>139313.172823</td>\n      <td>187285.631172</td>\n      <td>94743.686444</td>\n      <td>178510.782896</td>\n      <td>...</td>\n      <td>0</td>\n      <td>0</td>\n      <td>0</td>\n      <td>0</td>\n      <td>0</td>\n      <td>0</td>\n      <td>0</td>\n      <td>0</td>\n      <td>0</td>\n      <td>0</td>\n    </tr>\n    <tr>\n      <th>3</th>\n      <td>0.049996</td>\n      <td>1417.283792</td>\n      <td>[6.328591499545676, 3.4547092498593552, 4.2507...</td>\n      <td>305225.921663</td>\n      <td>178390.789882</td>\n      <td>316317.021365</td>\n      <td>144296.075066</td>\n      <td>196048.791122</td>\n      <td>98410.599346</td>\n      <td>184274.139422</td>\n      <td>...</td>\n      <td>0</td>\n      <td>0</td>\n      <td>0</td>\n      <td>0</td>\n      <td>0</td>\n      <td>0</td>\n      <td>0</td>\n      <td>0</td>\n      <td>0</td>\n      <td>0</td>\n    </tr>\n    <tr>\n      <th>4</th>\n      <td>0.050787</td>\n      <td>1412.266876</td>\n      <td>[6.7279486648728195, 3.7331187833247705, 6.635...</td>\n      <td>320994.360937</td>\n      <td>183790.158258</td>\n      <td>322176.509387</td>\n      <td>149781.683233</td>\n      <td>200877.719210</td>\n      <td>100572.360142</td>\n      <td>187238.170288</td>\n      <td>...</td>\n      <td>0</td>\n      <td>0</td>\n      <td>0</td>\n      <td>0</td>\n      <td>0</td>\n      <td>0</td>\n      <td>0</td>\n      <td>0</td>\n      <td>0</td>\n      <td>0</td>\n    </tr>\n    <tr>\n      <th>5</th>\n      <td>0.051227</td>\n      <td>1425.030163</td>\n      <td>[6.703287729591661, 4.567633940131921, 5.11723...</td>\n      <td>318925.026530</td>\n      <td>181046.061812</td>\n      <td>318211.920176</td>\n      <td>145305.864293</td>\n      <td>196307.055768</td>\n      <td>97269.559184</td>\n      <td>181519.608273</td>\n      <td>...</td>\n      <td>0</td>\n      <td>0</td>\n      <td>0</td>\n      <td>0</td>\n      <td>0</td>\n      <td>0</td>\n      <td>0</td>\n      <td>0</td>\n      <td>0</td>\n      <td>0</td>\n    </tr>\n    <tr>\n      <th>6</th>\n      <td>0.050200</td>\n      <td>1433.518216</td>\n      <td>[5.58504731423822, 4.803190362622017, 5.793046...</td>\n      <td>297602.091391</td>\n      <td>172490.320335</td>\n      <td>309850.026726</td>\n      <td>143983.544515</td>\n      <td>195505.746087</td>\n      <td>97507.695748</td>\n      <td>183583.435906</td>\n      <td>...</td>\n      <td>0</td>\n      <td>0</td>\n      <td>0</td>\n      <td>0</td>\n      <td>0</td>\n      <td>0</td>\n      <td>0</td>\n      <td>0</td>\n      <td>0</td>\n      <td>0</td>\n    </tr>\n    <tr>\n      <th>7</th>\n      <td>0.050152</td>\n      <td>1422.000784</td>\n      <td>[7.173666195352142, 4.831937545615116, 5.17875...</td>\n      <td>304471.413880</td>\n      <td>178523.457792</td>\n      <td>319336.872861</td>\n      <td>146890.018856</td>\n      <td>199311.195390</td>\n      <td>99963.264584</td>\n      <td>186575.450024</td>\n      <td>...</td>\n      <td>0</td>\n      <td>0</td>\n      <td>0</td>\n      <td>0</td>\n      <td>0</td>\n      <td>0</td>\n      <td>0</td>\n      <td>0</td>\n      <td>0</td>\n      <td>0</td>\n    </tr>\n    <tr>\n      <th>8</th>\n      <td>0.048080</td>\n      <td>1422.537161</td>\n      <td>[5.895563120655166, 4.365454705504861, 4.21415...</td>\n      <td>272668.808873</td>\n      <td>169041.093548</td>\n      <td>310603.843114</td>\n      <td>143920.760187</td>\n      <td>193484.969049</td>\n      <td>95799.039924</td>\n      <td>180957.472742</td>\n      <td>...</td>\n      <td>0</td>\n      <td>0</td>\n      <td>0</td>\n      <td>0</td>\n      <td>0</td>\n      <td>0</td>\n      <td>0</td>\n      <td>0</td>\n      <td>0</td>\n      <td>0</td>\n    </tr>\n    <tr>\n      <th>9</th>\n      <td>0.049793</td>\n      <td>1416.863055</td>\n      <td>[6.826654169927619, 3.8894617697878293, 5.5009...</td>\n      <td>302355.265379</td>\n      <td>178501.956368</td>\n      <td>318263.661341</td>\n      <td>147337.602892</td>\n      <td>199174.848614</td>\n      <td>99233.744348</td>\n      <td>185833.893327</td>\n      <td>...</td>\n      <td>0</td>\n      <td>0</td>\n      <td>0</td>\n      <td>0</td>\n      <td>0</td>\n      <td>0</td>\n      <td>0</td>\n      <td>0</td>\n      <td>0</td>\n      <td>0</td>\n    </tr>\n  </tbody>\n</table>\n<p>10 rows × 185 columns</p>\n</div>"
     },
     "execution_count": 25,
     "metadata": {},
     "output_type": "execute_result"
    }
   ],
   "source": [
    "df = results |> filter$(e -> \"error\" not in e) |> enumerate |> dict |> pd.DataFrame |> .T |> .infer_objects()\n",
    "df"
   ]
  },
  {
   "cell_type": "markdown",
   "source": [
    "Save dataframe to CSV file."
   ],
   "metadata": {
    "collapsed": false
   },
   "id": "6008b4ba088be5fa"
  },
  {
   "cell_type": "code",
   "execution_count": 26,
   "id": "05caeef4-9f10-44e6-a671-b16406921503",
   "metadata": {
    "tags": [],
    "ExecuteTime": {
     "end_time": "2024-04-26T10:29:41.209280Z",
     "start_time": "2024-04-26T10:29:40.745507Z"
    }
   },
   "outputs": [],
   "source": [
    "df.to_csv(DATA_DIR / OUTPUT_FILENAME)"
   ]
  },
  {
   "cell_type": "code",
   "execution_count": null,
   "id": "8386e925-57c3-4036-8cf4-dc2ee1d6ecb4",
   "metadata": {},
   "outputs": [],
   "source": []
  }
 ],
 "metadata": {
  "kernelspec": {
   "display_name": "Coconut",
   "language": "coconut",
   "name": "coconut"
  },
  "language_info": {
   "codemirror_mode": {
    "name": "ipython",
    "version": 3
   },
   "file_extension": ".coco",
   "mimetype": "text/x-python3",
   "name": "coconut",
   "pygments_lexer": "coconut",
   "version": "3.0.4"
  }
 },
 "nbformat": 4,
 "nbformat_minor": 5
}

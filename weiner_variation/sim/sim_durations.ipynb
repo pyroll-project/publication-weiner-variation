{
 "cells": [
  {
   "cell_type": "markdown",
   "id": "4e53deed0f8c4d5c",
   "metadata": {
    "collapsed": false,
    "editable": true,
    "jupyter": {
     "outputs_hidden": false
    },
    "slideshow": {
     "slide_type": ""
    },
    "tags": []
   },
   "source": [
    "# Simulation of the Process with Process Variations"
   ]
  },
  {
   "cell_type": "markdown",
   "id": "de4a86df1adcfabd",
   "metadata": {
    "collapsed": false,
    "jupyter": {
     "outputs_hidden": false
    }
   },
   "source": [
    "Import PyRolL modules."
   ]
  },
  {
   "cell_type": "code",
   "execution_count": null,
   "id": "80fcef0d24ddb562",
   "metadata": {},
   "outputs": [],
   "source": [
    "import pyroll.basic as pr\n",
    "import pyroll.export as pre"
   ]
  },
  {
   "cell_type": "markdown",
   "id": "b7b4c3fc5d454f7",
   "metadata": {},
   "source": [
    "Import the process data."
   ]
  },
  {
   "cell_type": "code",
   "execution_count": null,
   "id": "90017818cae9c2c1",
   "metadata": {},
   "outputs": [],
   "source": [
    "from weiner_variation.sim.process import PASS_SEQUENCE, IN_PROFILE, TEMPERATURE, DIAMETER, TEMPERATURE_STD, DIAMETER_STD, create_in_profile\n",
    "from weiner_variation.sim.config import SAMPLE_COUNT, SEED\n",
    "from weiner_variation.sim.data import DrawDurations\n",
    "from weiner_variation.config import DATA_DIR"
   ]
  },
  {
   "cell_type": "markdown",
   "id": "dfb7eb43b7540b27",
   "metadata": {},
   "source": [
    "Import further libraries."
   ]
  },
  {
   "cell_type": "code",
   "execution_count": null,
   "id": "559f5ad3a38b662f",
   "metadata": {},
   "outputs": [],
   "source": [
    "import pandas as pd\n",
    "from copy import deepcopy\n",
    "from scipy.stats import norm, weibull_min\n",
    "import numpy as np\n",
    "import tqdm\n",
    "from multiprocessing import Pool"
   ]
  },
  {
   "cell_type": "markdown",
   "id": "8f4719b0c5357f48",
   "metadata": {},
   "source": [
    "Parameters for notebook using papermill."
   ]
  },
  {
   "cell_type": "code",
   "execution_count": null,
   "id": "2bc73ea1b705caf3",
   "metadata": {
    "editable": true,
    "slideshow": {
     "slide_type": ""
    },
    "tags": [
     "parameters"
    ]
   },
   "outputs": [],
   "source": [
    "DIAMETER_STD = DIAMETER_STD\n",
    "TEMPERATURE_STD = TEMPERATURE_STD\n",
    "OUTPUT_FILENAME = DATA_DIR / \"sim_durations_results.csv\""
   ]
  },
  {
   "cell_type": "markdown",
   "id": "8cc8e4fbb40ff90b",
   "metadata": {},
   "source": [
    "Load pause duration data in a dataframe."
   ]
  },
  {
   "cell_type": "code",
   "execution_count": null,
   "id": "16b10577f5820563",
   "metadata": {},
   "outputs": [],
   "source": [
    "df_durations = pd.read_csv(DATA_DIR / \"duo_pauses_dist.csv\", header=0, index_col=0)\n",
    "df_durations"
   ]
  },
  {
   "cell_type": "markdown",
   "id": "88421e638a94ca58",
   "metadata": {},
   "source": [
    "Create distribution functions for input values."
   ]
  },
  {
   "cell_type": "code",
   "execution_count": null,
   "id": "46a491694ccc25ae",
   "metadata": {},
   "outputs": [],
   "source": [
    "diameter_dist = norm(loc=DIAMETER, scale=DIAMETER_STD)\n",
    "temperature_dist = norm(loc=TEMPERATURE, scale=TEMPERATURE_STD)\n",
    "durations_dists = [weibull_min(c=r[\"shape\"], scale=r[\"scale\"]) for i, r in df_durations.iterrows()]"
   ]
  },
  {
   "cell_type": "markdown",
   "id": "27d7b83c75a3b1a0",
   "metadata": {},
   "source": [
    "Draw random inputs from distributions."
   ]
  },
  {
   "cell_type": "code",
   "execution_count": null,
   "id": "3c7d93e200c21a4e",
   "metadata": {},
   "outputs": [],
   "source": [
    "RNG = np.random.default_rng(SEED)\n",
    "diameters = diameter_dist.rvs(random_state=RNG, size=SAMPLE_COUNT)\n",
    "temperatures = temperature_dist.rvs(random_state=RNG, size=SAMPLE_COUNT)\n",
    "durations = np.concatenate([\n",
    "    d.rvs(random_state=RNG, size=(SAMPLE_COUNT, 1))\n",
    "    for d in durations_dists[:-1]\n",
    "], axis=1)\n",
    "\n",
    "draws = [\n",
    "    DrawDurations(d, t, dur)\n",
    "    for d, t, dur in zip(diameters, temperatures, durations)\n",
    "]"
   ]
  },
  {
   "cell_type": "markdown",
   "id": "492f94d389b81ae5",
   "metadata": {},
   "source": [
    "Define a worker function creating the in profile, running the solution procedure and extracting results."
   ]
  },
  {
   "cell_type": "code",
   "execution_count": null,
   "id": "c378a325b6dc9817",
   "metadata": {},
   "outputs": [],
   "source": [
    "def worker(draw: DrawDurations):    \n",
    "    ip = create_in_profile(draw.diameter)\n",
    "    ip.temperature = draw.temperature\n",
    "\n",
    "    sequence = deepcopy(PASS_SEQUENCE)  \n",
    "    \n",
    "    transports = [u for u in sequence if isinstance(u, pr.Transport)]\n",
    "    for t, d in zip(transports, draw.durations):\n",
    "        t.duration = d\n",
    "    \n",
    "    sequence.solve(ip)       \n",
    "\n",
    "    return pre.to_pandas(sequence)"
   ]
  },
  {
   "cell_type": "markdown",
   "id": "20befb1ea5cc463c",
   "metadata": {},
   "source": [
    "Run the simulations using a process pool."
   ]
  },
  {
   "cell_type": "code",
   "execution_count": null,
   "id": "8eec59499b29c64c",
   "metadata": {},
   "outputs": [],
   "source": [
    "results = list(tqdm.tqdm(Pool().imap(worker, draws), total=SAMPLE_COUNT))"
   ]
  },
  {
   "cell_type": "markdown",
   "id": "78bf653479604184",
   "metadata": {},
   "source": [
    "Create a dataframe from results."
   ]
  },
  {
   "cell_type": "code",
   "execution_count": null,
   "id": "c610619790b39751",
   "metadata": {},
   "outputs": [],
   "source": [
    "df = pd.DataFrame([r.stack().swaplevel().sort_index() for r in results])\n",
    "df"
   ]
  },
  {
   "cell_type": "markdown",
   "id": "b49b7a764241a48",
   "metadata": {},
   "source": [
    "Save dataframe to CSV file."
   ]
  },
  {
   "cell_type": "code",
   "execution_count": null,
   "id": "c61e48450ec71f20",
   "metadata": {},
   "outputs": [],
   "source": [
    "df.to_csv(OUTPUT_FILENAME)"
   ]
  },
  {
   "cell_type": "code",
   "execution_count": null,
   "id": "d3a4612730727b26",
   "metadata": {},
   "outputs": [],
   "source": []
  }
 ],
 "metadata": {
  "kernelspec": {
   "display_name": "Python 3 (ipykernel)",
   "language": "python",
   "name": "python3"
  },
  "language_info": {
   "codemirror_mode": {
    "name": "ipython",
    "version": 3
   },
   "file_extension": ".py",
   "mimetype": "text/x-python",
   "name": "python",
   "nbconvert_exporter": "python",
   "pygments_lexer": "ipython3",
   "version": "3.12.4"
  }
 },
 "nbformat": 4,
 "nbformat_minor": 5
}

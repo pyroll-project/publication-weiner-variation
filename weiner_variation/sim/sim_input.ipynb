{
 "cells": [
  {
   "cell_type": "markdown",
   "source": [
    "# Simulation of the Process with Input Variations"
   ],
   "metadata": {
    "collapsed": false
   },
   "id": "87eca59d9255a11f"
  },
  {
   "cell_type": "markdown",
   "source": [
    "Import PyRolL modules."
   ],
   "metadata": {
    "collapsed": false
   },
   "id": "d32b7558d586b87c"
  },
  {
   "cell_type": "code",
   "execution_count": 12,
   "id": "efa41c7e-79f9-486f-95ea-1773fc50be7b",
   "metadata": {
    "ExecuteTime": {
     "end_time": "2024-04-26T12:06:56.150742Z",
     "start_time": "2024-04-26T12:06:56.005789Z"
    }
   },
   "outputs": [],
   "source": [
    "import pyroll.basic as pr\n",
    "import pyroll.export as pre"
   ]
  },
  {
   "cell_type": "markdown",
   "source": [
    "Import the process data."
   ],
   "metadata": {
    "collapsed": false
   },
   "id": "a1530a80848f4b6c"
  },
  {
   "cell_type": "code",
   "execution_count": 2,
   "id": "06e695db-4745-4f5e-8472-3eb8688a80f4",
   "metadata": {
    "tags": [],
    "ExecuteTime": {
     "end_time": "2024-04-26T10:10:16.872459Z",
     "start_time": "2024-04-26T10:10:16.811513Z"
    }
   },
   "outputs": [],
   "source": [
    "from weiner_variation.sim.process import PASS_SEQUENCE, IN_PROFILE, TEMPERATURE, DIAMETER, TEMPERATURE_STD, DIAMETER_STD, create_in_profile\n",
    "from weiner_variation.sim.config import FIELDS, SAMPLE_COUNT, SEED\n",
    "from weiner_variation.sim.data_structures import DrawInput"
   ]
  },
  {
   "cell_type": "markdown",
   "source": [
    "Import further libraries."
   ],
   "metadata": {
    "collapsed": false
   },
   "id": "976e147f4c0054d"
  },
  {
   "cell_type": "code",
   "execution_count": 3,
   "id": "2f9793cf-442c-4d68-8ee9-e57dc2264bb2",
   "metadata": {
    "tags": [],
    "ExecuteTime": {
     "end_time": "2024-04-26T10:10:17.999438Z",
     "start_time": "2024-04-26T10:10:17.681637Z"
    }
   },
   "outputs": [],
   "source": [
    "import pandas as pd\n",
    "from copy import deepcopy\n",
    "from scipy.stats import norm\n",
    "import numpy as np\n",
    "import tqdm\n",
    "from multiprocessing import Pool"
   ]
  },
  {
   "cell_type": "markdown",
   "source": [
    "Parameters for notebook using papermill."
   ],
   "metadata": {
    "collapsed": false
   },
   "id": "7e5f7f58dae3b659"
  },
  {
   "cell_type": "code",
   "execution_count": 4,
   "id": "832905b0-871a-46a3-828f-091148c4ca2e",
   "metadata": {
    "tags": [
     "parameters"
    ],
    "ExecuteTime": {
     "end_time": "2024-04-26T10:10:18.590866Z",
     "start_time": "2024-04-26T10:10:18.355986Z"
    }
   },
   "outputs": [],
   "source": [
    "DIAMETER_STD = DIAMETER_STD\n",
    "TEMPERATURE_STD = TEMPERATURE_STD\n",
    "OUTPUT_FILENAME = \"sim_input_results.csv\""
   ]
  },
  {
   "cell_type": "markdown",
   "source": [
    "Create distribution functions for input values."
   ],
   "metadata": {
    "collapsed": false
   },
   "id": "c37f503197174d64"
  },
  {
   "cell_type": "code",
   "execution_count": 5,
   "id": "043549bb-4ed5-4331-8e29-a218d0e2b6c2",
   "metadata": {
    "tags": [],
    "ExecuteTime": {
     "end_time": "2024-04-26T10:10:19.485328Z",
     "start_time": "2024-04-26T10:10:19.234233Z"
    }
   },
   "outputs": [],
   "source": [
    "diameter_dist = norm(loc=DIAMETER, scale=DIAMETER_STD)\n",
    "temperature_dist = norm(loc=TEMPERATURE, scale=TEMPERATURE_STD)"
   ]
  },
  {
   "cell_type": "markdown",
   "source": [
    "Draw random inputs from distributions."
   ],
   "metadata": {
    "collapsed": false
   },
   "id": "3601a40b72f2695d"
  },
  {
   "cell_type": "code",
   "execution_count": 6,
   "id": "704b0f87-6938-4fad-9d60-67622a9905aa",
   "metadata": {
    "tags": [],
    "ExecuteTime": {
     "end_time": "2024-04-26T10:10:21.090335Z",
     "start_time": "2024-04-26T10:10:20.107322Z"
    }
   },
   "outputs": [],
   "source": [
    "RNG = np.random.default_rng(SEED)\n",
    "diameters = diameter_dist.rvs(random_state=RNG, size=SAMPLE_COUNT)\n",
    "temperatures = temperature_dist.rvs(random_state=RNG, size=SAMPLE_COUNT)\n",
    "\n",
    "draws = [\n",
    "    DrawInput(d, t)\n",
    "    for d, t in zip(diameters, temperatures)\n",
    "]"
   ]
  },
  {
   "cell_type": "markdown",
   "source": [
    "Define a worker function creating the in profile, running the solution procedure and extracting results."
   ],
   "metadata": {
    "collapsed": false
   },
   "id": "6dbb5e4536c52f17"
  },
  {
   "cell_type": "code",
   "execution_count": 13,
   "id": "36aa07ba-a6a5-4f4e-bf4f-87a6f4ecc6b6",
   "metadata": {
    "tags": [],
    "ExecuteTime": {
     "end_time": "2024-04-26T12:07:13.271060Z",
     "start_time": "2024-04-26T12:07:12.251506Z"
    }
   },
   "outputs": [],
   "source": [
    "def worker(draw: DrawInput):    \n",
    "    ip = create_in_profile(draw.diameter)\n",
    "    ip.temperature = draw.temperature\n",
    "\n",
    "    sequence = deepcopy(PASS_SEQUENCE)\n",
    "    sequence.solve(ip)       \n",
    "\n",
    "    return (\n",
    "        draw.__dict__.items() |> map$(t -> ((\"draw\", t[0]), t[1])) |> dict\n",
    "    ) | pre.to_dict(sequence)"
   ]
  },
  {
   "cell_type": "markdown",
   "source": [
    "Run the simulations using a process pool."
   ],
   "metadata": {
    "collapsed": false
   },
   "id": "d1c269049e936ea3"
  },
  {
   "cell_type": "code",
   "execution_count": 14,
   "id": "932aeed3-5f9b-4761-a280-b685301da012",
   "metadata": {
    "scrolled": true,
    "tags": [],
    "ExecuteTime": {
     "end_time": "2024-04-26T12:07:19.223136Z",
     "start_time": "2024-04-26T12:07:15.950742Z"
    }
   },
   "outputs": [
    {
     "name": "stderr",
     "output_type": "stream",
     "text": [
      "100%|██████████| 10/10 [00:03<00:00,  3.16it/s]\n"
     ]
    }
   ],
   "source": [
    "results = tqdm.tqdm(Pool().imap(worker, draws), total=SAMPLE_COUNT) |> list"
   ]
  },
  {
   "cell_type": "markdown",
   "source": [
    "Create a dataframe from results."
   ],
   "metadata": {
    "collapsed": false
   },
   "id": "fa9bc9cdd3b0ef60"
  },
  {
   "cell_type": "code",
   "execution_count": 15,
   "id": "e1380b25-c487-432d-94dd-4ca9107d33d5",
   "metadata": {
    "tags": [],
    "ExecuteTime": {
     "end_time": "2024-04-26T12:07:26.966237Z",
     "start_time": "2024-04-26T12:07:22.831545Z"
    }
   },
   "outputs": [
    {
     "data": {
      "text/plain": "   (draw, diameter)  (draw, temperature)          type label  \\\n0          0.050390          1433.393000  PassSequence         \n1          0.050772          1413.231456  PassSequence         \n2          0.051325          1438.005183  PassSequence         \n3          0.049996          1417.283792  PassSequence         \n4          0.050787          1412.266876  PassSequence         \n5          0.051227          1425.030163  PassSequence         \n6          0.050200          1433.518216  PassSequence         \n7          0.050152          1422.000784  PassSequence         \n8          0.048080          1422.537161  PassSequence         \n9          0.049793          1416.863055  PassSequence         \n\n                                          in_profile  \\\n0  {'type': 'PassSequence.InProfile', 't': 0, 'cr...   \n1  {'type': 'PassSequence.InProfile', 't': 0, 'cr...   \n2  {'type': 'PassSequence.InProfile', 't': 0, 'cr...   \n3  {'type': 'PassSequence.InProfile', 't': 0, 'cr...   \n4  {'type': 'PassSequence.InProfile', 't': 0, 'cr...   \n5  {'type': 'PassSequence.InProfile', 't': 0, 'cr...   \n6  {'type': 'PassSequence.InProfile', 't': 0, 'cr...   \n7  {'type': 'PassSequence.InProfile', 't': 0, 'cr...   \n8  {'type': 'PassSequence.InProfile', 't': 0, 'cr...   \n9  {'type': 'PassSequence.InProfile', 't': 0, 'cr...   \n\n                                         out_profile         power  \\\n0  {'type': 'PassSequence.OutProfile', 't': 63.76...  8.312527e+06   \n1  {'type': 'PassSequence.OutProfile', 't': 63.76...  8.512734e+06   \n2  {'type': 'PassSequence.OutProfile', 't': 63.77...  8.332473e+06   \n3  {'type': 'PassSequence.OutProfile', 't': 63.76...  8.425830e+06   \n4  {'type': 'PassSequence.OutProfile', 't': 63.76...  8.522281e+06   \n5  {'type': 'PassSequence.OutProfile', 't': 63.77...  8.438534e+06   \n6  {'type': 'PassSequence.OutProfile', 't': 63.76...  8.299278e+06   \n7  {'type': 'PassSequence.OutProfile', 't': 63.76...  8.395029e+06   \n8  {'type': 'PassSequence.OutProfile', 't': 63.75...  8.258330e+06   \n9  {'type': 'PassSequence.OutProfile', 't': 63.76...  8.416118e+06   \n\n   log_elongation  max_iteration_count   duration  elongation  \\\n0        3.663753                  100  63.767639   39.007456   \n1        3.678836                  100  63.768880   39.600262   \n2        3.700487                  100  63.770647   40.467007   \n3        3.648029                  100  63.766337   38.398916   \n4        3.679425                  100  63.768928   39.623611   \n5        3.696674                  100  63.770337   40.313000   \n6        3.656182                  100  63.767013   38.713257   \n7        3.654246                  100  63.766853   38.638371   \n8        3.569881                  100  63.759813   35.512362   \n9        3.639880                  100  63.765660   38.087247   \n\n   iteration_precision                                              units  \n0                0.001  [{'type': 'RollPass', 'label': 'R1', 'in_profi...  \n1                0.001  [{'type': 'RollPass', 'label': 'R1', 'in_profi...  \n2                0.001  [{'type': 'RollPass', 'label': 'R1', 'in_profi...  \n3                0.001  [{'type': 'RollPass', 'label': 'R1', 'in_profi...  \n4                0.001  [{'type': 'RollPass', 'label': 'R1', 'in_profi...  \n5                0.001  [{'type': 'RollPass', 'label': 'R1', 'in_profi...  \n6                0.001  [{'type': 'RollPass', 'label': 'R1', 'in_profi...  \n7                0.001  [{'type': 'RollPass', 'label': 'R1', 'in_profi...  \n8                0.001  [{'type': 'RollPass', 'label': 'R1', 'in_profi...  \n9                0.001  [{'type': 'RollPass', 'label': 'R1', 'in_profi...  ",
      "text/html": "<div>\n<style scoped>\n    .dataframe tbody tr th:only-of-type {\n        vertical-align: middle;\n    }\n\n    .dataframe tbody tr th {\n        vertical-align: top;\n    }\n\n    .dataframe thead th {\n        text-align: right;\n    }\n</style>\n<table border=\"1\" class=\"dataframe\">\n  <thead>\n    <tr style=\"text-align: right;\">\n      <th></th>\n      <th>(draw, diameter)</th>\n      <th>(draw, temperature)</th>\n      <th>type</th>\n      <th>label</th>\n      <th>in_profile</th>\n      <th>out_profile</th>\n      <th>power</th>\n      <th>log_elongation</th>\n      <th>max_iteration_count</th>\n      <th>duration</th>\n      <th>elongation</th>\n      <th>iteration_precision</th>\n      <th>units</th>\n    </tr>\n  </thead>\n  <tbody>\n    <tr>\n      <th>0</th>\n      <td>0.050390</td>\n      <td>1433.393000</td>\n      <td>PassSequence</td>\n      <td></td>\n      <td>{'type': 'PassSequence.InProfile', 't': 0, 'cr...</td>\n      <td>{'type': 'PassSequence.OutProfile', 't': 63.76...</td>\n      <td>8.312527e+06</td>\n      <td>3.663753</td>\n      <td>100</td>\n      <td>63.767639</td>\n      <td>39.007456</td>\n      <td>0.001</td>\n      <td>[{'type': 'RollPass', 'label': 'R1', 'in_profi...</td>\n    </tr>\n    <tr>\n      <th>1</th>\n      <td>0.050772</td>\n      <td>1413.231456</td>\n      <td>PassSequence</td>\n      <td></td>\n      <td>{'type': 'PassSequence.InProfile', 't': 0, 'cr...</td>\n      <td>{'type': 'PassSequence.OutProfile', 't': 63.76...</td>\n      <td>8.512734e+06</td>\n      <td>3.678836</td>\n      <td>100</td>\n      <td>63.768880</td>\n      <td>39.600262</td>\n      <td>0.001</td>\n      <td>[{'type': 'RollPass', 'label': 'R1', 'in_profi...</td>\n    </tr>\n    <tr>\n      <th>2</th>\n      <td>0.051325</td>\n      <td>1438.005183</td>\n      <td>PassSequence</td>\n      <td></td>\n      <td>{'type': 'PassSequence.InProfile', 't': 0, 'cr...</td>\n      <td>{'type': 'PassSequence.OutProfile', 't': 63.77...</td>\n      <td>8.332473e+06</td>\n      <td>3.700487</td>\n      <td>100</td>\n      <td>63.770647</td>\n      <td>40.467007</td>\n      <td>0.001</td>\n      <td>[{'type': 'RollPass', 'label': 'R1', 'in_profi...</td>\n    </tr>\n    <tr>\n      <th>3</th>\n      <td>0.049996</td>\n      <td>1417.283792</td>\n      <td>PassSequence</td>\n      <td></td>\n      <td>{'type': 'PassSequence.InProfile', 't': 0, 'cr...</td>\n      <td>{'type': 'PassSequence.OutProfile', 't': 63.76...</td>\n      <td>8.425830e+06</td>\n      <td>3.648029</td>\n      <td>100</td>\n      <td>63.766337</td>\n      <td>38.398916</td>\n      <td>0.001</td>\n      <td>[{'type': 'RollPass', 'label': 'R1', 'in_profi...</td>\n    </tr>\n    <tr>\n      <th>4</th>\n      <td>0.050787</td>\n      <td>1412.266876</td>\n      <td>PassSequence</td>\n      <td></td>\n      <td>{'type': 'PassSequence.InProfile', 't': 0, 'cr...</td>\n      <td>{'type': 'PassSequence.OutProfile', 't': 63.76...</td>\n      <td>8.522281e+06</td>\n      <td>3.679425</td>\n      <td>100</td>\n      <td>63.768928</td>\n      <td>39.623611</td>\n      <td>0.001</td>\n      <td>[{'type': 'RollPass', 'label': 'R1', 'in_profi...</td>\n    </tr>\n    <tr>\n      <th>5</th>\n      <td>0.051227</td>\n      <td>1425.030163</td>\n      <td>PassSequence</td>\n      <td></td>\n      <td>{'type': 'PassSequence.InProfile', 't': 0, 'cr...</td>\n      <td>{'type': 'PassSequence.OutProfile', 't': 63.77...</td>\n      <td>8.438534e+06</td>\n      <td>3.696674</td>\n      <td>100</td>\n      <td>63.770337</td>\n      <td>40.313000</td>\n      <td>0.001</td>\n      <td>[{'type': 'RollPass', 'label': 'R1', 'in_profi...</td>\n    </tr>\n    <tr>\n      <th>6</th>\n      <td>0.050200</td>\n      <td>1433.518216</td>\n      <td>PassSequence</td>\n      <td></td>\n      <td>{'type': 'PassSequence.InProfile', 't': 0, 'cr...</td>\n      <td>{'type': 'PassSequence.OutProfile', 't': 63.76...</td>\n      <td>8.299278e+06</td>\n      <td>3.656182</td>\n      <td>100</td>\n      <td>63.767013</td>\n      <td>38.713257</td>\n      <td>0.001</td>\n      <td>[{'type': 'RollPass', 'label': 'R1', 'in_profi...</td>\n    </tr>\n    <tr>\n      <th>7</th>\n      <td>0.050152</td>\n      <td>1422.000784</td>\n      <td>PassSequence</td>\n      <td></td>\n      <td>{'type': 'PassSequence.InProfile', 't': 0, 'cr...</td>\n      <td>{'type': 'PassSequence.OutProfile', 't': 63.76...</td>\n      <td>8.395029e+06</td>\n      <td>3.654246</td>\n      <td>100</td>\n      <td>63.766853</td>\n      <td>38.638371</td>\n      <td>0.001</td>\n      <td>[{'type': 'RollPass', 'label': 'R1', 'in_profi...</td>\n    </tr>\n    <tr>\n      <th>8</th>\n      <td>0.048080</td>\n      <td>1422.537161</td>\n      <td>PassSequence</td>\n      <td></td>\n      <td>{'type': 'PassSequence.InProfile', 't': 0, 'cr...</td>\n      <td>{'type': 'PassSequence.OutProfile', 't': 63.75...</td>\n      <td>8.258330e+06</td>\n      <td>3.569881</td>\n      <td>100</td>\n      <td>63.759813</td>\n      <td>35.512362</td>\n      <td>0.001</td>\n      <td>[{'type': 'RollPass', 'label': 'R1', 'in_profi...</td>\n    </tr>\n    <tr>\n      <th>9</th>\n      <td>0.049793</td>\n      <td>1416.863055</td>\n      <td>PassSequence</td>\n      <td></td>\n      <td>{'type': 'PassSequence.InProfile', 't': 0, 'cr...</td>\n      <td>{'type': 'PassSequence.OutProfile', 't': 63.76...</td>\n      <td>8.416118e+06</td>\n      <td>3.639880</td>\n      <td>100</td>\n      <td>63.765660</td>\n      <td>38.087247</td>\n      <td>0.001</td>\n      <td>[{'type': 'RollPass', 'label': 'R1', 'in_profi...</td>\n    </tr>\n  </tbody>\n</table>\n</div>"
     },
     "execution_count": 15,
     "metadata": {},
     "output_type": "execute_result"
    }
   ],
   "source": [
    "df = results |> enumerate |> dict |> pd.DataFrame |> .T |> .infer_objects()\n",
    "df"
   ]
  },
  {
   "cell_type": "markdown",
   "source": [
    "Save dataframe to CSV file."
   ],
   "metadata": {
    "collapsed": false
   },
   "id": "9fffbac9a93934f4"
  },
  {
   "cell_type": "code",
   "execution_count": 9,
   "id": "64ee2b8f-17b5-465d-bc0e-7c1732d92d6e",
   "metadata": {
    "tags": []
   },
   "outputs": [],
   "source": [
    "df.to_csv(DATA_DIR / OUTPUT_FILENAME)"
   ]
  }
 ],
 "metadata": {
  "kernelspec": {
   "display_name": "Coconut",
   "language": "coconut",
   "name": "coconut"
  },
  "language_info": {
   "codemirror_mode": {
    "name": "ipython",
    "version": 3
   },
   "file_extension": ".coco",
   "mimetype": "text/x-python3",
   "name": "coconut",
   "pygments_lexer": "coconut",
   "version": "3.1.0"
  }
 },
 "nbformat": 4,
 "nbformat_minor": 5
}

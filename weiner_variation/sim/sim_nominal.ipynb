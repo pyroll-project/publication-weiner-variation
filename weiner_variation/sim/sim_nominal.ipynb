{
 "cells": [
  {
   "cell_type": "code",
   "execution_count": 1,
   "id": "4a879181-0e4e-44ee-982c-89f466862252",
   "metadata": {
    "ExecuteTime": {
     "end_time": "2023-07-24T07:43:38.645519614Z",
     "start_time": "2023-07-24T07:43:38.016901013Z"
    },
    "tags": []
   },
   "outputs": [],
   "source": [
    "from weiner_variation.sim.data_structures import DrawInput\n",
    "from weiner_variation.sim.process import PASS_SEQUENCE, DIAMETER, TEMPERATURE, DIAMETER_STD, TEMPERATURE_STD, IN_PROFILE\n",
    "from weiner_variation.sim.config import SAMPLE_COUNT, FIELDS, SEED\n",
    "from weiner_variation.config import DATA_DIR\n",
    "\n",
    "import pandas as pd\n",
    "import numpy as np\n",
    "from scipy.stats import norm\n",
    "from copy import deepcopy\n",
    "import tqdm\n",
    "from multiprocessing import Pool\n",
    "import os"
   ]
  },
  {
   "cell_type": "code",
   "execution_count": 2,
   "id": "43cfe2a1-c55f-47c6-9cde-ac654d522a8d",
   "metadata": {
    "ExecuteTime": {
     "end_time": "2023-07-24T07:43:38.904185928Z",
     "start_time": "2023-07-24T07:43:38.657109702Z"
    }
   },
   "outputs": [],
   "source": [
    "import pyroll.basic as pr\n",
    "import pyroll.jmak"
   ]
  },
  {
   "cell_type": "code",
   "execution_count": 3,
   "id": "832905b0-871a-46a3-828f-091148c4ca2e",
   "metadata": {
    "ExecuteTime": {
     "end_time": "2023-07-24T07:43:39.088027365Z",
     "start_time": "2023-07-24T07:43:38.971641955Z"
    },
    "tags": [
     "parameters"
    ]
   },
   "outputs": [],
   "source": [
    "OUTPUT_FILENAME = \"sim_nominal_results.csv\"\n",
    "REPORT_FILENAME = \"nominal_report.html\""
   ]
  },
  {
   "cell_type": "code",
   "execution_count": 4,
   "id": "36aa07ba-a6a5-4f4e-bf4f-87a6f4ecc6b6",
   "metadata": {
    "ExecuteTime": {
     "end_time": "2023-07-24T07:44:19.579635124Z",
     "start_time": "2023-07-24T07:44:18.392026916Z"
    },
    "tags": []
   },
   "outputs": [
    {
     "name": "stderr",
     "output_type": "stream",
     "text": [
      "/home/maxwe/Git/publication-weiner-variation/.venv_sim/lib/python3.11/site-packages/pyroll/jmak/jmak.py:364: RuntimeWarning: invalid value encountered in scalar power\n",
      "  (d_rx ** self.in_profile.jmak_parameters.s\n"
     ]
    },
    {
     "ename": "RuntimeError",
     "evalue": "Solution of sub units failed at unit Transport 'R1-R2'.",
     "output_type": "error",
     "traceback": [
      "\u001B[0;31m---------------------------------------------------------------------------\u001B[0m",
      "\u001B[0;31mValueError\u001B[0m                                Traceback (most recent call last)",
      "File \u001B[0;32m~/Git/publication-weiner-variation/.venv_sim/lib/python3.11/site-packages/pyroll/core/unit/unit.py:112\u001B[0m, in \u001B[0;36mUnit._solve_subunits\u001B[0;34m(self)\u001B[0m\n\u001B[1;32m    111\u001B[0m \u001B[38;5;28;01mtry\u001B[39;00m:\n\u001B[0;32m--> 112\u001B[0m     last_profile \u001B[38;5;241m=\u001B[39m \u001B[43mu\u001B[49m\u001B[38;5;241;43m.\u001B[39;49m\u001B[43msolve\u001B[49m\u001B[43m(\u001B[49m\u001B[43mlast_profile\u001B[49m\u001B[43m)\u001B[49m\n\u001B[1;32m    113\u001B[0m \u001B[38;5;28;01mexcept\u001B[39;00m \u001B[38;5;167;01mException\u001B[39;00m \u001B[38;5;28;01mas\u001B[39;00m e:\n",
      "File \u001B[0;32m~/Git/publication-weiner-variation/.venv_sim/lib/python3.11/site-packages/pyroll/core/unit/unit.py:140\u001B[0m, in \u001B[0;36mUnit.solve\u001B[0;34m(self, in_profile)\u001B[0m\n\u001B[1;32m    139\u001B[0m \u001B[38;5;28mself\u001B[39m\u001B[38;5;241m.\u001B[39mout_profile\u001B[38;5;241m.\u001B[39mreevaluate_cache()\n\u001B[0;32m--> 140\u001B[0m current_results \u001B[38;5;241m=\u001B[39m \u001B[38;5;28;43mself\u001B[39;49m\u001B[38;5;241;43m.\u001B[39;49m\u001B[43mget_root_hook_results\u001B[49m\u001B[43m(\u001B[49m\u001B[43m)\u001B[49m\n\u001B[1;32m    142\u001B[0m \u001B[38;5;28;01mif\u001B[39;00m np\u001B[38;5;241m.\u001B[39mall(\n\u001B[1;32m    143\u001B[0m         np\u001B[38;5;241m.\u001B[39mabs(current_results \u001B[38;5;241m-\u001B[39m \u001B[38;5;28mself\u001B[39m\u001B[38;5;241m.\u001B[39m_old_results)\n\u001B[1;32m    144\u001B[0m         \u001B[38;5;241m<\u001B[39m\u001B[38;5;241m=\u001B[39m np\u001B[38;5;241m.\u001B[39mabs(\u001B[38;5;28mself\u001B[39m\u001B[38;5;241m.\u001B[39m_old_results) \u001B[38;5;241m*\u001B[39m \u001B[38;5;28mself\u001B[39m\u001B[38;5;241m.\u001B[39miteration_precision\n\u001B[1;32m    145\u001B[0m ):\n",
      "File \u001B[0;32m~/Git/publication-weiner-variation/.venv_sim/lib/python3.11/site-packages/pyroll/core/unit/unit.py:101\u001B[0m, in \u001B[0;36mUnit.get_root_hook_results\u001B[0;34m(self)\u001B[0m\n\u001B[1;32m    100\u001B[0m in_profile_results \u001B[38;5;241m=\u001B[39m \u001B[38;5;28mself\u001B[39m\u001B[38;5;241m.\u001B[39min_profile\u001B[38;5;241m.\u001B[39mevaluate_and_set_hooks()\n\u001B[0;32m--> 101\u001B[0m out_profile_results \u001B[38;5;241m=\u001B[39m \u001B[38;5;28;43mself\u001B[39;49m\u001B[38;5;241;43m.\u001B[39;49m\u001B[43mout_profile\u001B[49m\u001B[38;5;241;43m.\u001B[39;49m\u001B[43mevaluate_and_set_hooks\u001B[49m\u001B[43m(\u001B[49m\u001B[43m)\u001B[49m\n\u001B[1;32m    102\u001B[0m self_results \u001B[38;5;241m=\u001B[39m \u001B[38;5;28mself\u001B[39m\u001B[38;5;241m.\u001B[39mevaluate_and_set_hooks()\n",
      "File \u001B[0;32m~/Git/publication-weiner-variation/.venv_sim/lib/python3.11/site-packages/pyroll/core/hooks.py:402\u001B[0m, in \u001B[0;36mHookHost.evaluate_and_set_hooks\u001B[0;34m(self)\u001B[0m\n\u001B[1;32m    400\u001B[0m                 \u001B[38;5;28;01mcontinue\u001B[39;00m\n\u001B[0;32m--> 402\u001B[0m \u001B[38;5;28;01mreturn\u001B[39;00m \u001B[38;5;28mlist\u001B[39m(_gen())\n",
      "File \u001B[0;32m~/Git/publication-weiner-variation/.venv_sim/lib/python3.11/site-packages/pyroll/core/hooks.py:386\u001B[0m, in \u001B[0;36mHookHost.evaluate_and_set_hooks.<locals>._gen\u001B[0;34m()\u001B[0m\n\u001B[1;32m    385\u001B[0m h \u001B[38;5;241m=\u001B[39m \u001B[38;5;28mgetattr\u001B[39m(\u001B[38;5;28;01mtype\u001B[39;00m(\u001B[38;5;28mself\u001B[39m), h\u001B[38;5;241m.\u001B[39mname)\n\u001B[0;32m--> 386\u001B[0m result \u001B[38;5;241m=\u001B[39m \u001B[43mh\u001B[49m\u001B[38;5;241;43m.\u001B[39;49m\u001B[43mget_result\u001B[49m\u001B[43m(\u001B[49m\u001B[38;5;28;43mself\u001B[39;49m\u001B[43m)\u001B[49m\n\u001B[1;32m    388\u001B[0m \u001B[38;5;28;01mif\u001B[39;00m result \u001B[38;5;129;01mis\u001B[39;00m \u001B[38;5;28;01mNone\u001B[39;00m:\n",
      "File \u001B[0;32m~/Git/publication-weiner-variation/.venv_sim/lib/python3.11/site-packages/pyroll/core/hooks.py:232\u001B[0m, in \u001B[0;36mHook.get_result\u001B[0;34m(self, instance)\u001B[0m\n\u001B[1;32m    231\u001B[0m \u001B[38;5;28;01mfor\u001B[39;00m f \u001B[38;5;129;01min\u001B[39;00m \u001B[38;5;28mself\u001B[39m\u001B[38;5;241m.\u001B[39mfunctions_gen:\n\u001B[0;32m--> 232\u001B[0m     result \u001B[38;5;241m=\u001B[39m \u001B[43mf\u001B[49m\u001B[43m(\u001B[49m\u001B[43minstance\u001B[49m\u001B[43m)\u001B[49m\n\u001B[1;32m    233\u001B[0m     \u001B[38;5;28;01mif\u001B[39;00m result \u001B[38;5;129;01mis\u001B[39;00m \u001B[38;5;129;01mnot\u001B[39;00m \u001B[38;5;28;01mNone\u001B[39;00m:\n",
      "File \u001B[0;32m~/Git/publication-weiner-variation/.venv_sim/lib/python3.11/site-packages/pyroll/core/hooks.py:68\u001B[0m, in \u001B[0;36mHookFunction.__call__\u001B[0;34m(self, instance)\u001B[0m\n\u001B[1;32m     67\u001B[0m \u001B[38;5;28;01mtry\u001B[39;00m:\n\u001B[0;32m---> 68\u001B[0m     result \u001B[38;5;241m=\u001B[39m \u001B[38;5;28;43mself\u001B[39;49m\u001B[38;5;241;43m.\u001B[39;49m\u001B[43mfunction\u001B[49m\u001B[43m(\u001B[49m\u001B[43minstance\u001B[49m\u001B[43m,\u001B[49m\u001B[43m \u001B[49m\u001B[38;5;241;43m*\u001B[39;49m\u001B[38;5;241;43m*\u001B[39;49m\u001B[43mextra_args\u001B[49m\u001B[43m)\u001B[49m\n\u001B[1;32m     69\u001B[0m \u001B[38;5;28;01mfinally\u001B[39;00m:\n",
      "File \u001B[0;32m~/Git/publication-weiner-variation/.venv_sim/lib/python3.11/site-packages/pyroll/jmak/jmak.py:190\u001B[0m, in \u001B[0;36mtransport_out_grain_size\u001B[0;34m(self)\u001B[0m\n\u001B[1;32m    189\u001B[0m     \u001B[38;5;28mself\u001B[39m\u001B[38;5;241m.\u001B[39mlogger\u001B[38;5;241m.\u001B[39minfo(\u001B[38;5;124m\"\u001B[39m\u001B[38;5;124mCalculation of mean grain size according to equations for metadynamic recrystallization\u001B[39m\u001B[38;5;124m\"\u001B[39m)\n\u001B[0;32m--> 190\u001B[0m     \u001B[38;5;28;01mreturn\u001B[39;00m transport_out_grain_size_metadynamic_without_growth(\u001B[38;5;28mself\u001B[39m\u001B[38;5;241m.\u001B[39mtransport) \u001B[38;5;241m+\u001B[39m \u001B[38;5;28;43mself\u001B[39;49m\u001B[38;5;241;43m.\u001B[39;49m\u001B[43mtransport\u001B[49m\u001B[38;5;241;43m.\u001B[39;49m\u001B[43mgrain_growth\u001B[49m\n\u001B[1;32m    191\u001B[0m \u001B[38;5;28;01melse\u001B[39;00m:\n",
      "File \u001B[0;32m~/Git/publication-weiner-variation/.venv_sim/lib/python3.11/site-packages/pyroll/core/hooks.py:184\u001B[0m, in \u001B[0;36mHook.__get__\u001B[0;34m(self, instance, owner)\u001B[0m\n\u001B[1;32m    183\u001B[0m     \u001B[38;5;28;01mif\u001B[39;00m \u001B[38;5;129;01mnot\u001B[39;00m np\u001B[38;5;241m.\u001B[39misfinite(result)\u001B[38;5;241m.\u001B[39mall():\n\u001B[0;32m--> 184\u001B[0m         \u001B[38;5;28;01mraise\u001B[39;00m \u001B[38;5;167;01mValueError\u001B[39;00m(\u001B[38;5;124mf\u001B[39m\u001B[38;5;124m\"\u001B[39m\u001B[38;5;124mHook call for \u001B[39m\u001B[38;5;124m'\u001B[39m\u001B[38;5;132;01m{\u001B[39;00m\u001B[38;5;28mself\u001B[39m\u001B[38;5;241m.\u001B[39mname\u001B[38;5;132;01m}\u001B[39;00m\u001B[38;5;124m'\u001B[39m\u001B[38;5;124m on \u001B[39m\u001B[38;5;124m'\u001B[39m\u001B[38;5;132;01m{\u001B[39;00minstance\u001B[38;5;132;01m}\u001B[39;00m\u001B[38;5;124m'\u001B[39m\u001B[38;5;124m resulted in an infinite value.\u001B[39m\u001B[38;5;124m\"\u001B[39m)\n\u001B[1;32m    185\u001B[0m \u001B[38;5;28;01mexcept\u001B[39;00m \u001B[38;5;167;01mTypeError\u001B[39;00m:\n",
      "\u001B[0;31mValueError\u001B[0m: Hook call for 'grain_growth' on 'Transport 'R1-R2'' resulted in an infinite value.",
      "\nThe above exception was the direct cause of the following exception:\n",
      "\u001B[0;31mRuntimeError\u001B[0m                              Traceback (most recent call last)",
      "Cell \u001B[0;32mIn[4], line 2\u001B[0m\n\u001B[1;32m      1\u001B[0m sequence \u001B[38;5;241m=\u001B[39m deepcopy(PASS_SEQUENCE)  \u001B[38;5;66;03m#1: sequence = deepcopy(PASS_SEQUENCE)\u001B[39;00m\n\u001B[0;32m----> 2\u001B[0m \u001B[43msequence\u001B[49m\u001B[38;5;241;43m.\u001B[39;49m\u001B[43msolve\u001B[49m\u001B[43m(\u001B[49m\u001B[43mIN_PROFILE\u001B[49m\u001B[43m)\u001B[49m  \u001B[38;5;66;03m#2: sequence.solve(IN_PROFILE)       \u001B[39;00m\n\u001B[1;32m      4\u001B[0m result \u001B[38;5;241m=\u001B[39m {(\u001B[38;5;124m\"\u001B[39m\u001B[38;5;124mdraw\u001B[39m\u001B[38;5;124m\"\u001B[39m, \u001B[38;5;124m\"\u001B[39m\u001B[38;5;124mdiameter\u001B[39m\u001B[38;5;124m\"\u001B[39m): DIAMETER, (\u001B[38;5;124m\"\u001B[39m\u001B[38;5;124mdraw\u001B[39m\u001B[38;5;124m\"\u001B[39m, \u001B[38;5;124m\"\u001B[39m\u001B[38;5;124mtemperature\u001B[39m\u001B[38;5;124m\"\u001B[39m): TEMPERATURE} \u001B[38;5;241m|\u001B[39m ((\u001B[38;5;28mdict\u001B[39m)((\u001B[38;5;28mflatten\u001B[39m)((\u001B[38;5;28mstarmap\u001B[39m)(\u001B[38;5;28;01mlambda\u001B[39;00m key, extractor: ((\u001B[38;5;28mfilter\u001B[39m)(\u001B[38;5;28;01mlambda\u001B[39;00m t: t[\u001B[38;5;241m1\u001B[39m] \u001B[38;5;129;01mis\u001B[39;00m \u001B[38;5;129;01mnot\u001B[39;00m \u001B[38;5;28;01mNone\u001B[39;00m, (\u001B[38;5;28mmap\u001B[39m)(\u001B[38;5;28;01mlambda\u001B[39;00m u: ((key, u\u001B[38;5;241m.\u001B[39mlabel), extractor(u)), (\u001B[38;5;28mfilter\u001B[39m)(\u001B[38;5;28;01mlambda\u001B[39;00m u: \u001B[38;5;28misinstance\u001B[39m(u, pr\u001B[38;5;241m.\u001B[39mRollPass), sequence\u001B[38;5;241m.\u001B[39munits)))), FIELDS\u001B[38;5;241m.\u001B[39mitems()))))  \u001B[38;5;66;03m#4: result = { (\"draw\", \"diameter\"): DIAMETER, (\"draw\", \"temperature\"): TEMPERATURE } | (\u001B[39;00m\n",
      "File \u001B[0;32m~/Git/publication-weiner-variation/.venv_sim/lib/python3.11/site-packages/pyroll/core/unit/unit.py:137\u001B[0m, in \u001B[0;36mUnit.solve\u001B[0;34m(self, in_profile)\u001B[0m\n\u001B[1;32m    135\u001B[0m \u001B[38;5;28;01mfor\u001B[39;00m i \u001B[38;5;129;01min\u001B[39;00m \u001B[38;5;28mrange\u001B[39m(\u001B[38;5;241m1\u001B[39m, \u001B[38;5;28mself\u001B[39m\u001B[38;5;241m.\u001B[39mmax_iteration_count):\n\u001B[1;32m    136\u001B[0m     \u001B[38;5;28mself\u001B[39m\u001B[38;5;241m.\u001B[39min_profile\u001B[38;5;241m.\u001B[39mreevaluate_cache()\n\u001B[0;32m--> 137\u001B[0m     \u001B[38;5;28;43mself\u001B[39;49m\u001B[38;5;241;43m.\u001B[39;49m\u001B[43m_solve_subunits\u001B[49m\u001B[43m(\u001B[49m\u001B[43m)\u001B[49m\n\u001B[1;32m    138\u001B[0m     \u001B[38;5;28mself\u001B[39m\u001B[38;5;241m.\u001B[39mreevaluate_cache()\n\u001B[1;32m    139\u001B[0m     \u001B[38;5;28mself\u001B[39m\u001B[38;5;241m.\u001B[39mout_profile\u001B[38;5;241m.\u001B[39mreevaluate_cache()\n",
      "File \u001B[0;32m~/Git/publication-weiner-variation/.venv_sim/lib/python3.11/site-packages/pyroll/core/unit/unit.py:114\u001B[0m, in \u001B[0;36mUnit._solve_subunits\u001B[0;34m(self)\u001B[0m\n\u001B[1;32m    112\u001B[0m         last_profile \u001B[38;5;241m=\u001B[39m u\u001B[38;5;241m.\u001B[39msolve(last_profile)\n\u001B[1;32m    113\u001B[0m     \u001B[38;5;28;01mexcept\u001B[39;00m \u001B[38;5;167;01mException\u001B[39;00m \u001B[38;5;28;01mas\u001B[39;00m e:\n\u001B[0;32m--> 114\u001B[0m         \u001B[38;5;28;01mraise\u001B[39;00m \u001B[38;5;167;01mRuntimeError\u001B[39;00m(\u001B[38;5;124mf\u001B[39m\u001B[38;5;124m\"\u001B[39m\u001B[38;5;124mSolution of sub units failed at unit \u001B[39m\u001B[38;5;132;01m{\u001B[39;00mu\u001B[38;5;132;01m}\u001B[39;00m\u001B[38;5;124m.\u001B[39m\u001B[38;5;124m\"\u001B[39m) \u001B[38;5;28;01mfrom\u001B[39;00m \u001B[38;5;21;01me\u001B[39;00m\n\u001B[1;32m    116\u001B[0m \u001B[38;5;28mself\u001B[39m\u001B[38;5;241m.\u001B[39mout_profile\u001B[38;5;241m.\u001B[39m\u001B[38;5;18m__dict__\u001B[39m\u001B[38;5;241m.\u001B[39mupdate(\n\u001B[1;32m    117\u001B[0m     {k: v \u001B[38;5;28;01mfor\u001B[39;00m k, v \u001B[38;5;129;01min\u001B[39;00m last_profile\u001B[38;5;241m.\u001B[39m\u001B[38;5;18m__dict__\u001B[39m\u001B[38;5;241m.\u001B[39mitems() \u001B[38;5;28;01mif\u001B[39;00m \u001B[38;5;129;01mnot\u001B[39;00m k\u001B[38;5;241m.\u001B[39mstartswith(\u001B[38;5;124m\"\u001B[39m\u001B[38;5;124m_\u001B[39m\u001B[38;5;124m\"\u001B[39m)}\n\u001B[1;32m    118\u001B[0m )\n\u001B[1;32m    119\u001B[0m \u001B[38;5;28mself\u001B[39m\u001B[38;5;241m.\u001B[39mout_profile\u001B[38;5;241m.\u001B[39m__cache__\u001B[38;5;241m.\u001B[39mupdate(\n\u001B[1;32m    120\u001B[0m     {k: v \u001B[38;5;28;01mfor\u001B[39;00m k, v \u001B[38;5;129;01min\u001B[39;00m last_profile\u001B[38;5;241m.\u001B[39m__cache__\u001B[38;5;241m.\u001B[39mitems() \u001B[38;5;28;01mif\u001B[39;00m \u001B[38;5;129;01mnot\u001B[39;00m k\u001B[38;5;241m.\u001B[39mstartswith(\u001B[38;5;124m\"\u001B[39m\u001B[38;5;124m_\u001B[39m\u001B[38;5;124m\"\u001B[39m)}\n\u001B[1;32m    121\u001B[0m )\n",
      "\u001B[0;31mRuntimeError\u001B[0m: Solution of sub units failed at unit Transport 'R1-R2'."
     ]
    }
   ],
   "source": [
    "sequence = deepcopy(PASS_SEQUENCE)\n",
    "sequence.solve(IN_PROFILE)       \n",
    "\n",
    "result = { (\"draw\", \"diameter\"): DIAMETER, (\"draw\", \"temperature\"): TEMPERATURE } | (\n",
    "    FIELDS.items()\n",
    "    |> starmap$((key, extractor) -> (\n",
    "            sequence.units \n",
    "            |> filter$(u -> isinstance(u, pr.RollPass)) \n",
    "            |> map$(u -> ((key, u.label), extractor(u))) \n",
    "            |> filter$(t -> t[1] is not None)\n",
    "        )\n",
    "    )\n",
    "    |> flatten\n",
    "    |> dict            \n",
    ")"
   ]
  },
  {
   "cell_type": "code",
   "execution_count": null,
   "id": "e1380b25-c487-432d-94dd-4ca9107d33d5",
   "metadata": {
    "ExecuteTime": {
     "start_time": "2023-07-24T07:39:59.008684997Z"
    },
    "tags": []
   },
   "outputs": [],
   "source": [
    "df = result |> pd.Series |> .T |> .infer_objects()\n",
    "df"
   ]
  },
  {
   "cell_type": "code",
   "execution_count": null,
   "id": "64ee2b8f-17b5-465d-bc0e-7c1732d92d6e",
   "metadata": {
    "ExecuteTime": {
     "start_time": "2023-07-24T07:39:59.010590404Z"
    },
    "tags": []
   },
   "outputs": [],
   "source": [
    "df.to_csv(DATA_DIR / OUTPUT_FILENAME)"
   ]
  },
  {
   "cell_type": "code",
   "execution_count": null,
   "id": "7c053f54-51c4-451a-b927-6ef26db94fa0",
   "metadata": {
    "ExecuteTime": {
     "start_time": "2023-07-24T07:39:59.011139900Z"
    },
    "jupyter": {
     "source_hidden": true
    },
    "tags": []
   },
   "outputs": [],
   "source": [
    "from pyroll.report import report\n",
    "f = DATA_DIR / REPORT_FILENAME\n",
    "f.write_text(report(sequence))"
   ]
  }
 ],
 "metadata": {
  "kernelspec": {
   "display_name": "Coconut",
   "language": "coconut",
   "name": "coconut"
  },
  "language_info": {
   "codemirror_mode": {
    "name": "python",
    "version": 3
   },
   "file_extension": ".coco",
   "mimetype": "text/x-python3",
   "name": "coconut",
   "pygments_lexer": "coconut",
   "version": "3.0.2"
  }
 },
 "nbformat": 4,
 "nbformat_minor": 5
}

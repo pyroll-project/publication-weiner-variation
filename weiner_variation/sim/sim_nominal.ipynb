{
 "cells": [
  {
   "cell_type": "code",
   "execution_count": 1,
   "id": "4a879181-0e4e-44ee-982c-89f466862252",
   "metadata": {
    "tags": []
   },
   "outputs": [
    {
     "name": "stderr",
     "output_type": "stream",
     "text": [
      "/home/maxwe/Git/publication-weiner-variation/.venv_sim/lib/python3.10/site-packages/pyroll/core/grooves/generic_elongation_solvers.py:79: RuntimeWarning: divide by zero encountered in scalar divide\n",
      "  _r2 = (depth - l23(_alpha) * np.sin(_alpha) - fh(_alpha)) / (1 - np.cos(_alpha))\n",
      "/home/maxwe/Git/publication-weiner-variation/.venv_sim/lib/python3.10/site-packages/pyroll/core/grooves/generic_elongation_solvers.py:83: RuntimeWarning: invalid value encountered in scalar multiply\n",
      "  width / 2 - _r2 * np.sin(_alpha) - l23(_alpha) * np.cos(_alpha)\n",
      "/home/maxwe/Git/publication-weiner-variation/.venv_sim/lib/python3.10/site-packages/pyroll/core/grooves/generic_elongation_solvers.py:84: RuntimeWarning: invalid value encountered in scalar multiply\n",
      "  - fw(_alpha) - (_r2 + r4) * np.sin(_alpha4)\n",
      "/home/maxwe/Git/publication-weiner-variation/.venv_sim/lib/python3.10/site-packages/pyroll/core/grooves/generic_elongation_solvers.py:79: RuntimeWarning: divide by zero encountered in scalar divide\n",
      "  _r2 = (depth - l23(_alpha) * np.sin(_alpha) - fh(_alpha)) / (1 - np.cos(_alpha))\n",
      "/home/maxwe/Git/publication-weiner-variation/.venv_sim/lib/python3.10/site-packages/pyroll/core/grooves/generic_elongation_solvers.py:83: RuntimeWarning: invalid value encountered in scalar multiply\n",
      "  width / 2 - _r2 * np.sin(_alpha) - l23(_alpha) * np.cos(_alpha)\n",
      "/home/maxwe/Git/publication-weiner-variation/.venv_sim/lib/python3.10/site-packages/pyroll/core/grooves/generic_elongation_solvers.py:84: RuntimeWarning: invalid value encountered in scalar multiply\n",
      "  - fw(_alpha) - (_r2 + r4) * np.sin(_alpha4)\n"
     ]
    }
   ],
   "source": [
    "from weiner_variation.sim.data_structures import DrawInput\n",
    "from weiner_variation.sim.process import PASS_SEQUENCE, DIAMETER, TEMPERATURE, DIAMETER_STD, TEMPERATURE_STD, IN_PROFILE\n",
    "from weiner_variation.sim.config import SAMPLE_COUNT, FIELDS, SEED\n",
    "from weiner_variation.config import DATA_DIR\n",
    "\n",
    "import pandas as pd\n",
    "import numpy as np\n",
    "from scipy.stats import norm\n",
    "from copy import deepcopy\n",
    "import tqdm\n",
    "from multiprocessing import Pool\n",
    "import os"
   ]
  },
  {
   "cell_type": "code",
   "execution_count": 2,
   "id": "43cfe2a1-c55f-47c6-9cde-ac654d522a8d",
   "metadata": {},
   "outputs": [],
   "source": [
    "import pyroll.basic as pr"
   ]
  },
  {
   "cell_type": "code",
   "execution_count": 3,
   "id": "832905b0-871a-46a3-828f-091148c4ca2e",
   "metadata": {
    "tags": [
     "parameters"
    ]
   },
   "outputs": [],
   "source": [
    "OUTPUT_FILENAME = \"sim_nominal_results.csv\""
   ]
  },
  {
   "cell_type": "code",
   "execution_count": 4,
   "id": "36aa07ba-a6a5-4f4e-bf4f-87a6f4ecc6b6",
   "metadata": {
    "tags": []
   },
   "outputs": [],
   "source": [
    "sequence = deepcopy(PASS_SEQUENCE)\n",
    "sequence.solve(IN_PROFILE)       \n",
    "\n",
    "result = { (\"draw\", \"diameter\"): DIAMETER, (\"draw\", \"temperature\"): TEMPERATURE } | (\n",
    "    FIELDS.items()\n",
    "    |> starmap$((key, extractor) -> (\n",
    "            sequence.units \n",
    "            |> filter$(u -> isinstance(u, pr.RollPass)) \n",
    "            |> map$(u -> ((key, u.label), extractor(u))) \n",
    "            |> filter$(t -> t[1] is not None)\n",
    "        )\n",
    "    )\n",
    "    |> flatten\n",
    "    |> dict            \n",
    ")"
   ]
  },
  {
   "cell_type": "code",
   "execution_count": 30,
   "id": "e1380b25-c487-432d-94dd-4ca9107d33d5",
   "metadata": {
    "tags": []
   },
   "outputs": [
    {
     "data": {
      "text/plain": [
       "draw        diameter            0.050000\n",
       "            temperature      1423.150000\n",
       "roll_force  R1             391317.673127\n",
       "            R2             227464.097445\n",
       "            R3             423776.866442\n",
       "                               ...      \n",
       "strain      R10                 0.459861\n",
       "            F1                  0.342711\n",
       "            F2                  0.346667\n",
       "            F3                  0.447922\n",
       "            F4                  0.416546\n",
       "Length: 100, dtype: float64"
      ]
     },
     "execution_count": 30,
     "metadata": {},
     "output_type": "execute_result"
    }
   ],
   "source": [
    "df = result |> pd.Series |> .T |> .infer_objects()\n",
    "df"
   ]
  },
  {
   "cell_type": "code",
   "execution_count": 32,
   "id": "64ee2b8f-17b5-465d-bc0e-7c1732d92d6e",
   "metadata": {
    "tags": []
   },
   "outputs": [],
   "source": [
    "df.to_csv(DATA_DIR / OUTPUT_FILENAME)"
   ]
  },
  {
   "cell_type": "code",
   "execution_count": null,
   "id": "7c053f54-51c4-451a-b927-6ef26db94fa0",
   "metadata": {
    "jupyter": {
     "source_hidden": true
    },
    "tags": []
   },
   "outputs": [],
   "source": []
  }
 ],
 "metadata": {
  "kernelspec": {
   "display_name": "Coconut",
   "language": "coconut",
   "name": "coconut"
  },
  "language_info": {
   "codemirror_mode": {
    "name": "python",
    "version": 3
   },
   "file_extension": ".coco",
   "mimetype": "text/x-python3",
   "name": "coconut",
   "pygments_lexer": "coconut",
   "version": "2.2.0"
  }
 },
 "nbformat": 4,
 "nbformat_minor": 5
}

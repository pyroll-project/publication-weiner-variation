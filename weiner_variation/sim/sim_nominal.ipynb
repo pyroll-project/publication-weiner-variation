{
 "cells": [
  {
   "cell_type": "code",
   "execution_count": 3,
   "id": "4d58ab77-0c29-4100-a05b-864419ea884e",
   "metadata": {},
   "outputs": [
    {
     "data": {
      "text/plain": [
       "'/home/maxwe/Git/pyroll/publication-weiner-variation/weiner_variation/sim'"
      ]
     },
     "execution_count": 3,
     "metadata": {},
     "output_type": "execute_result"
    }
   ],
   "source": []
  },
  {
   "cell_type": "code",
   "execution_count": 1,
   "id": "4a879181-0e4e-44ee-982c-89f466862252",
   "metadata": {
    "ExecuteTime": {
     "end_time": "2024-02-20T14:29:57.277590449Z",
     "start_time": "2024-02-20T14:29:56.588135977Z"
    },
    "tags": []
   },
   "outputs": [
    {
     "ename": "ModuleNotFoundError",
     "evalue": "No module named 'weiner_variation'",
     "output_type": "error",
     "traceback": [
      "\u001b[0;31m---------------------------------------------------------------------------\u001b[0m",
      "\u001b[0;31mModuleNotFoundError\u001b[0m                       Traceback (most recent call last)",
      "Cell \u001b[0;32mIn[1], line 1\u001b[0m\n\u001b[0;32m----> 1\u001b[0m \u001b[38;5;28;01mfrom\u001b[39;00m \u001b[38;5;21;01mweiner_variation\u001b[39;00m\u001b[38;5;21;01m.\u001b[39;00m\u001b[38;5;21;01msim\u001b[39;00m\u001b[38;5;21;01m.\u001b[39;00m\u001b[38;5;21;01mdata_structures\u001b[39;00m \u001b[38;5;28;01mimport\u001b[39;00m DrawInput  \u001b[38;5;66;03m#1: from weiner_variation.sim.data_structures import DrawInput\u001b[39;00m\n\u001b[1;32m      2\u001b[0m \u001b[38;5;28;01mfrom\u001b[39;00m \u001b[38;5;21;01mweiner_variation\u001b[39;00m\u001b[38;5;21;01m.\u001b[39;00m\u001b[38;5;21;01msim\u001b[39;00m\u001b[38;5;21;01m.\u001b[39;00m\u001b[38;5;21;01mprocess\u001b[39;00m \u001b[38;5;28;01mimport\u001b[39;00m PASS_SEQUENCE  \u001b[38;5;66;03m#2: from weiner_variation.sim.process import PASS_SEQUENCE, DIAMETER, TEMPERATURE, DIAMETER_STD, TEMPERATURE_STD, IN_PROFILE\u001b[39;00m\n\u001b[1;32m      3\u001b[0m \u001b[38;5;28;01mfrom\u001b[39;00m \u001b[38;5;21;01mweiner_variation\u001b[39;00m\u001b[38;5;21;01m.\u001b[39;00m\u001b[38;5;21;01msim\u001b[39;00m\u001b[38;5;21;01m.\u001b[39;00m\u001b[38;5;21;01mprocess\u001b[39;00m \u001b[38;5;28;01mimport\u001b[39;00m DIAMETER  \u001b[38;5;66;03m#2: from weiner_variation.sim.process import PASS_SEQUENCE, DIAMETER, TEMPERATURE, DIAMETER_STD, TEMPERATURE_STD, IN_PROFILE\u001b[39;00m\n",
      "\u001b[0;31mModuleNotFoundError\u001b[0m: No module named 'weiner_variation'"
     ]
    }
   ],
   "source": [
    "from weiner_variation.sim.data_structures import DrawInput\n",
    "from weiner_variation.sim.process import PASS_SEQUENCE, DIAMETER, TEMPERATURE, DIAMETER_STD, TEMPERATURE_STD, IN_PROFILE\n",
    "from weiner_variation.sim.config import SAMPLE_COUNT, FIELDS, SEED\n",
    "from weiner_variation.config import DATA_DIR\n",
    "\n",
    "import pandas as pd\n",
    "import numpy as np\n",
    "from scipy.stats import norm\n",
    "\n",
    "from copy import deepcopy\n",
    "import tqdm\n",
    "from multiprocessing import Pool\n",
    "import os"
   ]
  },
  {
   "cell_type": "code",
   "execution_count": 4,
   "id": "43cfe2a1-c55f-47c6-9cde-ac654d522a8d",
   "metadata": {
    "ExecuteTime": {
     "end_time": "2024-02-20T14:29:57.483133823Z",
     "start_time": "2024-02-20T14:29:57.320617370Z"
    }
   },
   "outputs": [],
   "source": [
    "import pyroll.basic as pr\n",
    "#import pyroll.jmak_recrystallization"
   ]
  },
  {
   "cell_type": "code",
   "execution_count": 5,
   "id": "832905b0-871a-46a3-828f-091148c4ca2e",
   "metadata": {
    "ExecuteTime": {
     "end_time": "2024-02-20T14:29:57.508279674Z",
     "start_time": "2024-02-20T14:29:57.505185694Z"
    },
    "tags": [
     "parameters"
    ]
   },
   "outputs": [],
   "source": [
    "OUTPUT_FILENAME = \"sim_nominal_results.csv\""
   ]
  },
  {
   "cell_type": "code",
   "execution_count": 6,
   "id": "36aa07ba-a6a5-4f4e-bf4f-87a6f4ecc6b6",
   "metadata": {
    "ExecuteTime": {
     "end_time": "2024-02-20T14:28:06.895925950Z",
     "start_time": "2024-02-20T14:28:05.419639285Z"
    },
    "tags": []
   },
   "outputs": [
    {
     "name": "stdout",
     "output_type": "stream",
     "text": [
      "\u001b[31m╭─\u001b[0m\u001b[31m────────────────────\u001b[0m\u001b[31m \u001b[0m\u001b[1;31mTraceback \u001b[0m\u001b[1;2;31m(most recent call last)\u001b[0m\u001b[31m \u001b[0m\u001b[31m─────────────────────\u001b[0m\u001b[31m─╮\u001b[0m\n",
      "\u001b[31m│\u001b[0m in \u001b[92m<module>\u001b[0m:\u001b[94m1\u001b[0m                                                                \u001b[31m│\u001b[0m\n",
      "\u001b[31m╰──────────────────────────────────────────────────────────────────────────────╯\u001b[0m\n",
      "\u001b[1;91mNameError: \u001b[0mname \u001b[32m'deepcopy'\u001b[0m is not defined\n"
     ]
    }
   ],
   "source": [
    "sequence = deepcopy(PASS_SEQUENCE)\n",
    "sequence.solve(IN_PROFILE)       \n",
    "\n",
    "result = { (\"draw\", \"diameter\"): DIAMETER, (\"draw\", \"temperature\"): TEMPERATURE } | (\n",
    "    FIELDS.items()\n",
    "    |> starmap$((key, extractor) -> (\n",
    "            sequence.units \n",
    "            |> filter$(u -> isinstance(u, pr.RollPass)) \n",
    "            |> map$(u -> ((key, u.label), extractor(u))) \n",
    "            |> filter$(t -> t[1] is not None)\n",
    "        )\n",
    "    )\n",
    "    |> flatten\n",
    "    |> dict            \n",
    ")"
   ]
  },
  {
   "cell_type": "code",
   "execution_count": 7,
   "id": "e1380b25-c487-432d-94dd-4ca9107d33d5",
   "metadata": {
    "ExecuteTime": {
     "end_time": "2024-02-20T14:25:13.708801512Z",
     "start_time": "2024-02-20T14:25:13.610380895Z"
    },
    "tags": []
   },
   "outputs": [
    {
     "name": "stdout",
     "output_type": "stream",
     "text": [
      "\u001b[31m╭─\u001b[0m\u001b[31m────────────────────\u001b[0m\u001b[31m \u001b[0m\u001b[1;31mTraceback \u001b[0m\u001b[1;2;31m(most recent call last)\u001b[0m\u001b[31m \u001b[0m\u001b[31m─────────────────────\u001b[0m\u001b[31m─╮\u001b[0m\n",
      "\u001b[31m│\u001b[0m in \u001b[92m<module>\u001b[0m:\u001b[94m1\u001b[0m                                                                \u001b[31m│\u001b[0m\n",
      "\u001b[31m╰──────────────────────────────────────────────────────────────────────────────╯\u001b[0m\n",
      "\u001b[1;91mNameError: \u001b[0mname \u001b[32m'pd'\u001b[0m is not defined\n"
     ]
    }
   ],
   "source": [
    "df = result |> pd.Series |> .T |> .infer_objects()\n",
    "df"
   ]
  },
  {
   "cell_type": "code",
   "execution_count": null,
   "id": "64ee2b8f-17b5-465d-bc0e-7c1732d92d6e",
   "metadata": {
    "ExecuteTime": {
     "end_time": "2024-02-20T14:25:23.691937761Z",
     "start_time": "2024-02-20T14:25:23.558350183Z"
    },
    "tags": []
   },
   "outputs": [],
   "source": [
    "df.to_csv(DATA_DIR / OUTPUT_FILENAME)"
   ]
  },
  {
   "cell_type": "code",
   "execution_count": null,
   "id": "7c053f54-51c4-451a-b927-6ef26db94fa0",
   "metadata": {
    "jupyter": {
     "source_hidden": true
    },
    "tags": []
   },
   "outputs": [],
   "source": []
  }
 ],
 "metadata": {
  "kernelspec": {
   "display_name": "Coconut",
   "language": "coconut",
   "name": "coconut"
  },
  "language_info": {
   "codemirror_mode": {
    "name": "ipython",
    "version": 3
   },
   "file_extension": ".coco",
   "mimetype": "text/x-python3",
   "name": "coconut",
   "pygments_lexer": "coconut",
   "version": "3.1.0"
  }
 },
 "nbformat": 4,
 "nbformat_minor": 5
}
